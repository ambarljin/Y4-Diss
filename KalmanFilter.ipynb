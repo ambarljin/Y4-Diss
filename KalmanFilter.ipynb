{
 "cells": [
  {
   "cell_type": "markdown",
   "metadata": {},
   "source": [
    "# General Kalman Filter "
   ]
  },
  {
   "cell_type": "code",
   "execution_count": 6,
   "metadata": {},
   "outputs": [],
   "source": [
    "import numpy as np\n",
    "def PredictedAndPosterior( Observations, priorThetaMean, priorThetaVariance,transitionMatrix, transitionNoiseVariance, observationMatrix, observationNoiseVariance):\n",
    "    ObservationPrediction = []\n",
    "    ThetasPredictedMean = []\n",
    "    ThetasPredictedVar = []\n",
    "    ThetasPosteriorMean = []\n",
    "    ThetasPosteriorVar = []\n",
    "    SmoothedObservations = []\n",
    "    ThetaMean= priorThetaMean\n",
    "    ThetaVar = priorThetaVariance\n",
    "    \n",
    "    for i in range(0,len(Observations)):\n",
    "\n",
    "        PredictionThetaMean = transitionMatrix@ThetaMean\n",
    " \n",
    "        PredictionThetaVariance = transitionMatrix @ (ThetaVar @ transitionMatrix.T) + transitionNoiseVariance\n",
    "        \n",
    "        ThetasPredictedMean.append(PredictionThetaMean)\n",
    "        ThetasPredictedVar.append(PredictionThetaVariance)\n",
    "        ObservationPrediction.append( observationMatrix @ PredictionThetaMean )\n",
    "     \n",
    "        CovarianceOfInnovation =  observationMatrix @ ( PredictionThetaVariance @ observationMatrix.T)+ observationNoiseVariance\n",
    "        OptimalKalmanGain = PredictionThetaVariance @ ( observationMatrix.T @ np.linalg.inv(CovarianceOfInnovation) )\n",
    "        \n",
    "        Innovation = Observations[i] - np.matmul( observationMatrix,PredictionThetaMean )\n",
    "       \n",
    "        ThetaMean = PredictionThetaMean + np.matmul(OptimalKalmanGain,Innovation)\n",
    "        \n",
    "        ThetaVar = np.matmul((np.identity(transitionMatrix.shape[0])-np.matmul( OptimalKalmanGain,observationMatrix)) , PredictionThetaVariance)\n",
    "        \n",
    "        SmoothedObservations.append( observationMatrix @ ThetaMean )\n",
    "        ThetasPosteriorMean.append(ThetaMean)\n",
    "        ThetasPosteriorVar.append(ThetaVar)\n",
    "    \n",
    "    return ObservationPrediction ,ThetasPredictedMean , ThetasPredictedVar,ThetasPosteriorMean, ThetasPosteriorVar,SmoothedObservations"
   ]
  },
  {
   "cell_type": "code",
   "execution_count": 2,
   "metadata": {},
   "outputs": [],
   "source": [
    "def GenerateSample(trueTheta,transitionMatrix, transitionNoiseVariance, observationMatrix, observationNoiseVariance, number):\n",
    "    \n",
    "   \n",
    "    Observations = []\n",
    "    TrueThetas = []\n",
    "    ThetaK = trueTheta\n",
    "    MeanO = [0] * observationNoiseVariance.shape[0]\n",
    "    MeanT= [0] * transitionNoiseVariance.shape[0]\n",
    "    \n",
    "    for i in range(0,number):\n",
    "       \n",
    "        ThetaK = (transitionMatrix@ ThetaK) + np.transpose( np.random.default_rng().multivariate_normal(MeanT,transitionNoiseVariance,1) )\n",
    "        \n",
    "        ObservationK = (observationMatrix@ ThetaK) + np.transpose( np.random.default_rng().multivariate_normal(MeanO,observationNoiseVariance,1) )\n",
    " \n",
    "        Observations.append(ObservationK)\n",
    "        TrueThetas.append(ThetaK)\n",
    "    \n",
    "    return TrueThetas, Observations"
   ]
  },
  {
   "cell_type": "code",
   "execution_count": 9,
   "metadata": {},
   "outputs": [
    {
     "data": {
      "text/html": [
       "<style>\n",
       "        .bk-notebook-logo {\n",
       "            display: block;\n",
       "            width: 20px;\n",
       "            height: 20px;\n",
       "            background-image: url(data:image/png;base64,iVBORw0KGgoAAAANSUhEUgAAABQAAAAUCAYAAACNiR0NAAAABHNCSVQICAgIfAhkiAAAAAlwSFlzAAALEgAACxIB0t1+/AAAABx0RVh0U29mdHdhcmUAQWRvYmUgRmlyZXdvcmtzIENTNui8sowAAAOkSURBVDiNjZRtaJVlGMd/1/08zzln5zjP1LWcU9N0NkN8m2CYjpgQYQXqSs0I84OLIC0hkEKoPtiH3gmKoiJDU7QpLgoLjLIQCpEsNJ1vqUOdO7ppbuec5+V+rj4ctwzd8IIbbi6u+8f1539dt3A78eXC7QizUF7gyV1fD1Yqg4JWz84yffhm0qkFqBogB9rM8tZdtwVsPUhWhGcFJngGeWrPzHm5oaMmkfEg1usvLFyc8jLRqDOMru7AyC8saQr7GG7f5fvDeH7Ej8CM66nIF+8yngt6HWaKh7k49Soy9nXurCi1o3qUbS3zWfrYeQDTB/Qj6kX6Ybhw4B+bOYoLKCC9H3Nu/leUTZ1JdRWkkn2ldcCamzrcf47KKXdAJllSlxAOkRgyHsGC/zRday5Qld9DyoM4/q/rUoy/CXh3jzOu3bHUVZeU+DEn8FInkPBFlu3+nW3Nw0mk6vCDiWg8CeJaxEwuHS3+z5RgY+YBR6V1Z1nxSOfoaPa4LASWxxdNp+VWTk7+4vzaou8v8PN+xo+KY2xsw6une2frhw05CTYOmQvsEhjhWjn0bmXPjpE1+kplmmkP3suftwTubK9Vq22qKmrBhpY4jvd5afdRA3wGjFAgcnTK2s4hY0/GPNIb0nErGMCRxWOOX64Z8RAC4oCXdklmEvcL8o0BfkNK4lUg9HTl+oPlQxdNo3Mg4Nv175e/1LDGzZen30MEjRUtmXSfiTVu1kK8W4txyV6BMKlbgk3lMwYCiusNy9fVfvvwMxv8Ynl6vxoByANLTWplvuj/nF9m2+PDtt1eiHPBr1oIfhCChQMBw6Aw0UulqTKZdfVvfG7VcfIqLG9bcldL/+pdWTLxLUy8Qq38heUIjh4XlzZxzQm19lLFlr8vdQ97rjZVOLf8nclzckbcD4wxXMidpX30sFd37Fv/GtwwhzhxGVAprjbg0gCAEeIgwCZyTV2Z1REEW8O4py0wsjeloKoMr6iCY6dP92H6Vw/oTyICIthibxjm/DfN9lVz8IqtqKYLUXfoKVMVQVVJOElGjrnnUt9T9wbgp8AyYKaGlqingHZU/uG2NTZSVqwHQTWkx9hxjkpWDaCg6Ckj5qebgBVbT3V3NNXMSiWSDdGV3hrtzla7J+duwPOToIg42ChPQOQjspnSlp1V+Gjdged7+8UN5CRAV7a5EdFNwCjEaBR27b3W890TE7g24NAP/mMDXRWrGoFPQI9ls/MWO2dWFAar/xcOIImbbpA3zgAAAABJRU5ErkJggg==);\n",
       "        }\n",
       "    </style>\n",
       "    <div>\n",
       "        <a href=\"https://bokeh.org\" target=\"_blank\" class=\"bk-notebook-logo\"></a>\n",
       "        <span id=\"f338404d-67e4-4699-a594-93c54cf8aad8\">Loading BokehJS ...</span>\n",
       "    </div>\n"
      ]
     },
     "metadata": {},
     "output_type": "display_data"
    },
    {
     "data": {
      "application/javascript": "(function(root) {\n  function now() {\n    return new Date();\n  }\n\n  const force = true;\n\n  if (typeof root._bokeh_onload_callbacks === \"undefined\" || force === true) {\n    root._bokeh_onload_callbacks = [];\n    root._bokeh_is_loading = undefined;\n  }\n\nconst JS_MIME_TYPE = 'application/javascript';\n  const HTML_MIME_TYPE = 'text/html';\n  const EXEC_MIME_TYPE = 'application/vnd.bokehjs_exec.v0+json';\n  const CLASS_NAME = 'output_bokeh rendered_html';\n\n  /**\n   * Render data to the DOM node\n   */\n  function render(props, node) {\n    const script = document.createElement(\"script\");\n    node.appendChild(script);\n  }\n\n  /**\n   * Handle when an output is cleared or removed\n   */\n  function handleClearOutput(event, handle) {\n    function drop(id) {\n      const view = Bokeh.index.get_by_id(id)\n      if (view != null) {\n        view.model.document.clear()\n        Bokeh.index.delete(view)\n      }\n    }\n\n    const cell = handle.cell;\n\n    const id = cell.output_area._bokeh_element_id;\n    const server_id = cell.output_area._bokeh_server_id;\n\n    // Clean up Bokeh references\n    if (id != null) {\n      drop(id)\n    }\n\n    if (server_id !== undefined) {\n      // Clean up Bokeh references\n      const cmd_clean = \"from bokeh.io.state import curstate; print(curstate().uuid_to_server['\" + server_id + \"'].get_sessions()[0].document.roots[0]._id)\";\n      cell.notebook.kernel.execute(cmd_clean, {\n        iopub: {\n          output: function(msg) {\n            const id = msg.content.text.trim()\n            drop(id)\n          }\n        }\n      });\n      // Destroy server and session\n      const cmd_destroy = \"import bokeh.io.notebook as ion; ion.destroy_server('\" + server_id + \"')\";\n      cell.notebook.kernel.execute(cmd_destroy);\n    }\n  }\n\n  /**\n   * Handle when a new output is added\n   */\n  function handleAddOutput(event, handle) {\n    const output_area = handle.output_area;\n    const output = handle.output;\n\n    // limit handleAddOutput to display_data with EXEC_MIME_TYPE content only\n    if ((output.output_type != \"display_data\") || (!Object.prototype.hasOwnProperty.call(output.data, EXEC_MIME_TYPE))) {\n      return\n    }\n\n    const toinsert = output_area.element.find(\".\" + CLASS_NAME.split(' ')[0]);\n\n    if (output.metadata[EXEC_MIME_TYPE][\"id\"] !== undefined) {\n      toinsert[toinsert.length - 1].firstChild.textContent = output.data[JS_MIME_TYPE];\n      // store reference to embed id on output_area\n      output_area._bokeh_element_id = output.metadata[EXEC_MIME_TYPE][\"id\"];\n    }\n    if (output.metadata[EXEC_MIME_TYPE][\"server_id\"] !== undefined) {\n      const bk_div = document.createElement(\"div\");\n      bk_div.innerHTML = output.data[HTML_MIME_TYPE];\n      const script_attrs = bk_div.children[0].attributes;\n      for (let i = 0; i < script_attrs.length; i++) {\n        toinsert[toinsert.length - 1].firstChild.setAttribute(script_attrs[i].name, script_attrs[i].value);\n        toinsert[toinsert.length - 1].firstChild.textContent = bk_div.children[0].textContent\n      }\n      // store reference to server id on output_area\n      output_area._bokeh_server_id = output.metadata[EXEC_MIME_TYPE][\"server_id\"];\n    }\n  }\n\n  function register_renderer(events, OutputArea) {\n\n    function append_mime(data, metadata, element) {\n      // create a DOM node to render to\n      const toinsert = this.create_output_subarea(\n        metadata,\n        CLASS_NAME,\n        EXEC_MIME_TYPE\n      );\n      this.keyboard_manager.register_events(toinsert);\n      // Render to node\n      const props = {data: data, metadata: metadata[EXEC_MIME_TYPE]};\n      render(props, toinsert[toinsert.length - 1]);\n      element.append(toinsert);\n      return toinsert\n    }\n\n    /* Handle when an output is cleared or removed */\n    events.on('clear_output.CodeCell', handleClearOutput);\n    events.on('delete.Cell', handleClearOutput);\n\n    /* Handle when a new output is added */\n    events.on('output_added.OutputArea', handleAddOutput);\n\n    /**\n     * Register the mime type and append_mime function with output_area\n     */\n    OutputArea.prototype.register_mime_type(EXEC_MIME_TYPE, append_mime, {\n      /* Is output safe? */\n      safe: true,\n      /* Index of renderer in `output_area.display_order` */\n      index: 0\n    });\n  }\n\n  // register the mime type if in Jupyter Notebook environment and previously unregistered\n  if (root.Jupyter !== undefined) {\n    const events = require('base/js/events');\n    const OutputArea = require('notebook/js/outputarea').OutputArea;\n\n    if (OutputArea.prototype.mime_types().indexOf(EXEC_MIME_TYPE) == -1) {\n      register_renderer(events, OutputArea);\n    }\n  }\n  if (typeof (root._bokeh_timeout) === \"undefined\" || force === true) {\n    root._bokeh_timeout = Date.now() + 5000;\n    root._bokeh_failed_load = false;\n  }\n\n  const NB_LOAD_WARNING = {'data': {'text/html':\n     \"<div style='background-color: #fdd'>\\n\"+\n     \"<p>\\n\"+\n     \"BokehJS does not appear to have successfully loaded. If loading BokehJS from CDN, this \\n\"+\n     \"may be due to a slow or bad network connection. Possible fixes:\\n\"+\n     \"</p>\\n\"+\n     \"<ul>\\n\"+\n     \"<li>re-rerun `output_notebook()` to attempt to load from CDN again, or</li>\\n\"+\n     \"<li>use INLINE resources instead, as so:</li>\\n\"+\n     \"</ul>\\n\"+\n     \"<code>\\n\"+\n     \"from bokeh.resources import INLINE\\n\"+\n     \"output_notebook(resources=INLINE)\\n\"+\n     \"</code>\\n\"+\n     \"</div>\"}};\n\n  function display_loaded() {\n    const el = document.getElementById(\"f338404d-67e4-4699-a594-93c54cf8aad8\");\n    if (el != null) {\n      el.textContent = \"BokehJS is loading...\";\n    }\n    if (root.Bokeh !== undefined) {\n      if (el != null) {\n        el.textContent = \"BokehJS \" + root.Bokeh.version + \" successfully loaded.\";\n      }\n    } else if (Date.now() < root._bokeh_timeout) {\n      setTimeout(display_loaded, 100)\n    }\n  }\n\n  function run_callbacks() {\n    try {\n      root._bokeh_onload_callbacks.forEach(function(callback) {\n        if (callback != null)\n          callback();\n      });\n    } finally {\n      delete root._bokeh_onload_callbacks\n    }\n    console.debug(\"Bokeh: all callbacks have finished\");\n  }\n\n  function load_libs(css_urls, js_urls, callback) {\n    if (css_urls == null) css_urls = [];\n    if (js_urls == null) js_urls = [];\n\n    root._bokeh_onload_callbacks.push(callback);\n    if (root._bokeh_is_loading > 0) {\n      console.debug(\"Bokeh: BokehJS is being loaded, scheduling callback at\", now());\n      return null;\n    }\n    if (js_urls == null || js_urls.length === 0) {\n      run_callbacks();\n      return null;\n    }\n    console.debug(\"Bokeh: BokehJS not loaded, scheduling load and callback at\", now());\n    root._bokeh_is_loading = css_urls.length + js_urls.length;\n\n    function on_load() {\n      root._bokeh_is_loading--;\n      if (root._bokeh_is_loading === 0) {\n        console.debug(\"Bokeh: all BokehJS libraries/stylesheets loaded\");\n        run_callbacks()\n      }\n    }\n\n    function on_error(url) {\n      console.error(\"failed to load \" + url);\n    }\n\n    for (let i = 0; i < css_urls.length; i++) {\n      const url = css_urls[i];\n      const element = document.createElement(\"link\");\n      element.onload = on_load;\n      element.onerror = on_error.bind(null, url);\n      element.rel = \"stylesheet\";\n      element.type = \"text/css\";\n      element.href = url;\n      console.debug(\"Bokeh: injecting link tag for BokehJS stylesheet: \", url);\n      document.body.appendChild(element);\n    }\n\n    for (let i = 0; i < js_urls.length; i++) {\n      const url = js_urls[i];\n      const element = document.createElement('script');\n      element.onload = on_load;\n      element.onerror = on_error.bind(null, url);\n      element.async = false;\n      element.src = url;\n      console.debug(\"Bokeh: injecting script tag for BokehJS library: \", url);\n      document.head.appendChild(element);\n    }\n  };\n\n  function inject_raw_css(css) {\n    const element = document.createElement(\"style\");\n    element.appendChild(document.createTextNode(css));\n    document.body.appendChild(element);\n  }\n\n  const js_urls = [\"https://cdn.bokeh.org/bokeh/release/bokeh-3.3.0.min.js\", \"https://cdn.bokeh.org/bokeh/release/bokeh-gl-3.3.0.min.js\", \"https://cdn.bokeh.org/bokeh/release/bokeh-widgets-3.3.0.min.js\", \"https://cdn.bokeh.org/bokeh/release/bokeh-tables-3.3.0.min.js\", \"https://cdn.bokeh.org/bokeh/release/bokeh-mathjax-3.3.0.min.js\"];\n  const css_urls = [];\n\n  const inline_js = [    function(Bokeh) {\n      Bokeh.set_log_level(\"info\");\n    },\nfunction(Bokeh) {\n    }\n  ];\n\n  function run_inline_js() {\n    if (root.Bokeh !== undefined || force === true) {\n          for (let i = 0; i < inline_js.length; i++) {\n      inline_js[i].call(root, root.Bokeh);\n    }\nif (force === true) {\n        display_loaded();\n      }} else if (Date.now() < root._bokeh_timeout) {\n      setTimeout(run_inline_js, 100);\n    } else if (!root._bokeh_failed_load) {\n      console.log(\"Bokeh: BokehJS failed to load within specified timeout.\");\n      root._bokeh_failed_load = true;\n    } else if (force !== true) {\n      const cell = $(document.getElementById(\"f338404d-67e4-4699-a594-93c54cf8aad8\")).parents('.cell').data().cell;\n      cell.output_area.append_execute_result(NB_LOAD_WARNING)\n    }\n  }\n\n  if (root._bokeh_is_loading === 0) {\n    console.debug(\"Bokeh: BokehJS loaded, going straight to plotting\");\n    run_inline_js();\n  } else {\n    load_libs(css_urls, js_urls, function() {\n      console.debug(\"Bokeh: BokehJS plotting callback run at\", now());\n      run_inline_js();\n    });\n  }\n}(window));",
      "application/vnd.bokehjs_load.v0+json": ""
     },
     "metadata": {},
     "output_type": "display_data"
    }
   ],
   "source": [
    "from bokeh.io import output_notebook\n",
    "from bokeh.plotting import figure, show\n",
    "from ipywidgets import interactive \n",
    "output_notebook()\n",
    "\n",
    "\n",
    "def GeneralKalmanFilter( trueTheta, transitionMatrix, transitionNoiseVariance, observationMatrix, observationNoiseVariance, priorThetaMean, priorThetaVariance,number):\n",
    "\n",
    "    #simulat some data\n",
    "    TrueThetas, Observations = GenerateSample(trueTheta,transitionMatrix, transitionNoiseVariance, observationMatrix, observationNoiseVariance, number)\n",
    "    \n",
    "    #Calculate predicted theta for each time step as well as the posterior\n",
    "    ObservationPrediction ,ThetasPredictedMean ,ThetasPredictedVar,ThetasPosteriorMean, ThetasPosteriorVar,SmoothedObservations = PredictedAndPosterior( Observations, priorThetaMean, priorThetaVariance,transitionMatrix, transitionNoiseVariance, observationMatrix, observationNoiseVariance)\n",
    "    return TrueThetas, Observations, ObservationPrediction ,ThetasPredictedMean , ThetasPredictedVar,ThetasPosteriorMean, ThetasPosteriorVar,SmoothedObservations\n",
    "    \n",
    "    \n",
    "    "
   ]
  },
  {
   "cell_type": "markdown",
   "metadata": {},
   "source": [
    "# Useful Functions"
   ]
  },
  {
   "cell_type": "code",
   "execution_count": 20,
   "metadata": {},
   "outputs": [],
   "source": [
    "def LeadLag(path,lagging =1):\n",
    "    if lagging == 0:\n",
    "        return path\n",
    "    \n",
    "    path = np.repeat(path, lagging+1,axis=0)\n",
    "    lead = np.copy(path)\n",
    "    lead = lead[lagging:]\n",
    "    lag = np.copy(path)\n",
    "    lag = path[:-lagging]\n",
    "\n",
    "    \n",
    "    path = np.concatenate((lead,lag),axis=1)\n",
    "    return(path)"
   ]
  },
  {
   "cell_type": "markdown",
   "metadata": {},
   "source": [
    "# Testing Kalman Filter\n"
   ]
  },
  {
   "cell_type": "code",
   "execution_count": 7,
   "metadata": {},
   "outputs": [],
   "source": [
    "TrueThetas, Observations, ObservationPrediction ,ThetasPredictedMean , ThetasPredictedVar,ThetasPosteriorMean, ThetasPosteriorVar,SmoothedObservations=GeneralKalmanFilter(\n",
    "    #True Theta\n",
    "    np.array([[2]]),\n",
    "    #Transition Matrix\n",
    "   np.array([[1.1]]),\n",
    "    #TransitionNoiseVariance\n",
    "    np.array([[1]]),\n",
    "    #Observation Matrix\n",
    "    np.array([[2]]),\n",
    "    #ObservationNoiseVariance\n",
    "    np.array([[1]]),\n",
    "    #priorTheta Mean\n",
    "    np.array([[3]]),\n",
    "    #priorTheta Variance\n",
    "    np.array([[2]]),\n",
    "    #number of observations\n",
    "    33              \n",
    ")"
   ]
  },
  {
   "cell_type": "code",
   "execution_count": 12,
   "metadata": {},
   "outputs": [
    {
     "data": {
      "text/html": [
       "\n",
       "  <div id=\"aef6f54d-de7d-41f6-a352-f7ef42a4d8a9\" data-root-id=\"p1164\" style=\"display: contents;\"></div>\n"
      ]
     },
     "metadata": {},
     "output_type": "display_data"
    },
    {
     "data": {
      "application/javascript": "(function(root) {\n  function embed_document(root) {\n  const docs_json = {\"303031be-21f8-4054-a85a-b255e600f59b\":{\"version\":\"3.3.0\",\"title\":\"Bokeh Application\",\"roots\":[{\"type\":\"object\",\"name\":\"Figure\",\"id\":\"p1164\",\"attributes\":{\"x_range\":{\"type\":\"object\",\"name\":\"DataRange1d\",\"id\":\"p1165\"},\"y_range\":{\"type\":\"object\",\"name\":\"DataRange1d\",\"id\":\"p1166\"},\"x_scale\":{\"type\":\"object\",\"name\":\"LinearScale\",\"id\":\"p1174\"},\"y_scale\":{\"type\":\"object\",\"name\":\"LinearScale\",\"id\":\"p1175\"},\"title\":{\"type\":\"object\",\"name\":\"Title\",\"id\":\"p1167\",\"attributes\":{\"text\":\"Gaussian DLM\"}},\"renderers\":[{\"type\":\"object\",\"name\":\"GlyphRenderer\",\"id\":\"p1199\",\"attributes\":{\"data_source\":{\"type\":\"object\",\"name\":\"ColumnDataSource\",\"id\":\"p1193\",\"attributes\":{\"selected\":{\"type\":\"object\",\"name\":\"Selection\",\"id\":\"p1194\",\"attributes\":{\"indices\":[],\"line_indices\":[]}},\"selection_policy\":{\"type\":\"object\",\"name\":\"UnionRenderers\",\"id\":\"p1195\"},\"data\":{\"type\":\"map\",\"entries\":[[\"x\",{\"type\":\"ndarray\",\"array\":{\"type\":\"bytes\",\"data\":\"AAAAAAAAAAAAAAAAAIDwPwAAAAAAgABAAAAAAADACEAAAAAAAIAQQAAAAAAAoBRAAAAAAADAGEAAAAAAAOAcQAAAAAAAgCBAAAAAAACQIkAAAAAAAKAkQAAAAAAAsCZAAAAAAADAKEAAAAAAANAqQAAAAAAA4CxAAAAAAADwLkAAAAAAAIAwQAAAAAAAiDFAAAAAAACQMkAAAAAAAJgzQAAAAAAAoDRAAAAAAACoNUAAAAAAALA2QAAAAAAAuDdAAAAAAADAOEAAAAAAAMg5QAAAAAAA0DpAAAAAAADYO0AAAAAAAOA8QAAAAAAA6D1AAAAAAADwPkAAAAAAAPg/QAAAAAAAgEBA\"},\"shape\":[33],\"dtype\":\"float64\",\"order\":\"little\"}],[\"y\",{\"type\":\"ndarray\",\"array\":{\"type\":\"bytes\",\"data\":\"Z2ZmZmZmGkDbolKdFGgVQA+JpD0rvxtAZi2b9iboFUCTtn9128YTQLG65BMwVBVAZGL368V4FUCmLyaM+VsaQBMJ3cv46CJAQb5ADr+ZKECME71pMLUlQPeY/ExeBiJApLSgB0WHJkBxVUvP+m8sQCoLLi1tZy1AjaMJKKiCLEBlGwlTm8UwQNd9F/sP/TRA+kh1FnSaOEBogXH9lPw7QMrvnvt9pz9AzuGXDYNFQECRbJVHVQhCQMRknCh6R0RA4g4bnCIcRkBY5wN9uQZKQHmD79H1OExAJVaNlvPtTUDZGyh6JCVRQPqt4ksquVNAHGGthfu0VUCUFb0LJTRYQKJFNheRMFtA\"},\"shape\":[33],\"dtype\":\"float64\",\"order\":\"little\"}]]}}},\"view\":{\"type\":\"object\",\"name\":\"CDSView\",\"id\":\"p1200\",\"attributes\":{\"filter\":{\"type\":\"object\",\"name\":\"AllIndices\",\"id\":\"p1201\"}}},\"glyph\":{\"type\":\"object\",\"name\":\"Circle\",\"id\":\"p1196\",\"attributes\":{\"x\":{\"type\":\"field\",\"field\":\"x\"},\"y\":{\"type\":\"field\",\"field\":\"y\"},\"size\":{\"type\":\"value\",\"value\":8},\"line_color\":{\"type\":\"value\",\"value\":\"green\"},\"fill_color\":{\"type\":\"value\",\"value\":\"green\"},\"hatch_color\":{\"type\":\"value\",\"value\":\"green\"}}},\"nonselection_glyph\":{\"type\":\"object\",\"name\":\"Circle\",\"id\":\"p1197\",\"attributes\":{\"x\":{\"type\":\"field\",\"field\":\"x\"},\"y\":{\"type\":\"field\",\"field\":\"y\"},\"size\":{\"type\":\"value\",\"value\":8},\"line_color\":{\"type\":\"value\",\"value\":\"green\"},\"line_alpha\":{\"type\":\"value\",\"value\":0.1},\"fill_color\":{\"type\":\"value\",\"value\":\"green\"},\"fill_alpha\":{\"type\":\"value\",\"value\":0.1},\"hatch_color\":{\"type\":\"value\",\"value\":\"green\"},\"hatch_alpha\":{\"type\":\"value\",\"value\":0.1}}},\"muted_glyph\":{\"type\":\"object\",\"name\":\"Circle\",\"id\":\"p1198\",\"attributes\":{\"x\":{\"type\":\"field\",\"field\":\"x\"},\"y\":{\"type\":\"field\",\"field\":\"y\"},\"size\":{\"type\":\"value\",\"value\":8},\"line_color\":{\"type\":\"value\",\"value\":\"green\"},\"line_alpha\":{\"type\":\"value\",\"value\":0.2},\"fill_color\":{\"type\":\"value\",\"value\":\"green\"},\"fill_alpha\":{\"type\":\"value\",\"value\":0.2},\"hatch_color\":{\"type\":\"value\",\"value\":\"green\"},\"hatch_alpha\":{\"type\":\"value\",\"value\":0.2}}}}},{\"type\":\"object\",\"name\":\"GlyphRenderer\",\"id\":\"p1210\",\"attributes\":{\"data_source\":{\"type\":\"object\",\"name\":\"ColumnDataSource\",\"id\":\"p1204\",\"attributes\":{\"selected\":{\"type\":\"object\",\"name\":\"Selection\",\"id\":\"p1205\",\"attributes\":{\"indices\":[],\"line_indices\":[]}},\"selection_policy\":{\"type\":\"object\",\"name\":\"UnionRenderers\",\"id\":\"p1206\"},\"data\":{\"type\":\"map\",\"entries\":[[\"x\",{\"type\":\"ndarray\",\"array\":{\"type\":\"bytes\",\"data\":\"AAAAAAAAAAAAAAAAAIDwPwAAAAAAgABAAAAAAADACEAAAAAAAIAQQAAAAAAAoBRAAAAAAADAGEAAAAAAAOAcQAAAAAAAgCBAAAAAAACQIkAAAAAAAKAkQAAAAAAAsCZAAAAAAADAKEAAAAAAANAqQAAAAAAA4CxAAAAAAADwLkAAAAAAAIAwQAAAAAAAiDFAAAAAAACQMkAAAAAAAJgzQAAAAAAAoDRAAAAAAACoNUAAAAAAALA2QAAAAAAAuDdAAAAAAADAOEAAAAAAAMg5QAAAAAAA0DpAAAAAAADYO0AAAAAAAOA8QAAAAAAA6D1AAAAAAADwPkAAAAAAAPg/QAAAAAAAgEBA\"},\"shape\":[33],\"dtype\":\"float64\",\"order\":\"little\"}],[\"y\",{\"type\":\"ndarray\",\"array\":{\"type\":\"bytes\",\"data\":\"rrzjlgf0EkDxR3Y5CPgZQFw4l1haWhJA+WNhitYxEUCuW5P7B1ATQPyb1geaKBNAtW5oU9p1GEAnWG6+6P0hQOQXJRbFDSdANV81jkTDIkCchlN4xqUeQDmZGQ56+CRAQTiplQyEKkAvbBh35GMqQNZDzTj+OClA+nyYhvbjLkDqZAkKmYozQMehK2JOpDZAQZz3mSScOUDRfunrL+88QHpNY6jfKz1AdbcT/OJqQEAtALejIIRCQM/TfM5pEERAHeTAWkP4R0AaNykwQ5VJQJ8ikwKXAUtAh72dnM9rT0DEtA1USBZSQMJMOCtUvFNAjJ8PCgIQVkB99+w/EtJYQJ2nJqYsPVtA\"},\"shape\":[33],\"dtype\":\"float64\",\"order\":\"little\"}]]}}},\"view\":{\"type\":\"object\",\"name\":\"CDSView\",\"id\":\"p1211\",\"attributes\":{\"filter\":{\"type\":\"object\",\"name\":\"AllIndices\",\"id\":\"p1212\"}}},\"glyph\":{\"type\":\"object\",\"name\":\"Circle\",\"id\":\"p1207\",\"attributes\":{\"x\":{\"type\":\"field\",\"field\":\"x\"},\"y\":{\"type\":\"field\",\"field\":\"y\"},\"size\":{\"type\":\"value\",\"value\":8},\"line_color\":{\"type\":\"value\",\"value\":\"red\"},\"fill_color\":{\"type\":\"value\",\"value\":\"red\"},\"hatch_color\":{\"type\":\"value\",\"value\":\"red\"}}},\"nonselection_glyph\":{\"type\":\"object\",\"name\":\"Circle\",\"id\":\"p1208\",\"attributes\":{\"x\":{\"type\":\"field\",\"field\":\"x\"},\"y\":{\"type\":\"field\",\"field\":\"y\"},\"size\":{\"type\":\"value\",\"value\":8},\"line_color\":{\"type\":\"value\",\"value\":\"red\"},\"line_alpha\":{\"type\":\"value\",\"value\":0.1},\"fill_color\":{\"type\":\"value\",\"value\":\"red\"},\"fill_alpha\":{\"type\":\"value\",\"value\":0.1},\"hatch_color\":{\"type\":\"value\",\"value\":\"red\"},\"hatch_alpha\":{\"type\":\"value\",\"value\":0.1}}},\"muted_glyph\":{\"type\":\"object\",\"name\":\"Circle\",\"id\":\"p1209\",\"attributes\":{\"x\":{\"type\":\"field\",\"field\":\"x\"},\"y\":{\"type\":\"field\",\"field\":\"y\"},\"size\":{\"type\":\"value\",\"value\":8},\"line_color\":{\"type\":\"value\",\"value\":\"red\"},\"line_alpha\":{\"type\":\"value\",\"value\":0.2},\"fill_color\":{\"type\":\"value\",\"value\":\"red\"},\"fill_alpha\":{\"type\":\"value\",\"value\":0.2},\"hatch_color\":{\"type\":\"value\",\"value\":\"red\"},\"hatch_alpha\":{\"type\":\"value\",\"value\":0.2}}}}}],\"toolbar\":{\"type\":\"object\",\"name\":\"Toolbar\",\"id\":\"p1173\",\"attributes\":{\"tools\":[{\"type\":\"object\",\"name\":\"PanTool\",\"id\":\"p1186\"},{\"type\":\"object\",\"name\":\"WheelZoomTool\",\"id\":\"p1187\",\"attributes\":{\"renderers\":\"auto\"}},{\"type\":\"object\",\"name\":\"BoxZoomTool\",\"id\":\"p1188\",\"attributes\":{\"overlay\":{\"type\":\"object\",\"name\":\"BoxAnnotation\",\"id\":\"p1189\",\"attributes\":{\"syncable\":false,\"level\":\"overlay\",\"visible\":false,\"left_units\":\"canvas\",\"right_units\":\"canvas\",\"top_units\":\"canvas\",\"bottom_units\":\"canvas\",\"line_color\":\"black\",\"line_alpha\":1.0,\"line_width\":2,\"line_dash\":[4,4],\"fill_color\":\"lightgrey\",\"fill_alpha\":0.5}}}},{\"type\":\"object\",\"name\":\"SaveTool\",\"id\":\"p1190\"},{\"type\":\"object\",\"name\":\"ResetTool\",\"id\":\"p1191\"},{\"type\":\"object\",\"name\":\"HelpTool\",\"id\":\"p1192\"}]}},\"left\":[{\"type\":\"object\",\"name\":\"LinearAxis\",\"id\":\"p1181\",\"attributes\":{\"ticker\":{\"type\":\"object\",\"name\":\"BasicTicker\",\"id\":\"p1182\",\"attributes\":{\"mantissas\":[1,2,5]}},\"formatter\":{\"type\":\"object\",\"name\":\"BasicTickFormatter\",\"id\":\"p1183\"},\"axis_label\":\"Position (ie yk)\",\"major_label_policy\":{\"type\":\"object\",\"name\":\"AllLabels\",\"id\":\"p1184\"}}}],\"below\":[{\"type\":\"object\",\"name\":\"LinearAxis\",\"id\":\"p1176\",\"attributes\":{\"ticker\":{\"type\":\"object\",\"name\":\"BasicTicker\",\"id\":\"p1177\",\"attributes\":{\"mantissas\":[1,2,5]}},\"formatter\":{\"type\":\"object\",\"name\":\"BasicTickFormatter\",\"id\":\"p1178\"},\"axis_label\":\"TimeStep\",\"major_label_policy\":{\"type\":\"object\",\"name\":\"AllLabels\",\"id\":\"p1179\"}}}],\"center\":[{\"type\":\"object\",\"name\":\"Grid\",\"id\":\"p1180\",\"attributes\":{\"axis\":{\"id\":\"p1176\"}}},{\"type\":\"object\",\"name\":\"Grid\",\"id\":\"p1185\",\"attributes\":{\"dimension\":1,\"axis\":{\"id\":\"p1181\"}}},{\"type\":\"object\",\"name\":\"Legend\",\"id\":\"p1202\",\"attributes\":{\"items\":[{\"type\":\"object\",\"name\":\"LegendItem\",\"id\":\"p1203\",\"attributes\":{\"label\":{\"type\":\"value\",\"value\":\"Positions Predicted\"},\"renderers\":[{\"id\":\"p1199\"}]}},{\"type\":\"object\",\"name\":\"LegendItem\",\"id\":\"p1213\",\"attributes\":{\"label\":{\"type\":\"value\",\"value\":\"Observed Positions\"},\"renderers\":[{\"id\":\"p1210\"}]}}]}}]}}]}};\n  const render_items = [{\"docid\":\"303031be-21f8-4054-a85a-b255e600f59b\",\"roots\":{\"p1164\":\"aef6f54d-de7d-41f6-a352-f7ef42a4d8a9\"},\"root_ids\":[\"p1164\"]}];\n  root.Bokeh.embed.embed_items_notebook(docs_json, render_items);\n  }\n  if (root.Bokeh !== undefined) {\n    embed_document(root);\n  } else {\n    let attempts = 0;\n    const timer = setInterval(function(root) {\n      if (root.Bokeh !== undefined) {\n        clearInterval(timer);\n        embed_document(root);\n      } else {\n        attempts++;\n        if (attempts > 100) {\n          clearInterval(timer);\n          console.log(\"Bokeh: ERROR: Unable to run BokehJS code because BokehJS library is missing\");\n        }\n      }\n    }, 10, root)\n  }\n})(window);",
      "application/vnd.bokehjs_exec.v0+json": ""
     },
     "metadata": {
      "application/vnd.bokehjs_exec.v0+json": {
       "id": "p1164"
      }
     },
     "output_type": "display_data"
    }
   ],
   "source": [
    "# Plot predictions against observations\n",
    "yObs = np.array(Observations)\n",
    "a,b,c = yObs.shape\n",
    "yObs= yObs.reshape((a,b*c))\n",
    "\n",
    "yPred = np.array(ObservationPrediction)\n",
    "a,b,c = yPred.shape\n",
    "yPred= yPred.reshape((a,b*c))\n",
    "\n",
    "x = np.linspace( 0 ,len(yPred),  len(yPred)) \n",
    "p = figure(title=\"Gaussian DLM\", x_axis_label=\"TimeStep\", y_axis_label=\"Position (ie yk)\")\n",
    "p.circle(x, yPred[:,0], legend_label=\"Positions Predicted\", color=\"green\", size=8)\n",
    "p.circle(x, yObs[:,0], legend_label=\"Observed Positions\", color=\"red\", size=8)\n",
    "show(p) "
   ]
  },
  {
   "cell_type": "markdown",
   "metadata": {},
   "source": [
    "# Models"
   ]
  },
  {
   "cell_type": "markdown",
   "metadata": {},
   "source": [
    "## 2D Constant velocity model"
   ]
  },
  {
   "cell_type": "code",
   "execution_count": 22,
   "metadata": {},
   "outputs": [],
   "source": [
    "observation_variance = 1.2\n",
    "transition_variance = 0.4\n",
    "\n",
    "\n",
    "TrueThetas, Observations, ObservationPrediction ,ThetasPredictedMean , ThetasPredictedVar,ThetasPosteriorMean, ThetasPosteriorVar, SmoothedObservations=GeneralKalmanFilter(\n",
    "    #True Theta\n",
    "    np.array([[1,1,2,3]]).T,\n",
    "    #Transition Matrix\n",
    "    np.array([[1, 0, 1, 0],[0, 1, 0, 1],[0, 0, 1, 0],[0, 0, 0, 1]]),\n",
    "    #TransitionNoiseVariance\n",
    "    transition_variance * np.eye(4),\n",
    "    #Observation Matrix\n",
    "    np.array([[1, 0, 0, 0],\n",
    "              [0, 1, 0, 0]]),\n",
    "    #ObservationNoiseVariance\n",
    "    observation_variance * np.eye(2),   \n",
    "    #priorTheta Mean\n",
    "    np.array([[1,1,3,4]]).T,\n",
    "    #priorTheta Variance\n",
    "    3* np.eye(4),\n",
    "    #number of observations\n",
    "    33              \n",
    ")\n"
   ]
  },
  {
   "cell_type": "code",
   "execution_count": 25,
   "metadata": {},
   "outputs": [
    {
     "data": {
      "text/html": [
       "\n",
       "  <div id=\"b22ec63d-4107-4346-8977-deb31340d0a4\" data-root-id=\"p1326\" style=\"display: contents;\"></div>\n"
      ]
     },
     "metadata": {},
     "output_type": "display_data"
    },
    {
     "data": {
      "application/javascript": "(function(root) {\n  function embed_document(root) {\n  const docs_json = {\"1ad66af2-7d0c-4439-8014-3ffd49d95d84\":{\"version\":\"3.3.0\",\"title\":\"Bokeh Application\",\"roots\":[{\"type\":\"object\",\"name\":\"Figure\",\"id\":\"p1326\",\"attributes\":{\"x_range\":{\"type\":\"object\",\"name\":\"DataRange1d\",\"id\":\"p1327\"},\"y_range\":{\"type\":\"object\",\"name\":\"DataRange1d\",\"id\":\"p1328\"},\"x_scale\":{\"type\":\"object\",\"name\":\"LinearScale\",\"id\":\"p1336\"},\"y_scale\":{\"type\":\"object\",\"name\":\"LinearScale\",\"id\":\"p1337\"},\"title\":{\"type\":\"object\",\"name\":\"Title\",\"id\":\"p1329\",\"attributes\":{\"text\":\"Gaussian DLM\"}},\"renderers\":[{\"type\":\"object\",\"name\":\"GlyphRenderer\",\"id\":\"p1361\",\"attributes\":{\"data_source\":{\"type\":\"object\",\"name\":\"ColumnDataSource\",\"id\":\"p1355\",\"attributes\":{\"selected\":{\"type\":\"object\",\"name\":\"Selection\",\"id\":\"p1356\",\"attributes\":{\"indices\":[],\"line_indices\":[]}},\"selection_policy\":{\"type\":\"object\",\"name\":\"UnionRenderers\",\"id\":\"p1357\"},\"data\":{\"type\":\"map\",\"entries\":[[\"x\",{\"type\":\"ndarray\",\"array\":{\"type\":\"bytes\",\"data\":\"GGpvOf5IDUCSXOFSZZgTQEpd+YVrMSBAXGrZpCJ8JkAmAhyggp0lQEfpCHMOOipAwtq4uQdcLUAIRxDI0xgwQG0IiCxSKDBA0qrlOsipMEA0kR1tYfUtQM4Af+bRKyxAilbmecPXKUA3zfwM+PwmQCisjUqiEiNA1MyAjgn5IUDUTXtbxrsXQAabEmoEGwFApP0e1VxM4D+BszFiE2gDwGmjxKjJIRTAB+ip6yF1IsA5uWDGMpkpwF5RqKEBzDPA94bZT7GHNsAG3ppy3fY6wAMt3qLUnUDA0yF732KfQsDN45qaspFFwIAZbsQLRUfAti/SQJ19SMAYELlScCpKwJgRTZ4cX0vA\"},\"shape\":[33],\"dtype\":\"float64\",\"order\":\"little\"}],[\"y\",{\"type\":\"ndarray\",\"array\":{\"type\":\"bytes\",\"data\":\"t2LbL7JIEUA6ZFlsUGYJQKI8aNRmTBJAjJGgDV58GkB1FVsvnA8cQJhT9gTN2yJADf0+XE29JkADPAjIsgsvQKXni+wZfDFAEjE/zkUKM0CGKdJQQDk0QAPpusr8UTVA4mZ9wEu3NECCB8MtV2IzQOMlv8rWxjNAfnFRLr5uMkAGN3UU4lQxQD2MdakmzCxASmZCFn2mKkA7/5+4aMgmQLIdzFfbWCtAdfxvfarjLUCUirdXr2grQDgnowFncitAXKmJ/C+MI0DuSA+H9dgfQE2ghg/Mah1AJzfUp5e9G0A0BGLU+r4gQMDCeWOuiiVAnFJ44dVxKUC18m/W044wQICYOpW9+jNA\"},\"shape\":[33],\"dtype\":\"float64\",\"order\":\"little\"}]]}}},\"view\":{\"type\":\"object\",\"name\":\"CDSView\",\"id\":\"p1362\",\"attributes\":{\"filter\":{\"type\":\"object\",\"name\":\"AllIndices\",\"id\":\"p1363\"}}},\"glyph\":{\"type\":\"object\",\"name\":\"Line\",\"id\":\"p1358\",\"attributes\":{\"x\":{\"type\":\"field\",\"field\":\"x\"},\"y\":{\"type\":\"field\",\"field\":\"y\"},\"line_color\":\"green\"}},\"nonselection_glyph\":{\"type\":\"object\",\"name\":\"Line\",\"id\":\"p1359\",\"attributes\":{\"x\":{\"type\":\"field\",\"field\":\"x\"},\"y\":{\"type\":\"field\",\"field\":\"y\"},\"line_color\":\"green\",\"line_alpha\":0.1}},\"muted_glyph\":{\"type\":\"object\",\"name\":\"Line\",\"id\":\"p1360\",\"attributes\":{\"x\":{\"type\":\"field\",\"field\":\"x\"},\"y\":{\"type\":\"field\",\"field\":\"y\"},\"line_color\":\"green\",\"line_alpha\":0.2}}}},{\"type\":\"object\",\"name\":\"GlyphRenderer\",\"id\":\"p1372\",\"attributes\":{\"data_source\":{\"type\":\"object\",\"name\":\"ColumnDataSource\",\"id\":\"p1366\",\"attributes\":{\"selected\":{\"type\":\"object\",\"name\":\"Selection\",\"id\":\"p1367\",\"attributes\":{\"indices\":[],\"line_indices\":[]}},\"selection_policy\":{\"type\":\"object\",\"name\":\"UnionRenderers\",\"id\":\"p1368\"},\"data\":{\"type\":\"map\",\"entries\":[[\"x\",{\"type\":\"ndarray\",\"array\":{\"type\":\"bytes\",\"data\":\"/E005K1GC0C2EBa8D1sRQA000pqp3iBAmVjLmd/XJkB8u71vsvgiQHiwx6Jg9SpACk0+A1UpLUD8zF/VvvUvQDW2JSJAEC9AFvLgrlF/MECAlbzU2vYrQB2/KMuZtStABxihtHtcKUDdgyhwaYAmQF9vPqDbXCJAaDCp4yK9IkDvGtbRTXQUQKirkvej+fU/QrSim+lA7z85c3McG6IFwEiMR9pfNhTAIeuCcNfKI8CN2f/k8NMpwIsj8FnRRjXAt8ASB32YNcCJ0jNLCyU7wIVLh0e5C0HAZy+fu4BlQsDwxsbXydRFwMJT11rM5kbA05ChOjkWSMCvS2yoqyBKwLcwrC4GKEvA\"},\"shape\":[33],\"dtype\":\"float64\",\"order\":\"little\"}],[\"y\",{\"type\":\"ndarray\",\"array\":{\"type\":\"bytes\",\"data\":\"OYXUmFOGEUA29GzBp2EAQDJretQpRRNALPfCqxkCHEAWUkziR1IaQPqBpKgbBCRANngpgBwAJ0B9rNlNfIIwQCXdCOqiITFANgB39bisMkDNnPNUpd0zQKWXDJKZFTVA2rZiXbHhM0DJhAWLBJ4yQO3SlkpzDzRA/h6ydLDfMUBQmJ1Doh4xQKCyr5sdDCtA1hi/hUU1K0AP1kklTWImQFWVYBJbmy5AWJF08EbgLkChLOEKyeIpQEFblcvEoitAdoU+1PBfIEAhc+IcKNUfQNOINrIPZh9AqzKBLtAoHUDz06MENK0iQErt1aPuaSdASU/De0wfKkB5iOZdh4YxQL2E9pdnWTRA\"},\"shape\":[33],\"dtype\":\"float64\",\"order\":\"little\"}]]}}},\"view\":{\"type\":\"object\",\"name\":\"CDSView\",\"id\":\"p1373\",\"attributes\":{\"filter\":{\"type\":\"object\",\"name\":\"AllIndices\",\"id\":\"p1374\"}}},\"glyph\":{\"type\":\"object\",\"name\":\"Line\",\"id\":\"p1369\",\"attributes\":{\"x\":{\"type\":\"field\",\"field\":\"x\"},\"y\":{\"type\":\"field\",\"field\":\"y\"},\"line_color\":\"red\"}},\"nonselection_glyph\":{\"type\":\"object\",\"name\":\"Line\",\"id\":\"p1370\",\"attributes\":{\"x\":{\"type\":\"field\",\"field\":\"x\"},\"y\":{\"type\":\"field\",\"field\":\"y\"},\"line_color\":\"red\",\"line_alpha\":0.1}},\"muted_glyph\":{\"type\":\"object\",\"name\":\"Line\",\"id\":\"p1371\",\"attributes\":{\"x\":{\"type\":\"field\",\"field\":\"x\"},\"y\":{\"type\":\"field\",\"field\":\"y\"},\"line_color\":\"red\",\"line_alpha\":0.2}}}}],\"toolbar\":{\"type\":\"object\",\"name\":\"Toolbar\",\"id\":\"p1335\",\"attributes\":{\"tools\":[{\"type\":\"object\",\"name\":\"PanTool\",\"id\":\"p1348\"},{\"type\":\"object\",\"name\":\"WheelZoomTool\",\"id\":\"p1349\",\"attributes\":{\"renderers\":\"auto\"}},{\"type\":\"object\",\"name\":\"BoxZoomTool\",\"id\":\"p1350\",\"attributes\":{\"overlay\":{\"type\":\"object\",\"name\":\"BoxAnnotation\",\"id\":\"p1351\",\"attributes\":{\"syncable\":false,\"level\":\"overlay\",\"visible\":false,\"left_units\":\"canvas\",\"right_units\":\"canvas\",\"top_units\":\"canvas\",\"bottom_units\":\"canvas\",\"line_color\":\"black\",\"line_alpha\":1.0,\"line_width\":2,\"line_dash\":[4,4],\"fill_color\":\"lightgrey\",\"fill_alpha\":0.5}}}},{\"type\":\"object\",\"name\":\"SaveTool\",\"id\":\"p1352\"},{\"type\":\"object\",\"name\":\"ResetTool\",\"id\":\"p1353\"},{\"type\":\"object\",\"name\":\"HelpTool\",\"id\":\"p1354\"}]}},\"left\":[{\"type\":\"object\",\"name\":\"LinearAxis\",\"id\":\"p1343\",\"attributes\":{\"ticker\":{\"type\":\"object\",\"name\":\"BasicTicker\",\"id\":\"p1344\",\"attributes\":{\"mantissas\":[1,2,5]}},\"formatter\":{\"type\":\"object\",\"name\":\"BasicTickFormatter\",\"id\":\"p1345\"},\"axis_label\":\"y\",\"major_label_policy\":{\"type\":\"object\",\"name\":\"AllLabels\",\"id\":\"p1346\"}}}],\"below\":[{\"type\":\"object\",\"name\":\"LinearAxis\",\"id\":\"p1338\",\"attributes\":{\"ticker\":{\"type\":\"object\",\"name\":\"BasicTicker\",\"id\":\"p1339\",\"attributes\":{\"mantissas\":[1,2,5]}},\"formatter\":{\"type\":\"object\",\"name\":\"BasicTickFormatter\",\"id\":\"p1340\"},\"axis_label\":\"x\",\"major_label_policy\":{\"type\":\"object\",\"name\":\"AllLabels\",\"id\":\"p1341\"}}}],\"center\":[{\"type\":\"object\",\"name\":\"Grid\",\"id\":\"p1342\",\"attributes\":{\"axis\":{\"id\":\"p1338\"}}},{\"type\":\"object\",\"name\":\"Grid\",\"id\":\"p1347\",\"attributes\":{\"dimension\":1,\"axis\":{\"id\":\"p1343\"}}},{\"type\":\"object\",\"name\":\"Legend\",\"id\":\"p1364\",\"attributes\":{\"items\":[{\"type\":\"object\",\"name\":\"LegendItem\",\"id\":\"p1365\",\"attributes\":{\"label\":{\"type\":\"value\",\"value\":\"Positions Smoothed\"},\"renderers\":[{\"id\":\"p1361\"}]}},{\"type\":\"object\",\"name\":\"LegendItem\",\"id\":\"p1375\",\"attributes\":{\"label\":{\"type\":\"value\",\"value\":\"Observed Positions\"},\"renderers\":[{\"id\":\"p1372\"}]}}]}}]}}]}};\n  const render_items = [{\"docid\":\"1ad66af2-7d0c-4439-8014-3ffd49d95d84\",\"roots\":{\"p1326\":\"b22ec63d-4107-4346-8977-deb31340d0a4\"},\"root_ids\":[\"p1326\"]}];\n  root.Bokeh.embed.embed_items_notebook(docs_json, render_items);\n  }\n  if (root.Bokeh !== undefined) {\n    embed_document(root);\n  } else {\n    let attempts = 0;\n    const timer = setInterval(function(root) {\n      if (root.Bokeh !== undefined) {\n        clearInterval(timer);\n        embed_document(root);\n      } else {\n        attempts++;\n        if (attempts > 100) {\n          clearInterval(timer);\n          console.log(\"Bokeh: ERROR: Unable to run BokehJS code because BokehJS library is missing\");\n        }\n      }\n    }, 10, root)\n  }\n})(window);",
      "application/vnd.bokehjs_exec.v0+json": ""
     },
     "metadata": {
      "application/vnd.bokehjs_exec.v0+json": {
       "id": "p1326"
      }
     },
     "output_type": "display_data"
    }
   ],
   "source": [
    "yObs = np.array(Observations)\n",
    "a,b,c = yObs.shape\n",
    "yObs= yObs.reshape((a,b*c))\n",
    "\n",
    "yPred = np.array(SmoothedObservations)\n",
    "a,b,c = yPred.shape\n",
    "yPred= yPred.reshape((a,b*c))\n",
    "p = figure(title=\"Gaussian DLM\", x_axis_label=\"x\", y_axis_label=\"y\")\n",
    "p.line(yPred[:,1],yPred[:,0], legend_label=\"Positions Smoothed\", color=\"green\")\n",
    "p.line(yObs[:,1],yObs[:,0], legend_label=\"Observed Positions\", color=\"red\" )\n",
    "show(p) "
   ]
  },
  {
   "cell_type": "markdown",
   "metadata": {},
   "source": [
    "## 3D contant velocity model\n"
   ]
  },
  {
   "cell_type": "code",
   "execution_count": 26,
   "metadata": {},
   "outputs": [],
   "source": [
    "xMoveVar=1\n",
    "yMoveVar=1\n",
    "zMoveVar=0\n",
    "T=1\n",
    "observationNoise=1\n",
    "TrueThetas, Observations, ObservationPrediction ,ThetasPredictedMean , ThetasPredictedVar,ThetasPosteriorMean, ThetasPosteriorVar,SmoothedObservations=GeneralKalmanFilter(\n",
    "                #True Theta\n",
    "                #[x,xVel,y,yVel,z]\n",
    "                np.array( [[1,1,3,3,0]]).T,\n",
    "                #Transition Matrix\n",
    "                np.array([\n",
    "                            [ 1, T, 0, 0, 0],\n",
    "                            [ 0, 1, 0, 0, 0],\n",
    "                            [ 0, 0, 1, T, 0],\n",
    "                            [ 0, 0, 0, 1, 0],\n",
    "                            [ 0, 0, 0, 0, 1]\n",
    "                        ]),\n",
    "                #TransitionNoiseVariance\n",
    "                np.array([\n",
    "                            [ xMoveVar*( (T**4)/4 ), xMoveVar*( (T**3)/2 ), 0, 0,0],\n",
    "                            [ xMoveVar*( (T**3)/2), xMoveVar*( T**2 ), 0, 0, 0],\n",
    "                            [ 0, 0, yMoveVar*( (T**4)/4 ), yMoveVar*( (T**3)/2 ), 0],\n",
    "                            [ 0, 0,yMoveVar*( (T**3)/2 ), yMoveVar*( T**2 ), 0],\n",
    "                            [ 0, 0, 0, 0, zMoveVar]\n",
    "                        ]),\n",
    "                #Observation Matrix\n",
    "                np.array([\n",
    "                            [ 1, 0, 0, 0, 0],\n",
    "                            [ 0, 0, 1, 0, 0],\n",
    "                            [ 0, 0, 0, 0, 1]\n",
    "                        ]),\n",
    "                #ObservationNoiseVariance\n",
    "                #observationNoise * np.eye(3),\n",
    "                np.array([\n",
    "                            [ 1, 0, 0],\n",
    "                            [ 0, 1, 0],\n",
    "                            [ 0, 0, 0.01]\n",
    "                        ]),   \n",
    "                #priorTheta Mean\n",
    "                np.array([ [1,3,3,5,0]]).T,\n",
    "                #priorTheta Variance\n",
    "                2* np.eye(5),\n",
    "                #number of observations\n",
    "                33              \n",
    "            ) "
   ]
  },
  {
   "cell_type": "code",
   "execution_count": 28,
   "metadata": {},
   "outputs": [
    {
     "data": {
      "image/png": "[encoded data removed]",
      "text/plain": [
       "<Figure size 432x288 with 1 Axes>"
      ]
     },
     "metadata": {
      "needs_background": "light"
     },
     "output_type": "display_data"
    }
   ],
   "source": [
    "Observations = np.array(Observations)\n",
    "Observations = Observations.reshape(Observations.shape[0],-1)\n",
    "\n",
    "SmoothedObservations = np.array(SmoothedObservations)\n",
    "SmoothedObservations = SmoothedObservations.reshape(SmoothedObservations.shape[0],-1)\n",
    "from mpl_toolkits import mplot3d\n",
    "import numpy as np\n",
    "import matplotlib.pyplot as plt\n",
    "\n",
    "\n",
    "fig = plt.figure()\n",
    " \n",
    "# syntax for 3-D projection\n",
    "ax = plt.axes(projection ='3d')\n",
    " \n",
    "# defining all 3 axis\n",
    "\n",
    " \n",
    "# plotting\n",
    "ax.plot(Observations[:,1],Observations[:,0],Observations[:,2], 'green')\n",
    "ax.plot(ObservationPrediction[:,1],ObservationPrediction[:,0],ObservationPrediction[:,2], 'red')\n",
    "ax.axes.set_zlim3d(bottom=0, top=10) \n",
    "\n",
    "ax.set_title('Constant velocity model')\n",
    "plt.show()"
   ]
  },
  {
   "cell_type": "markdown",
   "metadata": {},
   "source": [
    "## Constant Turn rate model"
   ]
  },
  {
   "cell_type": "code",
   "execution_count": 32,
   "metadata": {},
   "outputs": [],
   "source": [
    "import math\n",
    "T=1\n",
    "w= 0.3\n",
    "TrueThetas, Observations, ObservationPrediction ,ThetasPredictedMean , ThetasPredictedVar,ThetasPosteriorMean, ThetasPosteriorVar,SmoothedObservations=GeneralKalmanFilter(\n",
    "                #True Theta\n",
    "                #[x,xVel,y,yVel]\n",
    "                np.array( [[0,1,0,1]]).T,\n",
    "                #Transition Matrix\n",
    "                np.array([\n",
    "                            [ 1, math.sin(w*T)/w, 0, (math.cos(w*T)-1)/w],\n",
    "                            [ 0, math.cos(w*T), 0, -math.sin(w*T)],\n",
    "                            [ 0, (1-math.cos(w*T))/w, 1, math.sin(w*T)/w],\n",
    "                            [ 0, math.sin(w*T), 0, math.cos(w*T)]\n",
    "                        ]),\n",
    "                #TransitionNoiseVariance\n",
    "                np.array([\n",
    "                            [ \n",
    "                                (2*(w*T - math.sin(w*T)))/(w**3), \n",
    "                                (1 - math.cos(w*T))/(w**2), \n",
    "                                0, \n",
    "                                (w*T - math.sin(w*T))/(w**2)\n",
    "                            ],\n",
    "                            [ \n",
    "                                (1 - math.cos(w*T))/(w**2), \n",
    "                                T, \n",
    "                                (math.sin(w*T) - w*T)/(w**2), \n",
    "                                0\n",
    "                            ],\n",
    "                            [ \n",
    "                                0, \n",
    "                                ((math.sin(w*T) - w*T)/(w**2)),\n",
    "                                ((2*(w*T - math.sin(w*T)))/(w**3)),\n",
    "                                ( (1 - math.cos(w*T))/(w**2))\n",
    "                            ],\n",
    "                            [ \n",
    "                                (w*T - math.sin(w*T))/(w**2), \n",
    "                                0,\n",
    "                                ( (1 - math.cos(w*T))/(w**2)), \n",
    "                                T\n",
    "                            ],\n",
    "                        ]),\n",
    "                #Observation Matrix\n",
    "                np.array([\n",
    "                            [ 1, 0, 0, 0],\n",
    "                            [ 0, 0, 1, 0]\n",
    "                        ]),\n",
    "                #ObservationNoiseVariance\n",
    "                #observationNoise * np.eye(3),\n",
    "                np.array([\n",
    "                            [ 3, 0],\n",
    "                            [ 0, 3]\n",
    "                        ]),   \n",
    "                #priorTheta Mean\n",
    "                np.array([ [0,2,0,3]]).T,\n",
    "                #priorTheta Variance\n",
    "                1* np.eye(4),\n",
    "                #number of observations\n",
    "                33              \n",
    "            ) "
   ]
  },
  {
   "cell_type": "code",
   "execution_count": 34,
   "metadata": {},
   "outputs": [
    {
     "data": {
      "image/png": "[encoded data removed]",
      "text/plain": [
       "<Figure size 432x288 with 1 Axes>"
      ]
     },
     "metadata": {
      "needs_background": "light"
     },
     "output_type": "display_data"
    }
   ],
   "source": [
    "Observations = np.array(Observations)\n",
    "Observations = Observations.reshape(Observations.shape[0],-1)\n",
    "\n",
    "SmoothedObservations = np.array(SmoothedObservations)\n",
    "SmoothedObservations = SmoothedObservations.reshape(SmoothedObservations.shape[0],-1)\n",
    "from mpl_toolkits import mplot3d\n",
    "import numpy as np\n",
    "import matplotlib.pyplot as plt\n",
    "\n",
    "\n",
    "fig = plt.figure()\n",
    " \n",
    "# syntax for 3-D projection\n",
    "ax = plt.axes()\n",
    " \n",
    "# defining all 3 axis\n",
    "\n",
    " \n",
    "# plotting\n",
    "ax.plot(Observations[:,0],Observations[:,1], 'green')\n",
    "ax.plot(SmoothedObservations[:,0],SmoothedObservations[:,1], 'red')\n",
    "\n",
    "\n",
    "ax.set_title('Constant Turn Model with Turn rate 0.3')\n",
    "plt.show()"
   ]
  },
  {
   "cell_type": "markdown",
   "metadata": {},
   "source": [
    "# Predicting rate of velocity Change"
   ]
  },
  {
   "cell_type": "markdown",
   "metadata": {},
   "source": [
    "## Random Forest Classifier"
   ]
  },
  {
   "cell_type": "code",
   "execution_count": 41,
   "metadata": {},
   "outputs": [],
   "source": [
    "from sklearn.ensemble import RandomForestClassifier\n",
    "import iisignature \n",
    "import numpy as np\n",
    "import math\n",
    "import iisignature \n",
    "from sklearn.model_selection import train_test_split\n",
    "from sklearn.ensemble import RandomForestClassifier\n",
    "from sklearn.metrics import accuracy_score, classification_report\n",
    "from sklearn.linear_model import LogisticRegression\n",
    "import random\n",
    "def Train3D(xMoveVar=1, yMoveVar=1, zMoveVar=0.01, T=1, lag= 0, SignatureLevel=0, observationNoise=1,SignatureLog= False,pathType='Observations',testSize=0.2):\n",
    "    labels =[]\n",
    "    Data = []\n",
    "    for param in [1,0.9, 1.1]:\n",
    "        for k in range(0,100):\n",
    "            x = random.randint(0,22)\n",
    "            y= random.randint(0,22)\n",
    "            \n",
    "            TrueThetas, Observations, ObservationPrediction ,ThetasPredictedMean , ThetasPredictedVar,ThetasPosteriorMean, ThetasPosteriorVar,SmoothedObservations=GeneralKalmanFilter(\n",
    "                #True Theta\n",
    "                #[x,xVel,y,yVel,z]\n",
    "                np.array( [[x,1,y,3,0]]).T,\n",
    "                #Transition Matrix\n",
    "                np.array([\n",
    "                            [ 1, T, 0, 0, 0],\n",
    "                            [ 0, param, 0, 0, 0],\n",
    "                            [ 0, 0, 1, T, 0],\n",
    "                            [ 0, 0, 0, param, 0],\n",
    "                            [ 0, 0, 0, 0, 1]\n",
    "                        ]),\n",
    "                #TransitionNoiseVariance\n",
    "                np.array([\n",
    "                            [ xMoveVar*( (T**4)/4 ), xMoveVar*( (T**3)/2 ), 0, 0,0],\n",
    "                            [ xMoveVar*( (T**3)/2), xMoveVar*( T**2 ), 0, 0, 0],\n",
    "                            [ 0, 0, yMoveVar*( (T**4)/4 ), yMoveVar*( (T**3)/2 ), 0],\n",
    "                            [ 0, 0,yMoveVar*( (T**3)/2 ), yMoveVar*( T**2 ), 0],\n",
    "                            [ 0, 0, 0, 0, zMoveVar]\n",
    "                        ]),\n",
    "                #Observation Matrix\n",
    "                np.array([\n",
    "                            [ 1, 0, 0, 0, 0],\n",
    "                            [ 0, 0, 1, 0, 0],\n",
    "                            [ 0, 0, 0, 0, 1]\n",
    "                        ]),\n",
    "                #ObservationNoiseVariance\n",
    "                observationNoise * np.eye(3),   \n",
    "                #priorTheta Mean\n",
    "                np.array([ [x,3,y,5,0]]).T,\n",
    "                #priorTheta Variance\n",
    "                2* np.eye(5),\n",
    "                #number of observations\n",
    "                33              \n",
    "            )                  \n",
    "            if( pathType == 'Observations'):\n",
    "                path = Observations\n",
    "                d=3\n",
    "            elif( pathType == 'ObservationPrediction'):\n",
    "                path = ObservationPrediction\n",
    "                d=3\n",
    "            elif( pathType == 'SmoothedObservations'):\n",
    "                path = SmoothedObservations\n",
    "                d=3\n",
    "            elif( pathType == 'ThetasPosteriorMean'):\n",
    "                path = ThetasPosteriorMean\n",
    "                d=5\n",
    "            \n",
    "            path = np.array(path)\n",
    "            a,b,c = path.shape\n",
    "            path = path.reshape(a,b*c)\n",
    "            if(SignatureLevel>0):\n",
    "               \n",
    "                path = LeadLag(path,lagging=lag)\n",
    "               \n",
    "                if( SignatureLog ):\n",
    "                    if(lag>0):\n",
    "                        d= d*2\n",
    "                    s = iisignature.prepare(d,SignatureLevel)\n",
    "                    signature = iisignature.logsig(path,s)\n",
    "                else:\n",
    "                    signature = iisignature.sig(path ,SignatureLevel)\n",
    "                \n",
    "                Data.append(signature)\n",
    "\n",
    "            else:\n",
    "               \n",
    "                path = LeadLag(path,lagging=lag)\n",
    "               \n",
    "                Data.append(path)\n",
    "            \n",
    "         \n",
    "            labels.append(int(round((param-0.9)/0.1)))\n",
    "    \n",
    "   \n",
    "    Data= np.array(Data)\n",
    "    \n",
    "    Data = Data.reshape(Data.shape[0],-1)\n",
    "    accuracy =[]\n",
    "    for i in range(1,21):\n",
    "        X_train, X_test, y_train, y_test = train_test_split(Data, labels, test_size=testSize)\n",
    "        clf = RandomForestClassifier(n_estimators=30, random_state=42)   # You can choose a different classifier\n",
    "        clf.fit(X_train, y_train)\n",
    "        y_pred = clf.predict(X_test)\n",
    "        accuracy.append( accuracy_score(y_test, y_pred))\n",
    "        \n",
    "    #report = classification_report(y_test, y_pred)\n",
    "    return np.mean(accuracy)"
   ]
  },
  {
   "cell_type": "markdown",
   "metadata": {},
   "source": [
    "### Comparing Performance"
   ]
  },
  {
   "cell_type": "code",
   "execution_count": 42,
   "metadata": {},
   "outputs": [
    {
     "name": "stdout",
     "output_type": "stream",
     "text": [
      "Lag 0 + Observation\n",
      "0.7525\n",
      "Lag 1 + Observation\n",
      "0.8066666666666666\n",
      "Lag 0 + SmoothedObservations\n",
      "0.7825\n",
      "Lag 1 + SmoothedObservations\n",
      "0.8016666666666667\n"
     ]
    }
   ],
   "source": [
    "print(\"Lag 0 + Observation\")\n",
    "print(Train3D(lag=0))\n",
    "\n",
    "print(\"Lag 1 + Observation\")\n",
    "print(Train3D(lag=1))\n",
    "\n",
    "print(\"Lag 0 + SmoothedObservations\")\n",
    "print(Train3D(lag=0,pathType='SmoothedObservations'))\n",
    "\n",
    "print(\"Lag 1 + SmoothedObservations\")\n",
    "print(Train3D(lag=1,pathType='SmoothedObservations'))"
   ]
  },
  {
   "cell_type": "code",
   "execution_count": 43,
   "metadata": {},
   "outputs": [
    {
     "name": "stdout",
     "output_type": "stream",
     "text": [
      "Lag 0 + LogSig(Observations, 3)\n",
      "0.7625\n",
      "Lag 1 + LogSig(Observations, 3)\n",
      "0.8133333333333332\n",
      "Lag 0 + LogSig(Smoothed Observations, 3)\n",
      "0.8008333333333335\n",
      "Lag 1 + LogSig(Smoothed Observations, 3)\n",
      "0.7674999999999998\n"
     ]
    }
   ],
   "source": [
    "print(\"Lag 0 + LogSig(Observations, 3)\")\n",
    "print(Train3D(SignatureLog=True,SignatureLevel=3,lag=0))\n",
    "print(\"Lag 1 + LogSig(Observations, 3)\")\n",
    "print(Train3D(SignatureLog=True,SignatureLevel=3,lag=1))\n",
    "print(\"Lag 0 + LogSig(Smoothed Observations, 3)\")\n",
    "print(Train3D(SignatureLog=True,SignatureLevel=3,lag=0,pathType='SmoothedObservations'))\n",
    "\n",
    "\n",
    "print(\"Lag 1 + LogSig(Smoothed Observations, 3)\")\n",
    "print(Train3D(SignatureLog=True,SignatureLevel=3,lag=1,pathType='SmoothedObservations'))"
   ]
  },
  {
   "cell_type": "code",
   "execution_count": 44,
   "metadata": {},
   "outputs": [
    {
     "name": "stdout",
     "output_type": "stream",
     "text": [
      "Lag 0 + Sig(Observations, 3)\n",
      "0.8149999999999998\n",
      "Lag 1 + Sig(Observations, 3)\n",
      "0.7833333333333332\n",
      "Lag 0 + Sig(Smoothed Observations, 3)\n",
      "0.8291666666666668\n",
      "Lag 1 + Sig(Smoothed Observations, 3)\n",
      "0.8433333333333334\n"
     ]
    }
   ],
   "source": [
    "print(\"Lag 0 + Sig(Observations, 3)\")\n",
    "print(Train3D(SignatureLog=False,SignatureLevel=3,lag=0))\n",
    "print(\"Lag 1 + Sig(Observations, 3)\")\n",
    "print(Train3D(SignatureLog=False,SignatureLevel=3,lag=1))\n",
    "print(\"Lag 0 + Sig(Smoothed Observations, 3)\")\n",
    "print(Train3D(SignatureLog=False,SignatureLevel=3,lag=0,pathType='SmoothedObservations'))\n",
    "\n",
    "print(\"Lag 1 + Sig(Smoothed Observations, 3)\")\n",
    "print(Train3D(SignatureLog=False,SignatureLevel=3,lag=1,pathType='SmoothedObservations'))"
   ]
  },
  {
   "cell_type": "markdown",
   "metadata": {},
   "source": [
    "## Neural Network"
   ]
  },
  {
   "cell_type": "code",
   "execution_count": 45,
   "metadata": {},
   "outputs": [
    {
     "name": "stderr",
     "output_type": "stream",
     "text": [
      "2023-11-23 13:13:57.248926: I tensorflow/core/platform/cpu_feature_guard.cc:193] This TensorFlow binary is optimized with oneAPI Deep Neural Network Library (oneDNN) to use the following CPU instructions in performance-critical operations:  AVX2 AVX512F AVX512_VNNI FMA\n",
      "To enable them in other operations, rebuild TensorFlow with the appropriate compiler flags.\n"
     ]
    }
   ],
   "source": [
    "import numpy as np\n",
    "import tensorflow as tf\n",
    "from tensorflow.keras.models import Sequential\n",
    "from tensorflow.keras.layers import LSTM, Dense\n",
    "from sklearn.model_selection import train_test_split\n",
    "import random\n",
    "from tensorflow.keras.layers import Flatten, Dense\n",
    "\n",
    "\n",
    "import iisignature \n",
    "import numpy as np\n",
    "import math\n",
    "\n",
    "def Train3DNN(xMoveVar=1, yMoveVar=1, zMoveVar=0.01, T=1, lag= 0, SignatureLevel=0, observationNoise=1,SignatureLog= False,pathType='Observations',testSize=0.2):\n",
    "    labels =[]\n",
    "    Data = []\n",
    "    for param in [1,0.9, 1.1]:\n",
    "        for k in range(0,100):\n",
    "            x = random.randint(0,22)\n",
    "            y= random.randint(0,22)\n",
    "            \n",
    "            TrueThetas, Observations, ObservationPrediction ,ThetasPredictedMean , ThetasPredictedVar,ThetasPosteriorMean, ThetasPosteriorVar,SmoothedObservations=GeneralKalmanFilter(\n",
    "                #True Theta\n",
    "                #[x,xVel,y,yVel,z]\n",
    "                np.array( [[x,1,y,3,0]]).T,\n",
    "                #Transition Matrix\n",
    "                np.array([\n",
    "                            [ 1, T, 0, 0, 0],\n",
    "                            [ 0, param, 0, 0, 0],\n",
    "                            [ 0, 0, 1, T, 0],\n",
    "                            [ 0, 0, 0, param, 0],\n",
    "                            [ 0, 0, 0, 0, 1]\n",
    "                        ]),\n",
    "                #TransitionNoiseVariance\n",
    "                np.array([\n",
    "                            [ xMoveVar*( (T**4)/4 ), xMoveVar*( (T**3)/2 ), 0, 0,0],\n",
    "                            [ xMoveVar*( (T**3)/2), xMoveVar*( T**2 ), 0, 0, 0],\n",
    "                            [ 0, 0, yMoveVar*( (T**4)/4 ), yMoveVar*( (T**3)/2 ), 0],\n",
    "                            [ 0, 0,yMoveVar*( (T**3)/2 ), yMoveVar*( T**2 ), 0],\n",
    "                            [ 0, 0, 0, 0, zMoveVar]\n",
    "                        ]),\n",
    "                #Observation Matrix\n",
    "                np.array([\n",
    "                            [ 1, 0, 0, 0, 0],\n",
    "                            [ 0, 0, 1, 0, 0],\n",
    "                            [ 0, 0, 0, 0, 1]\n",
    "                        ]),\n",
    "                #ObservationNoiseVariance\n",
    "                observationNoise * np.eye(3),   \n",
    "                #priorTheta Mean\n",
    "                np.array([ [x,3,y,5,0]]).T,\n",
    "                #priorTheta Variance\n",
    "                2* np.eye(5),\n",
    "                #number of observations\n",
    "                33              \n",
    "            )                  \n",
    "            if( pathType == 'Observations'):\n",
    "                path = Observations\n",
    "                d=3\n",
    "            elif( pathType == 'ObservationPrediction'):\n",
    "                path = ObservationPrediction\n",
    "                d=3\n",
    "            elif (pathType == 'SmoothedObservations'):\n",
    "                path = SmoothedObservations\n",
    "                d=3\n",
    "            elif( pathType == 'ThetasPosteriorMean'):\n",
    "                path = ThetasPosteriorMean\n",
    "                d=5\n",
    "        \n",
    "            \n",
    "            path = np.array(path)\n",
    "            a,b,c = path.shape\n",
    "            path = path.reshape(a,b*c)\n",
    "            if(SignatureLevel>0):\n",
    "               \n",
    "                path = LeadLag(path,lagging=lag)\n",
    "               \n",
    "                if( SignatureLog ):\n",
    "                    if(lag>0):\n",
    "                        d= d*2\n",
    "                    s = iisignature.prepare(d,SignatureLevel)\n",
    "                    signature = iisignature.logsig(path,s)\n",
    "                else:\n",
    "                    signature = iisignature.sig(path ,SignatureLevel)\n",
    "                \n",
    "                Data.append(signature)\n",
    "\n",
    "            else:\n",
    "               \n",
    "                path = LeadLag(path,lagging=lag)\n",
    "               \n",
    "                Data.append(path)\n",
    "            \n",
    "         \n",
    "            labels.append(int(round((param-0.9)/0.1)))\n",
    "    \n",
    "   \n",
    "    data= np.array(Data)\n",
    "    if(len(data.shape)==2):\n",
    "        data = data.reshape(data.shape[0],data.shape[1],1)\n",
    "    labels = np.array(labels)\n",
    "    num_classes = len(np.unique(labels))\n",
    "    labels = tf.keras.utils.to_categorical(labels, num_classes=num_classes)\n",
    "    accuracies =[]\n",
    "    for i in range(1,11):\n",
    "        X_train, X_test, y_train, y_test = train_test_split(data, labels, test_size=0.2, random_state=42)\n",
    "        model = Sequential()\n",
    "        if(SignatureLevel>0):\n",
    "            model.add(Flatten(input_shape=(data.shape[1], 1)))\n",
    "            model.add(Dense(64, activation='relu'))\n",
    "        else:\n",
    "            model.add(LSTM(50, input_shape=(X_train.shape[1], X_train.shape[2])))\n",
    "        model.add(Dense(num_classes, activation='softmax'))  \n",
    "        model.compile(optimizer='adam', loss='binary_crossentropy', metrics=['accuracy'])\n",
    "\n",
    "        model.fit(X_train, y_train, epochs=10, batch_size=32, validation_data=(X_test, y_test),verbose=0)\n",
    "\n",
    "        loss, accuracy = model.evaluate(X_test, y_test,verbose=0)\n",
    "        accuracies.append(accuracy)\n",
    "    #report = classification_report(y_test, y_pred)\n",
    "    return np.mean(accuracies)"
   ]
  },
  {
   "cell_type": "code",
   "execution_count": 46,
   "metadata": {},
   "outputs": [
    {
     "name": "stdout",
     "output_type": "stream",
     "text": [
      "Lag 0 + Observation\n"
     ]
    },
    {
     "name": "stderr",
     "output_type": "stream",
     "text": [
      "2023-11-23 13:14:08.169883: I tensorflow/core/platform/cpu_feature_guard.cc:193] This TensorFlow binary is optimized with oneAPI Deep Neural Network Library (oneDNN) to use the following CPU instructions in performance-critical operations:  AVX2 AVX512F AVX512_VNNI FMA\n",
      "To enable them in other operations, rebuild TensorFlow with the appropriate compiler flags.\n"
     ]
    },
    {
     "name": "stdout",
     "output_type": "stream",
     "text": [
      "0.5033333331346512\n",
      "Lag 1 + Observation\n",
      "0.4850000023841858\n",
      "Lag 0 + SmoothedObservations\n",
      "0.4766666620969772\n",
      "Lag 1 + SmoothedObservations\n",
      "0.45833333432674406\n"
     ]
    }
   ],
   "source": [
    "print(\"Lag 0 + Observation\")\n",
    "print(Train3DNN(lag=0))\n",
    "\n",
    "print(\"Lag 1 + Observation\")\n",
    "print(Train3DNN(lag=1))\n",
    "\n",
    "print(\"Lag 0 + SmoothedObservations\")\n",
    "print(Train3DNN(lag=0,pathType='SmoothedObservations'))\n",
    "\n",
    "print(\"Lag 1 + SmoothedObservations\")\n",
    "print(Train3DNN(lag=1,pathType='SmoothedObservations'))"
   ]
  },
  {
   "cell_type": "code",
   "execution_count": 47,
   "metadata": {},
   "outputs": [
    {
     "name": "stdout",
     "output_type": "stream",
     "text": [
      "Lag 0 + Sig(Observations, 3)\n",
      "0.448333328962326\n",
      "Lag 1 + Sig(Observations, 3)\n",
      "0.4416666656732559\n",
      "Lag 0 + Sig(Smoothed Observations, 3)\n",
      "0.39999999701976774\n",
      "Lag 1 + Sig(Smoothed Observations, 3)\n",
      "0.40833333432674407\n"
     ]
    }
   ],
   "source": [
    "print(\"Lag 0 + Sig(Observations, 3)\")\n",
    "print(Train3DNN(SignatureLog=False,SignatureLevel=3,lag=0))\n",
    "print(\"Lag 1 + Sig(Observations, 3)\")\n",
    "print(Train3DNN(SignatureLog=False,SignatureLevel=3,lag=1))\n",
    "print(\"Lag 0 + Sig(Smoothed Observations, 3)\")\n",
    "print(Train3DNN(SignatureLog=False,SignatureLevel=3,lag=0,pathType='SmoothedObservations'))\n",
    "\n",
    "\n",
    "print(\"Lag 1 + Sig(Smoothed Observations, 3)\")\n",
    "print(Train3DNN(SignatureLog=False,SignatureLevel=3,lag=1,pathType='SmoothedObservations'))"
   ]
  },
  {
   "cell_type": "code",
   "execution_count": 48,
   "metadata": {},
   "outputs": [
    {
     "name": "stdout",
     "output_type": "stream",
     "text": [
      "Lag 0 + LogSig(Observations, 3)\n",
      "0.37000000178813935\n",
      "Lag 1 + LogSig(Observations, 3)\n",
      "0.4983333319425583\n",
      "Lag 0 + LogSig(Smoothed Observations, 3)\n",
      "0.3749999970197678\n",
      "Lag 1 + LogSig(Smoothed Observations, 3)\n",
      "0.5\n"
     ]
    }
   ],
   "source": [
    "print(\"Lag 0 + LogSig(Observations, 3)\")\n",
    "print(Train3DNN(SignatureLog=True,SignatureLevel=3,lag=0))\n",
    "print(\"Lag 1 + LogSig(Observations, 3)\")\n",
    "print(Train3DNN(SignatureLog=True,SignatureLevel=3,lag=1))\n",
    "print(\"Lag 0 + LogSig(Smoothed Observations, 3)\")\n",
    "print(Train3DNN(SignatureLog=True,SignatureLevel=3,lag=0,pathType='SmoothedObservations'))\n",
    "\n",
    "\n",
    "print(\"Lag 1 + LogSig(Smoothed Observations, 3)\")\n",
    "print(Train3DNN(SignatureLog=True,SignatureLevel=3,lag=1,pathType='SmoothedObservations'))"
   ]
  }
 ],
 "metadata": {
  "kernelspec": {
   "display_name": "Python 3",
   "language": "python",
   "name": "python3"
  },
  "language_info": {
   "codemirror_mode": {
    "name": "ipython",
    "version": 3
   },
   "file_extension": ".py",
   "mimetype": "text/x-python",
   "name": "python",
   "nbconvert_exporter": "python",
   "pygments_lexer": "ipython3",
   "version": "3.10.1"
  }
 },
 "nbformat": 4,
 "nbformat_minor": 2
}
