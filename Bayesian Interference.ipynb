{
 "cells": [
  {
   "cell_type": "markdown",
   "metadata": {},
   "source": [
    "#  Bayesian Inference: Estimating mean of a normal distributed random variable \n"
   ]
  },
  {
   "cell_type": "code",
   "execution_count": 6,
   "metadata": {},
   "outputs": [
    {
     "data": {
      "application/vnd.jupyter.widget-view+json": {
       "model_id": "286acc23fed94336b638c377172c2c75",
       "version_major": 2,
       "version_minor": 0
      },
      "text/plain": [
       "interactive(children=(FloatSlider(value=0.6699999999999999, description='mu', max=1.0, min=0.35, step=0.01), F…"
      ]
     },
     "execution_count": 6,
     "metadata": {},
     "output_type": "execute_result"
    }
   ],
   "source": [
    "import numpy as np\n",
    "import matplotlib.pyplot as plt \n",
    "from ipywidgets import interactive \n",
    "from scipy.stats import norm \n",
    "import math\n",
    "\n",
    "# Prevents the pop-up graphs in a separate window.\n",
    "#get_ipython().run_line_magic('matplotlib', 'inline')\n",
    "\n",
    "    \n",
    "def BayesianInference(mu, muEstimate, sd, sample=0):\n",
    "\n",
    "    # Graph from 0 to 100, include 10000 points.\n",
    "    x = np.linspace( -10 , 10,  10000) \n",
    "    \n",
    "    tempsd = sd\n",
    "    tempMu = muEstimate\n",
    "    \n",
    "    for i in range(0,sample):\n",
    "        y  = np.random.normal(mu,sd)\n",
    "        t0 = 1/(tempsd**2)\n",
    "        t = 1/(sd**2)\n",
    "        tempMu = ( (y*t +  t0*tempMu) / (t+t0) )\n",
    "        tempsd = math.sqrt( 1/(t+t0) )\n",
    "    \n",
    "    plt.plot(x, norm.pdf(x, tempMu, tempsd),label =\"Estimate of mu\")\n",
    "    plt.plot(x, norm.pdf(x, mu, sd),label =\"Original Distribution\")\n",
    "    \n",
    "\n",
    "    plt.grid()\n",
    "    plt.legend()\n",
    "    plt.title(\"Estimate mean of a normal distribution\")\n",
    "    plt.xlabel(\"x\")\n",
    "    plt.ylabel(\"f(x)\")\n",
    "\n",
    "interactive_plot = interactive(BayesianInference, mu=(0.35,1,0.01), muEstimate=(-5,6,0.3), sample = (0,30,1), sd = (1,4,0.2))\n",
    "interactive_plot"
   ]
  },
  {
   "cell_type": "markdown",
   "metadata": {},
   "source": [
    "# Bayesian Inference: Estimating probability of success of a binomial distributed random variable \n"
   ]
  },
  {
   "cell_type": "code",
   "execution_count": 1,
   "metadata": {},
   "outputs": [
    {
     "data": {
      "application/vnd.jupyter.widget-view+json": {
       "model_id": "97c6c0d1c37c4859a50b1d4ca8dd14bc",
       "version_major": 2,
       "version_minor": 0
      },
      "text/plain": [
       "interactive(children=(IntSlider(value=5, description='n', max=10), FloatSlider(value=0.2, description='p', max…"
      ]
     },
     "execution_count": 1,
     "metadata": {},
     "output_type": "execute_result"
    }
   ],
   "source": [
    "import numpy as np\n",
    "import matplotlib.pyplot as plt \n",
    "from ipywidgets import interactive \n",
    "from scipy.stats import norm, beta\n",
    "import math\n",
    "\n",
    "# Prevents the pop-up graphs in a separate window.\n",
    "#get_ipython().run_line_magic('matplotlib', 'inline')\n",
    "\n",
    "    \n",
    "def BinomialInference(n=5, p=0.2, a=3, b=5, sample=0):\n",
    "\n",
    "    # Graph from 0 to 100, include 10000 points.\n",
    "    x = np.linspace( 0, 1,  1000) \n",
    "    \n",
    "    \n",
    "    \n",
    "    for i in range(0,sample):\n",
    "        y  = np.random.binomial(n,p)\n",
    "        a = a + y\n",
    "        b = b + n - y\n",
    "        \n",
    "    \n",
    "    plt.plot(x, beta.pdf(x, a, b),label =\"Estimate of p\")\n",
    "    plt.axvline(x = p, color = 'b', label = 'true p value')\n",
    "\n",
    "    plt.grid()\n",
    "    plt.legend()\n",
    "    plt.title(\"Estimate p of a binomial distribution\")\n",
    "    plt.xlabel(\"p\")\n",
    "    plt.ylabel(\"f(p)\")\n",
    "\n",
    "interactive_plot = interactive(BinomialInference, n=(0,10,1), p=(0,1,0.01), sample = (0,100,1), a = (0,10, 0.2), b = (0,10, 0.2))\n",
    "interactive_plot"
   ]
  },
  {
   "cell_type": "markdown",
   "metadata": {},
   "source": [
    "# Collecting Hand written signatures"
   ]
  },
  {
   "cell_type": "code",
   "execution_count": 20,
   "metadata": {},
   "outputs": [],
   "source": [
    "\n",
    "import iisignature \n",
    "import numpy as np\n",
    "path = np.random.uniform(size=(50,3)) \n",
    "signature = iisignature.sig(path ,4)\n",
    "s = iisignature.prepare(3,4)\n",
    "logsignature = iisignature.logsig(path,s)"
   ]
  },
  {
   "cell_type": "code",
   "execution_count": 21,
   "metadata": {},
   "outputs": [],
   "source": [
    "from PIL import ImageTk, Image, ImageDraw\n",
    "import PIL\n",
    "import numpy as np\n",
    "from tkinter import *\n",
    "import random\n",
    "import csv\n",
    "width = 200  # canvas width\n",
    "height = 200 # canvas height\n",
    "center = height//2\n",
    "white = (255, 255, 255) # canvas back\n",
    "\n",
    "def save():\n",
    "    # save image to hard drive\n",
    "    fileName= random.randint(1, 2000)\n",
    "    output_image.save(\"2.jpg\")\n",
    "    temp = \"/Users/ambarjin/Desktop/Y4 Data Sci/Dissertation/NumberData/Training/3/\" +str(fileName)+\".npy\"\n",
    "    x=np.array(Coordinnates)\n",
    "    np.save(temp, x)\n",
    "      \n",
    "    print(Coordinnates)\n",
    "    Coordinnates.clear()\n",
    "    \n",
    "\n",
    "def paint(event):\n",
    "    x1, y1 = (event.x - 1), (event.y - 1)\n",
    "    x2, y2 = (event.x + 1), (event.y + 1)\n",
    "    Coordinnates.append( [x1, y1])\n",
    "    canvas.create_oval(x1, y1, x2, y2, fill=\"black\",width=55)\n",
    "    draw.line([x1, y1, x2, y2],fill=\"black\",width=55)\n",
    "\n",
    "master = Tk()\n",
    "\n",
    "# create a tkinter canvas to draw on\n",
    "canvas = Canvas(master, width=width, height=height, bg='white')\n",
    "canvas.pack()\n",
    "Coordinnates =[]\n",
    "# create an empty PIL image and draw object to draw on\n",
    "output_image = PIL.Image.new(\"RGB\", (width, height), white)\n",
    "draw = ImageDraw.Draw(output_image)\n",
    "canvas.pack(expand=YES, fill=BOTH)\n",
    "canvas.bind(\"<B1-Motion>\", paint)\n",
    "\n",
    "# add a button to save the image\n",
    "button=Button(text=\"save\",command=save)\n",
    "button.pack()\n",
    "\n",
    "master.mainloop()"
   ]
  }
 ],
 "metadata": {
  "kernelspec": {
   "display_name": "Python 3 (ipykernel)",
   "language": "python",
   "name": "python3"
  },
  "language_info": {
   "codemirror_mode": {
    "name": "ipython",
    "version": 3
   },
   "file_extension": ".py",
   "mimetype": "text/x-python",
   "name": "python",
   "nbconvert_exporter": "python",
   "pygments_lexer": "ipython3",
   "version": "3.10.1"
  },
  "vscode": {
   "interpreter": {
    "hash": "aee8b7b246df8f9039afb4144a1f6fd8d2ca17a180786b69acc140d282b71a49"
   }
  }
 },
 "nbformat": 4,
 "nbformat_minor": 2
}
