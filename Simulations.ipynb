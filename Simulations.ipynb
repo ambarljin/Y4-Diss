{
 "cells": [
  {
   "cell_type": "markdown",
   "metadata": {},
   "source": [
    "#  Bayesian Inference: Estimating mean of a normal distributed random variable \n"
   ]
  },
  {
   "cell_type": "code",
   "execution_count": 2,
   "metadata": {},
   "outputs": [
    {
     "data": {
      "application/vnd.jupyter.widget-view+json": {
       "model_id": "3fec513cf3da4d3ea5eacf92649ff2c4",
       "version_major": 2,
       "version_minor": 0
      },
      "text/plain": [
       "interactive(children=(FloatSlider(value=0.6699999999999999, description='mu', max=1.0, min=0.35, step=0.01), F…"
      ]
     },
     "execution_count": 2,
     "metadata": {},
     "output_type": "execute_result"
    }
   ],
   "source": [
    "import numpy as np\n",
    "import matplotlib.pyplot as plt \n",
    "from ipywidgets import interactive \n",
    "from scipy.stats import norm \n",
    "import math\n",
    "\n",
    "# Prevents the pop-up graphs in a separate window.\n",
    "#get_ipython().run_line_magic('matplotlib', 'inline')\n",
    "\n",
    "    \n",
    "def BayesianInference(mu, muEstimate, sd, sample=0):\n",
    "\n",
    "    # Graph from 0 to 100, include 10000 points.\n",
    "    x = np.linspace( -10 , 10,  10000) \n",
    "    \n",
    "    tempsd = sd\n",
    "    tempMu = muEstimate\n",
    "    \n",
    "    for i in range(0,sample):\n",
    "        y  = np.random.normal(mu,sd)\n",
    "        t0 = 1/(tempsd**2)\n",
    "        t = 1/(sd**2)\n",
    "        tempMu = ( (y*t +  t0*tempMu) / (t+t0) )\n",
    "        tempsd = math.sqrt( 1/(t+t0) )\n",
    "    \n",
    "    plt.plot(x, norm.pdf(x, tempMu, tempsd),label =\"Estimate of mu\")\n",
    "    plt.plot(x, norm.pdf(x, mu, sd),label =\"Original Distribution\")\n",
    "    \n",
    "\n",
    "    plt.grid()\n",
    "    plt.legend()\n",
    "    plt.title(\"Estimate mean of a normal distribution\")\n",
    "    plt.xlabel(\"x\")\n",
    "    plt.ylabel(\"f(x)\")\n",
    "\n",
    "interactive_plot = interactive(BayesianInference, mu=(0.35,1,0.01), muEstimate=(-5,6,0.3), sample = (0,30,1), sd = (1,4,0.2))\n",
    "interactive_plot"
   ]
  },
  {
   "cell_type": "markdown",
   "metadata": {},
   "source": [
    "# Bayesian Inference: Estimating probability of success of a binomial distributed random variable \n"
   ]
  },
  {
   "cell_type": "code",
   "execution_count": 3,
   "metadata": {},
   "outputs": [
    {
     "data": {
      "application/vnd.jupyter.widget-view+json": {
       "model_id": "1a084ba1dd0e4e33af63db77af01100f",
       "version_major": 2,
       "version_minor": 0
      },
      "text/plain": [
       "interactive(children=(IntSlider(value=5, description='n', max=10), FloatSlider(value=0.2, description='p', max…"
      ]
     },
     "execution_count": 3,
     "metadata": {},
     "output_type": "execute_result"
    }
   ],
   "source": [
    "import numpy as np\n",
    "import matplotlib.pyplot as plt \n",
    "from ipywidgets import interactive \n",
    "from scipy.stats import norm, beta\n",
    "import math\n",
    "\n",
    "# Prevents the pop-up graphs in a separate window.\n",
    "#get_ipython().run_line_magic('matplotlib', 'inline')\n",
    "\n",
    "    \n",
    "def BinomialInference(n=5, p=0.2, a=3, b=5, sample=0):\n",
    "\n",
    "    # Graph from 0 to 100, include 10000 points.\n",
    "    x = np.linspace( 0, 1,  1000) \n",
    "    \n",
    "    \n",
    "    \n",
    "    for i in range(0,sample):\n",
    "        y  = np.random.binomial(n,p)\n",
    "        a = a + y\n",
    "        b = b + n - y\n",
    "        \n",
    "    \n",
    "    plt.plot(x, beta.pdf(x, a, b),label =\"Estimate of p\")\n",
    "    plt.axvline(x = p, color = 'b', label = 'true p value')\n",
    "\n",
    "    plt.grid()\n",
    "    plt.legend()\n",
    "    plt.title(\"Estimate p of a binomial distribution\")\n",
    "    plt.xlabel(\"p\")\n",
    "    plt.ylabel(\"f(p)\")\n",
    "\n",
    "interactive_plot = interactive(BinomialInference, n=(0,10,1), p=(0,1,0.01), sample = (0,100,1), a = (0,10, 0.2), b = (0,10, 0.2))\n",
    "interactive_plot"
   ]
  },
  {
   "cell_type": "markdown",
   "metadata": {},
   "source": [
    "# Dynamic Linear Kalman Filter Testing "
   ]
  },
  {
   "cell_type": "markdown",
   "metadata": {},
   "source": [
    "Assume we have the constant Gaussian DLM. $\\theta_k$~N($\\theta$;$\\mu,\\sigma^2$), $u_k$=u~N(u;0,1), $v_k$=v~N(v;0,1)\n",
    "\n",
    "Parameter at time k: $\\theta_k$ = $1.1\\theta_{k-1}$ + $u_k$ <br>\n",
    "Observation at time k: $y_k$ = $2\\theta_{k}$ + $v_k$ <br>\n",
    "True Position at time k: $2\\theta_{k}$ <br>\n",
    "\n",
    "Thus\n",
    "\n",
    "- F = 1.1\n",
    "- H = 2\n",
    "\n"
   ]
  },
  {
   "cell_type": "code",
   "execution_count": 4,
   "metadata": {},
   "outputs": [],
   "source": [
    "x = np.linspace(0,33,33)\n",
    "\n",
    "\n",
    "TransitionMatrix = 1.1\n",
    "TransitionNoiseVariance= 4\n",
    "\n",
    "ObservationMatrix = 2\n",
    "ObservationNoiseVariance = 4\n",
    "\n",
    "#Prepare some data\n",
    "TrueTheta = 3\n",
    "TruePositions = []\n",
    "TrueThetas = []\n",
    "ThetaK = TrueTheta\n",
    "\n",
    "for i in range(0,len(x)):\n",
    "    ThetaK = TransitionMatrix*ThetaK + np.random.normal(0,TransitionNoiseVariance)\n",
    "    ObservationK = ObservationMatrix*ThetaK + np.random.normal(0,ObservationNoiseVariance)\n",
    "    TruePositions.append(ObservationK)\n",
    "    TrueThetas.append(ThetaK)\n",
    "\n",
    "\n",
    "    \n",
    "#--------------\n"
   ]
  },
  {
   "cell_type": "code",
   "execution_count": 5,
   "metadata": {},
   "outputs": [
    {
     "data": {
      "text/plain": [
       "<matplotlib.collections.PathCollection at 0x129d49360>"
      ]
     },
     "execution_count": 5,
     "metadata": {},
     "output_type": "execute_result"
    },
    {
     "data": {
      "image/png": "[encoded data removed]",
      "text/plain": [
       "<Figure size 432x288 with 1 Axes>"
      ]
     },
     "metadata": {
      "needs_background": "light"
     },
     "output_type": "display_data"
    }
   ],
   "source": [
    "plt.scatter(x, TruePositions)"
   ]
  },
  {
   "cell_type": "code",
   "execution_count": 6,
   "metadata": {},
   "outputs": [],
   "source": [
    "\n",
    "PriorThetaMean = 4\n",
    "PriorThetaVariance = 3\n",
    "\n",
    "\n",
    "\n",
    "ThetaMean = PriorThetaMean\n",
    "ThetaVar = PriorThetaVariance\n",
    "PositionPrediction = []\n",
    "\n",
    "\n",
    "\n",
    "ThetasPredictedMean = []\n",
    "ThetasPredictedVar = []\n",
    "ThetasPosteriorMean = []\n",
    "ThetasPosteriorVar = []\n",
    "\n",
    "\n",
    "for i in range(0,len(x)):\n",
    "    PredictionThetaMean = TransitionMatrix*ThetaMean\n",
    "    PredictionThetaVariance = (TransitionMatrix**2)*ThetaVar + TransitionNoiseVariance\n",
    "    \n",
    "    ThetasPredictedMean.append(PredictionThetaMean)\n",
    "    ThetasPredictedVar.append(PredictionThetaVariance)\n",
    "    PositionPrediction.append(ObservationMatrix*PredictionThetaMean)\n",
    "\n",
    "    \n",
    "    CovarianceOfInnovation = (ObservationMatrix**2)*PredictionThetaVariance + ObservationNoiseVariance\n",
    "    OptimalKalmanGain = ( PredictionThetaVariance * ObservationMatrix ) / CovarianceOfInnovation\n",
    "    Innovation = TruePositions[i] - ( ObservationMatrix*PredictionThetaMean )\n",
    "    \n",
    "    ThetaMean = PredictionThetaMean + (OptimalKalmanGain*Innovation)\n",
    "    ThetaVar = (1-(OptimalKalmanGain*ObservationMatrix)) * PredictionThetaVariance\n",
    "    \n",
    "    ThetasPosteriorMean.append(ThetaMean)\n",
    "    ThetasPosteriorVar.append(ThetaVar)\n",
    "    "
   ]
  },
  {
   "cell_type": "code",
   "execution_count": 7,
   "metadata": {},
   "outputs": [
    {
     "data": {
      "text/html": [
       "<style>\n",
       "        .bk-notebook-logo {\n",
       "            display: block;\n",
       "            width: 20px;\n",
       "            height: 20px;\n",
       "            background-image: url(data:image/png;base64,iVBORw0KGgoAAAANSUhEUgAAABQAAAAUCAYAAACNiR0NAAAABHNCSVQICAgIfAhkiAAAAAlwSFlzAAALEgAACxIB0t1+/AAAABx0RVh0U29mdHdhcmUAQWRvYmUgRmlyZXdvcmtzIENTNui8sowAAAOkSURBVDiNjZRtaJVlGMd/1/08zzln5zjP1LWcU9N0NkN8m2CYjpgQYQXqSs0I84OLIC0hkEKoPtiH3gmKoiJDU7QpLgoLjLIQCpEsNJ1vqUOdO7ppbuec5+V+rj4ctwzd8IIbbi6u+8f1539dt3A78eXC7QizUF7gyV1fD1Yqg4JWz84yffhm0qkFqBogB9rM8tZdtwVsPUhWhGcFJngGeWrPzHm5oaMmkfEg1usvLFyc8jLRqDOMru7AyC8saQr7GG7f5fvDeH7Ej8CM66nIF+8yngt6HWaKh7k49Soy9nXurCi1o3qUbS3zWfrYeQDTB/Qj6kX6Ybhw4B+bOYoLKCC9H3Nu/leUTZ1JdRWkkn2ldcCamzrcf47KKXdAJllSlxAOkRgyHsGC/zRday5Qld9DyoM4/q/rUoy/CXh3jzOu3bHUVZeU+DEn8FInkPBFlu3+nW3Nw0mk6vCDiWg8CeJaxEwuHS3+z5RgY+YBR6V1Z1nxSOfoaPa4LASWxxdNp+VWTk7+4vzaou8v8PN+xo+KY2xsw6une2frhw05CTYOmQvsEhjhWjn0bmXPjpE1+kplmmkP3suftwTubK9Vq22qKmrBhpY4jvd5afdRA3wGjFAgcnTK2s4hY0/GPNIb0nErGMCRxWOOX64Z8RAC4oCXdklmEvcL8o0BfkNK4lUg9HTl+oPlQxdNo3Mg4Nv175e/1LDGzZen30MEjRUtmXSfiTVu1kK8W4txyV6BMKlbgk3lMwYCiusNy9fVfvvwMxv8Ynl6vxoByANLTWplvuj/nF9m2+PDtt1eiHPBr1oIfhCChQMBw6Aw0UulqTKZdfVvfG7VcfIqLG9bcldL/+pdWTLxLUy8Qq38heUIjh4XlzZxzQm19lLFlr8vdQ97rjZVOLf8nclzckbcD4wxXMidpX30sFd37Fv/GtwwhzhxGVAprjbg0gCAEeIgwCZyTV2Z1REEW8O4py0wsjeloKoMr6iCY6dP92H6Vw/oTyICIthibxjm/DfN9lVz8IqtqKYLUXfoKVMVQVVJOElGjrnnUt9T9wbgp8AyYKaGlqingHZU/uG2NTZSVqwHQTWkx9hxjkpWDaCg6Ckj5qebgBVbT3V3NNXMSiWSDdGV3hrtzla7J+duwPOToIg42ChPQOQjspnSlp1V+Gjdged7+8UN5CRAV7a5EdFNwCjEaBR27b3W890TE7g24NAP/mMDXRWrGoFPQI9ls/MWO2dWFAar/xcOIImbbpA3zgAAAABJRU5ErkJggg==);\n",
       "        }\n",
       "    </style>\n",
       "    <div>\n",
       "        <a href=\"https://bokeh.org\" target=\"_blank\" class=\"bk-notebook-logo\"></a>\n",
       "        <span id=\"c0ff3544-f4bd-4e5b-802a-c0843a83974d\">Loading BokehJS ...</span>\n",
       "    </div>\n"
      ]
     },
     "metadata": {},
     "output_type": "display_data"
    },
    {
     "data": {
      "application/javascript": "(function(root) {\n  function now() {\n    return new Date();\n  }\n\n  const force = true;\n\n  if (typeof root._bokeh_onload_callbacks === \"undefined\" || force === true) {\n    root._bokeh_onload_callbacks = [];\n    root._bokeh_is_loading = undefined;\n  }\n\nconst JS_MIME_TYPE = 'application/javascript';\n  const HTML_MIME_TYPE = 'text/html';\n  const EXEC_MIME_TYPE = 'application/vnd.bokehjs_exec.v0+json';\n  const CLASS_NAME = 'output_bokeh rendered_html';\n\n  /**\n   * Render data to the DOM node\n   */\n  function render(props, node) {\n    const script = document.createElement(\"script\");\n    node.appendChild(script);\n  }\n\n  /**\n   * Handle when an output is cleared or removed\n   */\n  function handleClearOutput(event, handle) {\n    function drop(id) {\n      const view = Bokeh.index.get_by_id(id)\n      if (view != null) {\n        view.model.document.clear()\n        Bokeh.index.delete(view)\n      }\n    }\n\n    const cell = handle.cell;\n\n    const id = cell.output_area._bokeh_element_id;\n    const server_id = cell.output_area._bokeh_server_id;\n\n    // Clean up Bokeh references\n    if (id != null) {\n      drop(id)\n    }\n\n    if (server_id !== undefined) {\n      // Clean up Bokeh references\n      const cmd_clean = \"from bokeh.io.state import curstate; print(curstate().uuid_to_server['\" + server_id + \"'].get_sessions()[0].document.roots[0]._id)\";\n      cell.notebook.kernel.execute(cmd_clean, {\n        iopub: {\n          output: function(msg) {\n            const id = msg.content.text.trim()\n            drop(id)\n          }\n        }\n      });\n      // Destroy server and session\n      const cmd_destroy = \"import bokeh.io.notebook as ion; ion.destroy_server('\" + server_id + \"')\";\n      cell.notebook.kernel.execute(cmd_destroy);\n    }\n  }\n\n  /**\n   * Handle when a new output is added\n   */\n  function handleAddOutput(event, handle) {\n    const output_area = handle.output_area;\n    const output = handle.output;\n\n    // limit handleAddOutput to display_data with EXEC_MIME_TYPE content only\n    if ((output.output_type != \"display_data\") || (!Object.prototype.hasOwnProperty.call(output.data, EXEC_MIME_TYPE))) {\n      return\n    }\n\n    const toinsert = output_area.element.find(\".\" + CLASS_NAME.split(' ')[0]);\n\n    if (output.metadata[EXEC_MIME_TYPE][\"id\"] !== undefined) {\n      toinsert[toinsert.length - 1].firstChild.textContent = output.data[JS_MIME_TYPE];\n      // store reference to embed id on output_area\n      output_area._bokeh_element_id = output.metadata[EXEC_MIME_TYPE][\"id\"];\n    }\n    if (output.metadata[EXEC_MIME_TYPE][\"server_id\"] !== undefined) {\n      const bk_div = document.createElement(\"div\");\n      bk_div.innerHTML = output.data[HTML_MIME_TYPE];\n      const script_attrs = bk_div.children[0].attributes;\n      for (let i = 0; i < script_attrs.length; i++) {\n        toinsert[toinsert.length - 1].firstChild.setAttribute(script_attrs[i].name, script_attrs[i].value);\n        toinsert[toinsert.length - 1].firstChild.textContent = bk_div.children[0].textContent\n      }\n      // store reference to server id on output_area\n      output_area._bokeh_server_id = output.metadata[EXEC_MIME_TYPE][\"server_id\"];\n    }\n  }\n\n  function register_renderer(events, OutputArea) {\n\n    function append_mime(data, metadata, element) {\n      // create a DOM node to render to\n      const toinsert = this.create_output_subarea(\n        metadata,\n        CLASS_NAME,\n        EXEC_MIME_TYPE\n      );\n      this.keyboard_manager.register_events(toinsert);\n      // Render to node\n      const props = {data: data, metadata: metadata[EXEC_MIME_TYPE]};\n      render(props, toinsert[toinsert.length - 1]);\n      element.append(toinsert);\n      return toinsert\n    }\n\n    /* Handle when an output is cleared or removed */\n    events.on('clear_output.CodeCell', handleClearOutput);\n    events.on('delete.Cell', handleClearOutput);\n\n    /* Handle when a new output is added */\n    events.on('output_added.OutputArea', handleAddOutput);\n\n    /**\n     * Register the mime type and append_mime function with output_area\n     */\n    OutputArea.prototype.register_mime_type(EXEC_MIME_TYPE, append_mime, {\n      /* Is output safe? */\n      safe: true,\n      /* Index of renderer in `output_area.display_order` */\n      index: 0\n    });\n  }\n\n  // register the mime type if in Jupyter Notebook environment and previously unregistered\n  if (root.Jupyter !== undefined) {\n    const events = require('base/js/events');\n    const OutputArea = require('notebook/js/outputarea').OutputArea;\n\n    if (OutputArea.prototype.mime_types().indexOf(EXEC_MIME_TYPE) == -1) {\n      register_renderer(events, OutputArea);\n    }\n  }\n  if (typeof (root._bokeh_timeout) === \"undefined\" || force === true) {\n    root._bokeh_timeout = Date.now() + 5000;\n    root._bokeh_failed_load = false;\n  }\n\n  const NB_LOAD_WARNING = {'data': {'text/html':\n     \"<div style='background-color: #fdd'>\\n\"+\n     \"<p>\\n\"+\n     \"BokehJS does not appear to have successfully loaded. If loading BokehJS from CDN, this \\n\"+\n     \"may be due to a slow or bad network connection. Possible fixes:\\n\"+\n     \"</p>\\n\"+\n     \"<ul>\\n\"+\n     \"<li>re-rerun `output_notebook()` to attempt to load from CDN again, or</li>\\n\"+\n     \"<li>use INLINE resources instead, as so:</li>\\n\"+\n     \"</ul>\\n\"+\n     \"<code>\\n\"+\n     \"from bokeh.resources import INLINE\\n\"+\n     \"output_notebook(resources=INLINE)\\n\"+\n     \"</code>\\n\"+\n     \"</div>\"}};\n\n  function display_loaded() {\n    const el = document.getElementById(\"c0ff3544-f4bd-4e5b-802a-c0843a83974d\");\n    if (el != null) {\n      el.textContent = \"BokehJS is loading...\";\n    }\n    if (root.Bokeh !== undefined) {\n      if (el != null) {\n        el.textContent = \"BokehJS \" + root.Bokeh.version + \" successfully loaded.\";\n      }\n    } else if (Date.now() < root._bokeh_timeout) {\n      setTimeout(display_loaded, 100)\n    }\n  }\n\n  function run_callbacks() {\n    try {\n      root._bokeh_onload_callbacks.forEach(function(callback) {\n        if (callback != null)\n          callback();\n      });\n    } finally {\n      delete root._bokeh_onload_callbacks\n    }\n    console.debug(\"Bokeh: all callbacks have finished\");\n  }\n\n  function load_libs(css_urls, js_urls, callback) {\n    if (css_urls == null) css_urls = [];\n    if (js_urls == null) js_urls = [];\n\n    root._bokeh_onload_callbacks.push(callback);\n    if (root._bokeh_is_loading > 0) {\n      console.debug(\"Bokeh: BokehJS is being loaded, scheduling callback at\", now());\n      return null;\n    }\n    if (js_urls == null || js_urls.length === 0) {\n      run_callbacks();\n      return null;\n    }\n    console.debug(\"Bokeh: BokehJS not loaded, scheduling load and callback at\", now());\n    root._bokeh_is_loading = css_urls.length + js_urls.length;\n\n    function on_load() {\n      root._bokeh_is_loading--;\n      if (root._bokeh_is_loading === 0) {\n        console.debug(\"Bokeh: all BokehJS libraries/stylesheets loaded\");\n        run_callbacks()\n      }\n    }\n\n    function on_error(url) {\n      console.error(\"failed to load \" + url);\n    }\n\n    for (let i = 0; i < css_urls.length; i++) {\n      const url = css_urls[i];\n      const element = document.createElement(\"link\");\n      element.onload = on_load;\n      element.onerror = on_error.bind(null, url);\n      element.rel = \"stylesheet\";\n      element.type = \"text/css\";\n      element.href = url;\n      console.debug(\"Bokeh: injecting link tag for BokehJS stylesheet: \", url);\n      document.body.appendChild(element);\n    }\n\n    for (let i = 0; i < js_urls.length; i++) {\n      const url = js_urls[i];\n      const element = document.createElement('script');\n      element.onload = on_load;\n      element.onerror = on_error.bind(null, url);\n      element.async = false;\n      element.src = url;\n      console.debug(\"Bokeh: injecting script tag for BokehJS library: \", url);\n      document.head.appendChild(element);\n    }\n  };\n\n  function inject_raw_css(css) {\n    const element = document.createElement(\"style\");\n    element.appendChild(document.createTextNode(css));\n    document.body.appendChild(element);\n  }\n\n  const js_urls = [\"https://cdn.bokeh.org/bokeh/release/bokeh-3.3.0.min.js\", \"https://cdn.bokeh.org/bokeh/release/bokeh-gl-3.3.0.min.js\", \"https://cdn.bokeh.org/bokeh/release/bokeh-widgets-3.3.0.min.js\", \"https://cdn.bokeh.org/bokeh/release/bokeh-tables-3.3.0.min.js\", \"https://cdn.bokeh.org/bokeh/release/bokeh-mathjax-3.3.0.min.js\"];\n  const css_urls = [];\n\n  const inline_js = [    function(Bokeh) {\n      Bokeh.set_log_level(\"info\");\n    },\nfunction(Bokeh) {\n    }\n  ];\n\n  function run_inline_js() {\n    if (root.Bokeh !== undefined || force === true) {\n          for (let i = 0; i < inline_js.length; i++) {\n      inline_js[i].call(root, root.Bokeh);\n    }\nif (force === true) {\n        display_loaded();\n      }} else if (Date.now() < root._bokeh_timeout) {\n      setTimeout(run_inline_js, 100);\n    } else if (!root._bokeh_failed_load) {\n      console.log(\"Bokeh: BokehJS failed to load within specified timeout.\");\n      root._bokeh_failed_load = true;\n    } else if (force !== true) {\n      const cell = $(document.getElementById(\"c0ff3544-f4bd-4e5b-802a-c0843a83974d\")).parents('.cell').data().cell;\n      cell.output_area.append_execute_result(NB_LOAD_WARNING)\n    }\n  }\n\n  if (root._bokeh_is_loading === 0) {\n    console.debug(\"Bokeh: BokehJS loaded, going straight to plotting\");\n    run_inline_js();\n  } else {\n    load_libs(css_urls, js_urls, function() {\n      console.debug(\"Bokeh: BokehJS plotting callback run at\", now());\n      run_inline_js();\n    });\n  }\n}(window));",
      "application/vnd.bokehjs_load.v0+json": ""
     },
     "metadata": {},
     "output_type": "display_data"
    },
    {
     "data": {
      "text/html": [
       "\n",
       "  <div id=\"ab4494bb-ec8a-4bde-b1aa-2a766bdc3380\" data-root-id=\"p1001\" style=\"display: contents;\"></div>\n"
      ]
     },
     "metadata": {},
     "output_type": "display_data"
    },
    {
     "data": {
      "application/javascript": "(function(root) {\n  function embed_document(root) {\n  const docs_json = {\"d03799e2-344a-4732-a67b-44bcd99a16e8\":{\"version\":\"3.3.0\",\"title\":\"Bokeh Application\",\"roots\":[{\"type\":\"object\",\"name\":\"Figure\",\"id\":\"p1001\",\"attributes\":{\"x_range\":{\"type\":\"object\",\"name\":\"DataRange1d\",\"id\":\"p1002\"},\"y_range\":{\"type\":\"object\",\"name\":\"DataRange1d\",\"id\":\"p1003\"},\"x_scale\":{\"type\":\"object\",\"name\":\"LinearScale\",\"id\":\"p1011\"},\"y_scale\":{\"type\":\"object\",\"name\":\"LinearScale\",\"id\":\"p1012\"},\"title\":{\"type\":\"object\",\"name\":\"Title\",\"id\":\"p1004\",\"attributes\":{\"text\":\"Constant Gaussian DLM\"}},\"renderers\":[{\"type\":\"object\",\"name\":\"GlyphRenderer\",\"id\":\"p1036\",\"attributes\":{\"data_source\":{\"type\":\"object\",\"name\":\"ColumnDataSource\",\"id\":\"p1030\",\"attributes\":{\"selected\":{\"type\":\"object\",\"name\":\"Selection\",\"id\":\"p1031\",\"attributes\":{\"indices\":[],\"line_indices\":[]}},\"selection_policy\":{\"type\":\"object\",\"name\":\"UnionRenderers\",\"id\":\"p1032\"},\"data\":{\"type\":\"map\",\"entries\":[[\"x\",{\"type\":\"ndarray\",\"array\":{\"type\":\"bytes\",\"data\":\"AAAAAAAAAAAAAAAAAIDwPwAAAAAAgABAAAAAAADACEAAAAAAAIAQQAAAAAAAoBRAAAAAAADAGEAAAAAAAOAcQAAAAAAAgCBAAAAAAACQIkAAAAAAAKAkQAAAAAAAsCZAAAAAAADAKEAAAAAAANAqQAAAAAAA4CxAAAAAAADwLkAAAAAAAIAwQAAAAAAAiDFAAAAAAACQMkAAAAAAAJgzQAAAAAAAoDRAAAAAAACoNUAAAAAAALA2QAAAAAAAuDdAAAAAAADAOEAAAAAAAMg5QAAAAAAA0DpAAAAAAADYO0AAAAAAAOA8QAAAAAAA6D1AAAAAAADwPkAAAAAAAPg/QAAAAAAAgEBA\"},\"shape\":[33],\"dtype\":\"float64\",\"order\":\"little\"}],[\"y\",[8.8,-0.16719667270909222,-3.02516239847762,1.6950527838632892,0.2541972265473137,6.848993753845083,17.38453567868802,31.80083579148977,28.758171448964546,25.274935138655383,37.06671373324029,59.52456392831881,64.45974467358185,62.10916321146847,68.28879102927064,74.94580129991728,83.51228416302956,97.71379693796793,96.04343174142906,100.25997065327381,110.97490159259299,120.2255503467428,139.79049618172408,136.13054507841838,153.32912686828791,164.60120095533554,193.2656903784437,219.5659928411284,237.16142052173356,247.35654251127178,279.18829362010877,299.05144333020894,334.45966205424514]]]}}},\"view\":{\"type\":\"object\",\"name\":\"CDSView\",\"id\":\"p1037\",\"attributes\":{\"filter\":{\"type\":\"object\",\"name\":\"AllIndices\",\"id\":\"p1038\"}}},\"glyph\":{\"type\":\"object\",\"name\":\"Circle\",\"id\":\"p1033\",\"attributes\":{\"x\":{\"type\":\"field\",\"field\":\"x\"},\"y\":{\"type\":\"field\",\"field\":\"y\"},\"size\":{\"type\":\"value\",\"value\":8},\"line_color\":{\"type\":\"value\",\"value\":\"green\"},\"fill_color\":{\"type\":\"value\",\"value\":\"green\"},\"hatch_color\":{\"type\":\"value\",\"value\":\"green\"}}},\"nonselection_glyph\":{\"type\":\"object\",\"name\":\"Circle\",\"id\":\"p1034\",\"attributes\":{\"x\":{\"type\":\"field\",\"field\":\"x\"},\"y\":{\"type\":\"field\",\"field\":\"y\"},\"size\":{\"type\":\"value\",\"value\":8},\"line_color\":{\"type\":\"value\",\"value\":\"green\"},\"line_alpha\":{\"type\":\"value\",\"value\":0.1},\"fill_color\":{\"type\":\"value\",\"value\":\"green\"},\"fill_alpha\":{\"type\":\"value\",\"value\":0.1},\"hatch_color\":{\"type\":\"value\",\"value\":\"green\"},\"hatch_alpha\":{\"type\":\"value\",\"value\":0.1}}},\"muted_glyph\":{\"type\":\"object\",\"name\":\"Circle\",\"id\":\"p1035\",\"attributes\":{\"x\":{\"type\":\"field\",\"field\":\"x\"},\"y\":{\"type\":\"field\",\"field\":\"y\"},\"size\":{\"type\":\"value\",\"value\":8},\"line_color\":{\"type\":\"value\",\"value\":\"green\"},\"line_alpha\":{\"type\":\"value\",\"value\":0.2},\"fill_color\":{\"type\":\"value\",\"value\":\"green\"},\"fill_alpha\":{\"type\":\"value\",\"value\":0.2},\"hatch_color\":{\"type\":\"value\",\"value\":\"green\"},\"hatch_alpha\":{\"type\":\"value\",\"value\":0.2}}}}},{\"type\":\"object\",\"name\":\"GlyphRenderer\",\"id\":\"p1047\",\"attributes\":{\"data_source\":{\"type\":\"object\",\"name\":\"ColumnDataSource\",\"id\":\"p1041\",\"attributes\":{\"selected\":{\"type\":\"object\",\"name\":\"Selection\",\"id\":\"p1042\",\"attributes\":{\"indices\":[],\"line_indices\":[]}},\"selection_policy\":{\"type\":\"object\",\"name\":\"UnionRenderers\",\"id\":\"p1043\"},\"data\":{\"type\":\"map\",\"entries\":[[\"x\",{\"type\":\"ndarray\",\"array\":{\"type\":\"bytes\",\"data\":\"AAAAAAAAAAAAAAAAAIDwPwAAAAAAgABAAAAAAADACEAAAAAAAIAQQAAAAAAAoBRAAAAAAADAGEAAAAAAAOAcQAAAAAAAgCBAAAAAAACQIkAAAAAAAKAkQAAAAAAAsCZAAAAAAADAKEAAAAAAANAqQAAAAAAA4CxAAAAAAADwLkAAAAAAAIAwQAAAAAAAiDFAAAAAAACQMkAAAAAAAJgzQAAAAAAAoDRAAAAAAACoNUAAAAAAALA2QAAAAAAAuDdAAAAAAADAOEAAAAAAAMg5QAAAAAAA0DpAAAAAAADYO0AAAAAAAOA8QAAAAAAA6D1AAAAAAADwPkAAAAAAAPg/QAAAAAAAgEBA\"},\"shape\":[33],\"dtype\":\"float64\",\"order\":\"little\"}],[\"y\",[-1.325260012567552,-3.2596263779119106,2.452239551545129,-0.061196457788540215,7.418733253165627,17.59206584337564,31.210945379621393,25.014331322230444,21.82301269959327,35.37852810053419,57.516675788563745,58.41512709822191,54.866255288982586,62.07504009247691,68.10135155508942,76.11481421519498,89.8925813317679,85.2354748506869,90.16751355127882,101.01131923331155,108.96074360200988,128.45125216202027,120.55347119908359,140.04090706487253,148.90039222351064,177.9112382618168,200.87121669108654,214.8097162008024,222.41544908929404,255.0955179037259,270.40280099709076,305.0530746704915,340.5922025402069]]]}}},\"view\":{\"type\":\"object\",\"name\":\"CDSView\",\"id\":\"p1048\",\"attributes\":{\"filter\":{\"type\":\"object\",\"name\":\"AllIndices\",\"id\":\"p1049\"}}},\"glyph\":{\"type\":\"object\",\"name\":\"Circle\",\"id\":\"p1044\",\"attributes\":{\"x\":{\"type\":\"field\",\"field\":\"x\"},\"y\":{\"type\":\"field\",\"field\":\"y\"},\"size\":{\"type\":\"value\",\"value\":8},\"line_color\":{\"type\":\"value\",\"value\":\"red\"},\"fill_color\":{\"type\":\"value\",\"value\":\"red\"},\"hatch_color\":{\"type\":\"value\",\"value\":\"red\"}}},\"nonselection_glyph\":{\"type\":\"object\",\"name\":\"Circle\",\"id\":\"p1045\",\"attributes\":{\"x\":{\"type\":\"field\",\"field\":\"x\"},\"y\":{\"type\":\"field\",\"field\":\"y\"},\"size\":{\"type\":\"value\",\"value\":8},\"line_color\":{\"type\":\"value\",\"value\":\"red\"},\"line_alpha\":{\"type\":\"value\",\"value\":0.1},\"fill_color\":{\"type\":\"value\",\"value\":\"red\"},\"fill_alpha\":{\"type\":\"value\",\"value\":0.1},\"hatch_color\":{\"type\":\"value\",\"value\":\"red\"},\"hatch_alpha\":{\"type\":\"value\",\"value\":0.1}}},\"muted_glyph\":{\"type\":\"object\",\"name\":\"Circle\",\"id\":\"p1046\",\"attributes\":{\"x\":{\"type\":\"field\",\"field\":\"x\"},\"y\":{\"type\":\"field\",\"field\":\"y\"},\"size\":{\"type\":\"value\",\"value\":8},\"line_color\":{\"type\":\"value\",\"value\":\"red\"},\"line_alpha\":{\"type\":\"value\",\"value\":0.2},\"fill_color\":{\"type\":\"value\",\"value\":\"red\"},\"fill_alpha\":{\"type\":\"value\",\"value\":0.2},\"hatch_color\":{\"type\":\"value\",\"value\":\"red\"},\"hatch_alpha\":{\"type\":\"value\",\"value\":0.2}}}}}],\"toolbar\":{\"type\":\"object\",\"name\":\"Toolbar\",\"id\":\"p1010\",\"attributes\":{\"tools\":[{\"type\":\"object\",\"name\":\"PanTool\",\"id\":\"p1023\"},{\"type\":\"object\",\"name\":\"WheelZoomTool\",\"id\":\"p1024\",\"attributes\":{\"renderers\":\"auto\"}},{\"type\":\"object\",\"name\":\"BoxZoomTool\",\"id\":\"p1025\",\"attributes\":{\"overlay\":{\"type\":\"object\",\"name\":\"BoxAnnotation\",\"id\":\"p1026\",\"attributes\":{\"syncable\":false,\"level\":\"overlay\",\"visible\":false,\"left_units\":\"canvas\",\"right_units\":\"canvas\",\"top_units\":\"canvas\",\"bottom_units\":\"canvas\",\"line_color\":\"black\",\"line_alpha\":1.0,\"line_width\":2,\"line_dash\":[4,4],\"fill_color\":\"lightgrey\",\"fill_alpha\":0.5}}}},{\"type\":\"object\",\"name\":\"SaveTool\",\"id\":\"p1027\"},{\"type\":\"object\",\"name\":\"ResetTool\",\"id\":\"p1028\"},{\"type\":\"object\",\"name\":\"HelpTool\",\"id\":\"p1029\"}]}},\"left\":[{\"type\":\"object\",\"name\":\"LinearAxis\",\"id\":\"p1018\",\"attributes\":{\"ticker\":{\"type\":\"object\",\"name\":\"BasicTicker\",\"id\":\"p1019\",\"attributes\":{\"mantissas\":[1,2,5]}},\"formatter\":{\"type\":\"object\",\"name\":\"BasicTickFormatter\",\"id\":\"p1020\"},\"axis_label\":\"Position\",\"major_label_policy\":{\"type\":\"object\",\"name\":\"AllLabels\",\"id\":\"p1021\"}}}],\"below\":[{\"type\":\"object\",\"name\":\"LinearAxis\",\"id\":\"p1013\",\"attributes\":{\"ticker\":{\"type\":\"object\",\"name\":\"BasicTicker\",\"id\":\"p1014\",\"attributes\":{\"mantissas\":[1,2,5]}},\"formatter\":{\"type\":\"object\",\"name\":\"BasicTickFormatter\",\"id\":\"p1015\"},\"axis_label\":\"TimeStep\",\"major_label_policy\":{\"type\":\"object\",\"name\":\"AllLabels\",\"id\":\"p1016\"}}}],\"center\":[{\"type\":\"object\",\"name\":\"Grid\",\"id\":\"p1017\",\"attributes\":{\"axis\":{\"id\":\"p1013\"}}},{\"type\":\"object\",\"name\":\"Grid\",\"id\":\"p1022\",\"attributes\":{\"dimension\":1,\"axis\":{\"id\":\"p1018\"}}},{\"type\":\"object\",\"name\":\"Legend\",\"id\":\"p1039\",\"attributes\":{\"items\":[{\"type\":\"object\",\"name\":\"LegendItem\",\"id\":\"p1040\",\"attributes\":{\"label\":{\"type\":\"value\",\"value\":\"Positions Predicted\"},\"renderers\":[{\"id\":\"p1036\"}]}},{\"type\":\"object\",\"name\":\"LegendItem\",\"id\":\"p1050\",\"attributes\":{\"label\":{\"type\":\"value\",\"value\":\"Observed Positions\"},\"renderers\":[{\"id\":\"p1047\"}]}}]}}]}}]}};\n  const render_items = [{\"docid\":\"d03799e2-344a-4732-a67b-44bcd99a16e8\",\"roots\":{\"p1001\":\"ab4494bb-ec8a-4bde-b1aa-2a766bdc3380\"},\"root_ids\":[\"p1001\"]}];\n  root.Bokeh.embed.embed_items_notebook(docs_json, render_items);\n  }\n  if (root.Bokeh !== undefined) {\n    embed_document(root);\n  } else {\n    let attempts = 0;\n    const timer = setInterval(function(root) {\n      if (root.Bokeh !== undefined) {\n        clearInterval(timer);\n        embed_document(root);\n      } else {\n        attempts++;\n        if (attempts > 100) {\n          clearInterval(timer);\n          console.log(\"Bokeh: ERROR: Unable to run BokehJS code because BokehJS library is missing\");\n        }\n      }\n    }, 10, root)\n  }\n})(window);",
      "application/vnd.bokehjs_exec.v0+json": ""
     },
     "metadata": {
      "application/vnd.bokehjs_exec.v0+json": {
       "id": "p1001"
      }
     },
     "output_type": "display_data"
    }
   ],
   "source": [
    "from bokeh.io import output_notebook\n",
    "from bokeh.plotting import figure, show\n",
    "\n",
    "output_notebook()\n",
    "p = figure(title=\"Constant Gaussian DLM\", x_axis_label=\"TimeStep\", y_axis_label=\"Position\")\n",
    "\n",
    "p.circle(x, PositionPrediction, legend_label=\"Positions Predicted\", color=\"green\", size=8)\n",
    "p.circle(x, TruePositions, legend_label=\"Observed Positions\", color=\"red\", size=8)\n",
    "\n",
    "\n",
    "show(p)\n"
   ]
  },
  {
   "cell_type": "code",
   "execution_count": 8,
   "metadata": {},
   "outputs": [
    {
     "data": {
      "application/vnd.jupyter.widget-view+json": {
       "model_id": "45ba9283204e43aeac8da8d11f603117",
       "version_major": 2,
       "version_minor": 0
      },
      "text/plain": [
       "interactive(children=(IntSlider(value=0, description='Timestep', max=30), Output()), _dom_classes=('widget-int…"
      ]
     },
     "execution_count": 8,
     "metadata": {},
     "output_type": "execute_result"
    }
   ],
   "source": [
    "def EstimateofTheta(Timestep = 0):\n",
    "    \n",
    "    # Graph from 0 to 100, include 10000 points.\n",
    "    x = np.linspace( -10 ,40,  100000) \n",
    "    \n",
    "    \n",
    "    plt.plot(x, norm.pdf(x, ThetasPredictedMean[Timestep], ThetasPredictedVar[Timestep]),label =\"Distribution of predicted mu\")\n",
    "    plt.plot(x, norm.pdf(x, ThetasPosteriorMean[Timestep], ThetasPosteriorVar[Timestep]),label =\"Distribution of posterior mu\")\n",
    "\n",
    "    plt.axvline(x = TrueThetas[Timestep], color = 'b', label = 'theta k')\n",
    "\n",
    "    plt.grid()\n",
    "    plt.legend()\n",
    "    plt.title(\"Estimate of theta k\")\n",
    "    plt.xlabel(\"x\")\n",
    "    plt.ylabel(\"f(x)\")\n",
    "\n",
    "\n",
    "    \n",
    "interactive_plot = interactive(EstimateofTheta, Timestep = (0,30,1) )\n",
    "interactive_plot"
   ]
  },
  {
   "cell_type": "markdown",
   "metadata": {},
   "source": [
    "# General Kalman Filter "
   ]
  },
  {
   "cell_type": "code",
   "execution_count": 158,
   "metadata": {},
   "outputs": [],
   "source": [
    "def PredictedAndPosterior( Observations, priorThetaMean, priorThetaVariance,transitionMatrix, transitionNoiseVariance, observationMatrix, observationNoiseVariance):\n",
    "    ObservationPrediction = []\n",
    "    ThetasPredictedMean = []\n",
    "    ThetasPredictedVar = []\n",
    "    ThetasPosteriorMean = []\n",
    "    ThetasPosteriorVar = []\n",
    "    \n",
    "    ThetaMean= priorThetaMean\n",
    "    ThetaVar = priorThetaVariance\n",
    "    \n",
    "    for i in range(0,len(Observations)):\n",
    "        PredictionThetaMean = np.matmul(transitionMatrix,ThetaMean)\n",
    "        PredictionThetaVariance = np.matmul( np.matmul(transitionMatrix,transitionMatrix.T),ThetaVar ) + transitionNoiseVariance\n",
    "        \n",
    "        ThetasPredictedMean.append(PredictionThetaMean)\n",
    "        ThetasPredictedVar.append(PredictionThetaVariance)\n",
    "        ObservationPrediction.append(np.matmul( observationMatrix, PredictionThetaMean) )\n",
    "     \n",
    "        CovarianceOfInnovation = np.matmul( np.matmul(observationMatrix,PredictionThetaVariance), observationMatrix.T)+ observationNoiseVariance\n",
    "        OptimalKalmanGain = np.matmul( np.matmul(PredictionThetaVariance,observationMatrix.T),np.linalg.inv(CovarianceOfInnovation) )\n",
    "        Innovation = Observations[i] - np.matmul( observationMatrix,PredictionThetaMean )\n",
    "        \n",
    "        ThetaMean = PredictionThetaMean + np.matmul(OptimalKalmanGain,Innovation.T).T.flatten()\n",
    "        \n",
    "        ThetaVar = np.matmul((np.identity(transitionMatrix.shape[0])-np.matmul( OptimalKalmanGain,observationMatrix)) , PredictionThetaVariance)\n",
    "        \n",
    "        ThetasPosteriorMean.append(ThetaMean)\n",
    "        ThetasPosteriorVar.append(ThetaVar)\n",
    "    \n",
    "    return ObservationPrediction ,ThetasPredictedMean , ThetasPredictedVar,ThetasPosteriorMean, ThetasPosteriorVar \n",
    "    "
   ]
  },
  {
   "cell_type": "code",
   "execution_count": 159,
   "metadata": {},
   "outputs": [],
   "source": [
    "def GenerateSample(trueTheta,transitionMatrix, transitionNoiseVariance, observationMatrix, observationNoiseVariance, number):\n",
    "    \n",
    "   \n",
    "    Observations = []\n",
    "    TrueThetas = []\n",
    "    ThetaK = trueTheta\n",
    "    MeanO = [0] * observationNoiseVariance.shape[0]\n",
    "    MeanT= [0] * transitionNoiseVariance.shape[0]\n",
    "    \n",
    "    for i in range(0,number):\n",
    "        ThetaK = np.matmul(transitionMatrix, ThetaK) + np.random.default_rng().multivariate_normal(MeanT,transitionNoiseVariance,1)\n",
    "        ThetaK = ThetaK.flatten()\n",
    "       \n",
    "        ObservationK = np.matmul(observationMatrix, ThetaK) + np.random.default_rng().multivariate_normal(MeanO,observationNoiseVariance,1)\n",
    "        Observations.append(ObservationK)\n",
    "        ObservationK = ObservationK.flatten()\n",
    "        TrueThetas.append(ThetaK)\n",
    "    return TrueThetas, Observations"
   ]
  },
  {
   "cell_type": "code",
   "execution_count": 160,
   "metadata": {},
   "outputs": [
    {
     "data": {
      "text/html": [
       "<style>\n",
       "        .bk-notebook-logo {\n",
       "            display: block;\n",
       "            width: 20px;\n",
       "            height: 20px;\n",
       "            background-image: url(data:image/png;base64,iVBORw0KGgoAAAANSUhEUgAAABQAAAAUCAYAAACNiR0NAAAABHNCSVQICAgIfAhkiAAAAAlwSFlzAAALEgAACxIB0t1+/AAAABx0RVh0U29mdHdhcmUAQWRvYmUgRmlyZXdvcmtzIENTNui8sowAAAOkSURBVDiNjZRtaJVlGMd/1/08zzln5zjP1LWcU9N0NkN8m2CYjpgQYQXqSs0I84OLIC0hkEKoPtiH3gmKoiJDU7QpLgoLjLIQCpEsNJ1vqUOdO7ppbuec5+V+rj4ctwzd8IIbbi6u+8f1539dt3A78eXC7QizUF7gyV1fD1Yqg4JWz84yffhm0qkFqBogB9rM8tZdtwVsPUhWhGcFJngGeWrPzHm5oaMmkfEg1usvLFyc8jLRqDOMru7AyC8saQr7GG7f5fvDeH7Ej8CM66nIF+8yngt6HWaKh7k49Soy9nXurCi1o3qUbS3zWfrYeQDTB/Qj6kX6Ybhw4B+bOYoLKCC9H3Nu/leUTZ1JdRWkkn2ldcCamzrcf47KKXdAJllSlxAOkRgyHsGC/zRday5Qld9DyoM4/q/rUoy/CXh3jzOu3bHUVZeU+DEn8FInkPBFlu3+nW3Nw0mk6vCDiWg8CeJaxEwuHS3+z5RgY+YBR6V1Z1nxSOfoaPa4LASWxxdNp+VWTk7+4vzaou8v8PN+xo+KY2xsw6une2frhw05CTYOmQvsEhjhWjn0bmXPjpE1+kplmmkP3suftwTubK9Vq22qKmrBhpY4jvd5afdRA3wGjFAgcnTK2s4hY0/GPNIb0nErGMCRxWOOX64Z8RAC4oCXdklmEvcL8o0BfkNK4lUg9HTl+oPlQxdNo3Mg4Nv175e/1LDGzZen30MEjRUtmXSfiTVu1kK8W4txyV6BMKlbgk3lMwYCiusNy9fVfvvwMxv8Ynl6vxoByANLTWplvuj/nF9m2+PDtt1eiHPBr1oIfhCChQMBw6Aw0UulqTKZdfVvfG7VcfIqLG9bcldL/+pdWTLxLUy8Qq38heUIjh4XlzZxzQm19lLFlr8vdQ97rjZVOLf8nclzckbcD4wxXMidpX30sFd37Fv/GtwwhzhxGVAprjbg0gCAEeIgwCZyTV2Z1REEW8O4py0wsjeloKoMr6iCY6dP92H6Vw/oTyICIthibxjm/DfN9lVz8IqtqKYLUXfoKVMVQVVJOElGjrnnUt9T9wbgp8AyYKaGlqingHZU/uG2NTZSVqwHQTWkx9hxjkpWDaCg6Ckj5qebgBVbT3V3NNXMSiWSDdGV3hrtzla7J+duwPOToIg42ChPQOQjspnSlp1V+Gjdged7+8UN5CRAV7a5EdFNwCjEaBR27b3W890TE7g24NAP/mMDXRWrGoFPQI9ls/MWO2dWFAar/xcOIImbbpA3zgAAAABJRU5ErkJggg==);\n",
       "        }\n",
       "    </style>\n",
       "    <div>\n",
       "        <a href=\"https://bokeh.org\" target=\"_blank\" class=\"bk-notebook-logo\"></a>\n",
       "        <span id=\"be6299d0-20e1-4d39-9605-0874d5aae873\">Loading BokehJS ...</span>\n",
       "    </div>\n"
      ]
     },
     "metadata": {},
     "output_type": "display_data"
    },
    {
     "data": {
      "application/javascript": "(function(root) {\n  function now() {\n    return new Date();\n  }\n\n  const force = true;\n\n  if (typeof root._bokeh_onload_callbacks === \"undefined\" || force === true) {\n    root._bokeh_onload_callbacks = [];\n    root._bokeh_is_loading = undefined;\n  }\n\nconst JS_MIME_TYPE = 'application/javascript';\n  const HTML_MIME_TYPE = 'text/html';\n  const EXEC_MIME_TYPE = 'application/vnd.bokehjs_exec.v0+json';\n  const CLASS_NAME = 'output_bokeh rendered_html';\n\n  /**\n   * Render data to the DOM node\n   */\n  function render(props, node) {\n    const script = document.createElement(\"script\");\n    node.appendChild(script);\n  }\n\n  /**\n   * Handle when an output is cleared or removed\n   */\n  function handleClearOutput(event, handle) {\n    function drop(id) {\n      const view = Bokeh.index.get_by_id(id)\n      if (view != null) {\n        view.model.document.clear()\n        Bokeh.index.delete(view)\n      }\n    }\n\n    const cell = handle.cell;\n\n    const id = cell.output_area._bokeh_element_id;\n    const server_id = cell.output_area._bokeh_server_id;\n\n    // Clean up Bokeh references\n    if (id != null) {\n      drop(id)\n    }\n\n    if (server_id !== undefined) {\n      // Clean up Bokeh references\n      const cmd_clean = \"from bokeh.io.state import curstate; print(curstate().uuid_to_server['\" + server_id + \"'].get_sessions()[0].document.roots[0]._id)\";\n      cell.notebook.kernel.execute(cmd_clean, {\n        iopub: {\n          output: function(msg) {\n            const id = msg.content.text.trim()\n            drop(id)\n          }\n        }\n      });\n      // Destroy server and session\n      const cmd_destroy = \"import bokeh.io.notebook as ion; ion.destroy_server('\" + server_id + \"')\";\n      cell.notebook.kernel.execute(cmd_destroy);\n    }\n  }\n\n  /**\n   * Handle when a new output is added\n   */\n  function handleAddOutput(event, handle) {\n    const output_area = handle.output_area;\n    const output = handle.output;\n\n    // limit handleAddOutput to display_data with EXEC_MIME_TYPE content only\n    if ((output.output_type != \"display_data\") || (!Object.prototype.hasOwnProperty.call(output.data, EXEC_MIME_TYPE))) {\n      return\n    }\n\n    const toinsert = output_area.element.find(\".\" + CLASS_NAME.split(' ')[0]);\n\n    if (output.metadata[EXEC_MIME_TYPE][\"id\"] !== undefined) {\n      toinsert[toinsert.length - 1].firstChild.textContent = output.data[JS_MIME_TYPE];\n      // store reference to embed id on output_area\n      output_area._bokeh_element_id = output.metadata[EXEC_MIME_TYPE][\"id\"];\n    }\n    if (output.metadata[EXEC_MIME_TYPE][\"server_id\"] !== undefined) {\n      const bk_div = document.createElement(\"div\");\n      bk_div.innerHTML = output.data[HTML_MIME_TYPE];\n      const script_attrs = bk_div.children[0].attributes;\n      for (let i = 0; i < script_attrs.length; i++) {\n        toinsert[toinsert.length - 1].firstChild.setAttribute(script_attrs[i].name, script_attrs[i].value);\n        toinsert[toinsert.length - 1].firstChild.textContent = bk_div.children[0].textContent\n      }\n      // store reference to server id on output_area\n      output_area._bokeh_server_id = output.metadata[EXEC_MIME_TYPE][\"server_id\"];\n    }\n  }\n\n  function register_renderer(events, OutputArea) {\n\n    function append_mime(data, metadata, element) {\n      // create a DOM node to render to\n      const toinsert = this.create_output_subarea(\n        metadata,\n        CLASS_NAME,\n        EXEC_MIME_TYPE\n      );\n      this.keyboard_manager.register_events(toinsert);\n      // Render to node\n      const props = {data: data, metadata: metadata[EXEC_MIME_TYPE]};\n      render(props, toinsert[toinsert.length - 1]);\n      element.append(toinsert);\n      return toinsert\n    }\n\n    /* Handle when an output is cleared or removed */\n    events.on('clear_output.CodeCell', handleClearOutput);\n    events.on('delete.Cell', handleClearOutput);\n\n    /* Handle when a new output is added */\n    events.on('output_added.OutputArea', handleAddOutput);\n\n    /**\n     * Register the mime type and append_mime function with output_area\n     */\n    OutputArea.prototype.register_mime_type(EXEC_MIME_TYPE, append_mime, {\n      /* Is output safe? */\n      safe: true,\n      /* Index of renderer in `output_area.display_order` */\n      index: 0\n    });\n  }\n\n  // register the mime type if in Jupyter Notebook environment and previously unregistered\n  if (root.Jupyter !== undefined) {\n    const events = require('base/js/events');\n    const OutputArea = require('notebook/js/outputarea').OutputArea;\n\n    if (OutputArea.prototype.mime_types().indexOf(EXEC_MIME_TYPE) == -1) {\n      register_renderer(events, OutputArea);\n    }\n  }\n  if (typeof (root._bokeh_timeout) === \"undefined\" || force === true) {\n    root._bokeh_timeout = Date.now() + 5000;\n    root._bokeh_failed_load = false;\n  }\n\n  const NB_LOAD_WARNING = {'data': {'text/html':\n     \"<div style='background-color: #fdd'>\\n\"+\n     \"<p>\\n\"+\n     \"BokehJS does not appear to have successfully loaded. If loading BokehJS from CDN, this \\n\"+\n     \"may be due to a slow or bad network connection. Possible fixes:\\n\"+\n     \"</p>\\n\"+\n     \"<ul>\\n\"+\n     \"<li>re-rerun `output_notebook()` to attempt to load from CDN again, or</li>\\n\"+\n     \"<li>use INLINE resources instead, as so:</li>\\n\"+\n     \"</ul>\\n\"+\n     \"<code>\\n\"+\n     \"from bokeh.resources import INLINE\\n\"+\n     \"output_notebook(resources=INLINE)\\n\"+\n     \"</code>\\n\"+\n     \"</div>\"}};\n\n  function display_loaded() {\n    const el = document.getElementById(\"be6299d0-20e1-4d39-9605-0874d5aae873\");\n    if (el != null) {\n      el.textContent = \"BokehJS is loading...\";\n    }\n    if (root.Bokeh !== undefined) {\n      if (el != null) {\n        el.textContent = \"BokehJS \" + root.Bokeh.version + \" successfully loaded.\";\n      }\n    } else if (Date.now() < root._bokeh_timeout) {\n      setTimeout(display_loaded, 100)\n    }\n  }\n\n  function run_callbacks() {\n    try {\n      root._bokeh_onload_callbacks.forEach(function(callback) {\n        if (callback != null)\n          callback();\n      });\n    } finally {\n      delete root._bokeh_onload_callbacks\n    }\n    console.debug(\"Bokeh: all callbacks have finished\");\n  }\n\n  function load_libs(css_urls, js_urls, callback) {\n    if (css_urls == null) css_urls = [];\n    if (js_urls == null) js_urls = [];\n\n    root._bokeh_onload_callbacks.push(callback);\n    if (root._bokeh_is_loading > 0) {\n      console.debug(\"Bokeh: BokehJS is being loaded, scheduling callback at\", now());\n      return null;\n    }\n    if (js_urls == null || js_urls.length === 0) {\n      run_callbacks();\n      return null;\n    }\n    console.debug(\"Bokeh: BokehJS not loaded, scheduling load and callback at\", now());\n    root._bokeh_is_loading = css_urls.length + js_urls.length;\n\n    function on_load() {\n      root._bokeh_is_loading--;\n      if (root._bokeh_is_loading === 0) {\n        console.debug(\"Bokeh: all BokehJS libraries/stylesheets loaded\");\n        run_callbacks()\n      }\n    }\n\n    function on_error(url) {\n      console.error(\"failed to load \" + url);\n    }\n\n    for (let i = 0; i < css_urls.length; i++) {\n      const url = css_urls[i];\n      const element = document.createElement(\"link\");\n      element.onload = on_load;\n      element.onerror = on_error.bind(null, url);\n      element.rel = \"stylesheet\";\n      element.type = \"text/css\";\n      element.href = url;\n      console.debug(\"Bokeh: injecting link tag for BokehJS stylesheet: \", url);\n      document.body.appendChild(element);\n    }\n\n    for (let i = 0; i < js_urls.length; i++) {\n      const url = js_urls[i];\n      const element = document.createElement('script');\n      element.onload = on_load;\n      element.onerror = on_error.bind(null, url);\n      element.async = false;\n      element.src = url;\n      console.debug(\"Bokeh: injecting script tag for BokehJS library: \", url);\n      document.head.appendChild(element);\n    }\n  };\n\n  function inject_raw_css(css) {\n    const element = document.createElement(\"style\");\n    element.appendChild(document.createTextNode(css));\n    document.body.appendChild(element);\n  }\n\n  const js_urls = [\"https://cdn.bokeh.org/bokeh/release/bokeh-3.3.0.min.js\", \"https://cdn.bokeh.org/bokeh/release/bokeh-gl-3.3.0.min.js\", \"https://cdn.bokeh.org/bokeh/release/bokeh-widgets-3.3.0.min.js\", \"https://cdn.bokeh.org/bokeh/release/bokeh-tables-3.3.0.min.js\", \"https://cdn.bokeh.org/bokeh/release/bokeh-mathjax-3.3.0.min.js\"];\n  const css_urls = [];\n\n  const inline_js = [    function(Bokeh) {\n      Bokeh.set_log_level(\"info\");\n    },\nfunction(Bokeh) {\n    }\n  ];\n\n  function run_inline_js() {\n    if (root.Bokeh !== undefined || force === true) {\n          for (let i = 0; i < inline_js.length; i++) {\n      inline_js[i].call(root, root.Bokeh);\n    }\nif (force === true) {\n        display_loaded();\n      }} else if (Date.now() < root._bokeh_timeout) {\n      setTimeout(run_inline_js, 100);\n    } else if (!root._bokeh_failed_load) {\n      console.log(\"Bokeh: BokehJS failed to load within specified timeout.\");\n      root._bokeh_failed_load = true;\n    } else if (force !== true) {\n      const cell = $(document.getElementById(\"be6299d0-20e1-4d39-9605-0874d5aae873\")).parents('.cell').data().cell;\n      cell.output_area.append_execute_result(NB_LOAD_WARNING)\n    }\n  }\n\n  if (root._bokeh_is_loading === 0) {\n    console.debug(\"Bokeh: BokehJS loaded, going straight to plotting\");\n    run_inline_js();\n  } else {\n    load_libs(css_urls, js_urls, function() {\n      console.debug(\"Bokeh: BokehJS plotting callback run at\", now());\n      run_inline_js();\n    });\n  }\n}(window));",
      "application/vnd.bokehjs_load.v0+json": ""
     },
     "metadata": {},
     "output_type": "display_data"
    }
   ],
   "source": [
    "from bokeh.io import output_notebook\n",
    "from bokeh.plotting import figure, show\n",
    "from ipywidgets import interactive \n",
    "\n",
    "output_notebook()\n",
    "\n",
    "def GeneralKalmanFilter( trueTheta, transitionMatrix, transitionNoiseVariance, observationMatrix, observationNoiseVariance, priorThetaMean, priorThetaVariance,number):\n",
    "\n",
    "    #simulat some data\n",
    "    TrueThetas, Observations = GenerateSample(trueTheta,transitionMatrix, transitionNoiseVariance, observationMatrix, observationNoiseVariance, number)\n",
    "    \n",
    "    #Calculate predicted theta for each time step as well as the posterior\n",
    "    ObservationPrediction ,ThetasPredictedMean ,ThetasPredictedVar,ThetasPosteriorMean, ThetasPosteriorVar = PredictedAndPosterior( Observations, priorThetaMean, priorThetaVariance,transitionMatrix, transitionNoiseVariance, observationMatrix, observationNoiseVariance)\n",
    "    return TrueThetas, Observations, ObservationPrediction ,ThetasPredictedMean , ThetasPredictedVar,ThetasPosteriorMean, ThetasPosteriorVar\n",
    "    \n",
    "    \n",
    "    "
   ]
  },
  {
   "cell_type": "markdown",
   "metadata": {},
   "source": [
    "# Visualising Kalamn Filter in 1D "
   ]
  },
  {
   "cell_type": "code",
   "execution_count": 26,
   "metadata": {},
   "outputs": [],
   "source": [
    "\n",
    "TrueThetas, Observations, ObservationPrediction ,ThetasPredictedMean , ThetasPredictedVar,ThetasPosteriorMean, ThetasPosteriorVar=GeneralKalmanFilter(\n",
    "    #True Theta\n",
    "    np.full((1,1), 2),\n",
    "    #Transition Matrix\n",
    "    np.full((1,1), 1.1),\n",
    "    #TransitionNoiseVariance\n",
    "    np.full((1,1), 1),\n",
    "    #Observation Matrix\n",
    "    np.full((1,1), 2),\n",
    "    #ObservationNoiseVariance\n",
    "    np.full((1,1), 1),\n",
    "    #priorTheta Mean\n",
    "    np.full((1,1), 3),\n",
    "    #priorTheta Variance\n",
    "    np.full((1,1), 2),\n",
    "    #number of observations\n",
    "    33              \n",
    ")\n",
    "\n"
   ]
  },
  {
   "cell_type": "code",
   "execution_count": 17,
   "metadata": {},
   "outputs": [
    {
     "data": {
      "text/html": [
       "\n",
       "  <div id=\"d8bcf54c-c142-4205-90e4-086fdac0bf9b\" data-root-id=\"p1134\" style=\"display: contents;\"></div>\n"
      ]
     },
     "metadata": {},
     "output_type": "display_data"
    },
    {
     "data": {
      "application/javascript": "(function(root) {\n  function embed_document(root) {\n  const docs_json = {\"6edba2ed-f54b-44fd-9660-4e29fd3c1f33\":{\"version\":\"3.3.0\",\"title\":\"Bokeh Application\",\"roots\":[{\"type\":\"object\",\"name\":\"Figure\",\"id\":\"p1134\",\"attributes\":{\"x_range\":{\"type\":\"object\",\"name\":\"DataRange1d\",\"id\":\"p1135\"},\"y_range\":{\"type\":\"object\",\"name\":\"DataRange1d\",\"id\":\"p1136\"},\"x_scale\":{\"type\":\"object\",\"name\":\"LinearScale\",\"id\":\"p1144\"},\"y_scale\":{\"type\":\"object\",\"name\":\"LinearScale\",\"id\":\"p1145\"},\"title\":{\"type\":\"object\",\"name\":\"Title\",\"id\":\"p1137\",\"attributes\":{\"text\":\"Gaussian DLM\"}},\"renderers\":[{\"type\":\"object\",\"name\":\"GlyphRenderer\",\"id\":\"p1169\",\"attributes\":{\"data_source\":{\"type\":\"object\",\"name\":\"ColumnDataSource\",\"id\":\"p1163\",\"attributes\":{\"selected\":{\"type\":\"object\",\"name\":\"Selection\",\"id\":\"p1164\",\"attributes\":{\"indices\":[],\"line_indices\":[]}},\"selection_policy\":{\"type\":\"object\",\"name\":\"UnionRenderers\",\"id\":\"p1165\"},\"data\":{\"type\":\"map\",\"entries\":[[\"x\",{\"type\":\"ndarray\",\"array\":{\"type\":\"bytes\",\"data\":\"AAAAAAAAAAAAAAAAAIDwPwAAAAAAgABAAAAAAADACEAAAAAAAIAQQAAAAAAAoBRAAAAAAADAGEAAAAAAAOAcQAAAAAAAgCBAAAAAAACQIkAAAAAAAKAkQAAAAAAAsCZAAAAAAADAKEAAAAAAANAqQAAAAAAA4CxAAAAAAADwLkAAAAAAAIAwQAAAAAAAiDFAAAAAAACQMkAAAAAAAJgzQAAAAAAAoDRAAAAAAACoNUAAAAAAALA2QAAAAAAAuDdAAAAAAADAOEAAAAAAAMg5QAAAAAAA0DpAAAAAAADYO0AAAAAAAOA8QAAAAAAA6D1AAAAAAADwPkAAAAAAAPg/QAAAAAAAgEBA\"},\"shape\":[33],\"dtype\":\"float64\",\"order\":\"little\"}],[\"y\",[6,7,6,3,2,0,-1,-2,-4,-6,-8,-8,-10,-11,-13,-15,-14,-15,-17,-16,-18,-17,-20,-21,-24,-27,-31,-34,-39,-41,-46,-53,-59]]]}}},\"view\":{\"type\":\"object\",\"name\":\"CDSView\",\"id\":\"p1170\",\"attributes\":{\"filter\":{\"type\":\"object\",\"name\":\"AllIndices\",\"id\":\"p1171\"}}},\"glyph\":{\"type\":\"object\",\"name\":\"Circle\",\"id\":\"p1166\",\"attributes\":{\"x\":{\"type\":\"field\",\"field\":\"x\"},\"y\":{\"type\":\"field\",\"field\":\"y\"},\"size\":{\"type\":\"value\",\"value\":8},\"line_color\":{\"type\":\"value\",\"value\":\"green\"},\"fill_color\":{\"type\":\"value\",\"value\":\"green\"},\"hatch_color\":{\"type\":\"value\",\"value\":\"green\"}}},\"nonselection_glyph\":{\"type\":\"object\",\"name\":\"Circle\",\"id\":\"p1167\",\"attributes\":{\"x\":{\"type\":\"field\",\"field\":\"x\"},\"y\":{\"type\":\"field\",\"field\":\"y\"},\"size\":{\"type\":\"value\",\"value\":8},\"line_color\":{\"type\":\"value\",\"value\":\"green\"},\"line_alpha\":{\"type\":\"value\",\"value\":0.1},\"fill_color\":{\"type\":\"value\",\"value\":\"green\"},\"fill_alpha\":{\"type\":\"value\",\"value\":0.1},\"hatch_color\":{\"type\":\"value\",\"value\":\"green\"},\"hatch_alpha\":{\"type\":\"value\",\"value\":0.1}}},\"muted_glyph\":{\"type\":\"object\",\"name\":\"Circle\",\"id\":\"p1168\",\"attributes\":{\"x\":{\"type\":\"field\",\"field\":\"x\"},\"y\":{\"type\":\"field\",\"field\":\"y\"},\"size\":{\"type\":\"value\",\"value\":8},\"line_color\":{\"type\":\"value\",\"value\":\"green\"},\"line_alpha\":{\"type\":\"value\",\"value\":0.2},\"fill_color\":{\"type\":\"value\",\"value\":\"green\"},\"fill_alpha\":{\"type\":\"value\",\"value\":0.2},\"hatch_color\":{\"type\":\"value\",\"value\":\"green\"},\"hatch_alpha\":{\"type\":\"value\",\"value\":0.2}}}}},{\"type\":\"object\",\"name\":\"GlyphRenderer\",\"id\":\"p1180\",\"attributes\":{\"data_source\":{\"type\":\"object\",\"name\":\"ColumnDataSource\",\"id\":\"p1174\",\"attributes\":{\"selected\":{\"type\":\"object\",\"name\":\"Selection\",\"id\":\"p1175\",\"attributes\":{\"indices\":[],\"line_indices\":[]}},\"selection_policy\":{\"type\":\"object\",\"name\":\"UnionRenderers\",\"id\":\"p1176\"},\"data\":{\"type\":\"map\",\"entries\":[[\"x\",{\"type\":\"ndarray\",\"array\":{\"type\":\"bytes\",\"data\":\"AAAAAAAAAAAAAAAAAIDwPwAAAAAAgABAAAAAAADACEAAAAAAAIAQQAAAAAAAoBRAAAAAAADAGEAAAAAAAOAcQAAAAAAAgCBAAAAAAACQIkAAAAAAAKAkQAAAAAAAsCZAAAAAAADAKEAAAAAAANAqQAAAAAAA4CxAAAAAAADwLkAAAAAAAIAwQAAAAAAAiDFAAAAAAACQMkAAAAAAAJgzQAAAAAAAoDRAAAAAAACoNUAAAAAAALA2QAAAAAAAuDdAAAAAAADAOEAAAAAAAMg5QAAAAAAA0DpAAAAAAADYO0AAAAAAAOA8QAAAAAAA6D1AAAAAAADwPkAAAAAAAPg/QAAAAAAAgEBA\"},\"shape\":[33],\"dtype\":\"float64\",\"order\":\"little\"}],[\"y\",[6,5,2,1,0,-1,-2,-4,-5,-8,-7,-9,-10,-12,-13,-12,-14,-16,-13,-16,-15,-18,-19,-22,-24,-29,-30,-36,-37,-42,-49,-54,-55]]]}}},\"view\":{\"type\":\"object\",\"name\":\"CDSView\",\"id\":\"p1181\",\"attributes\":{\"filter\":{\"type\":\"object\",\"name\":\"AllIndices\",\"id\":\"p1182\"}}},\"glyph\":{\"type\":\"object\",\"name\":\"Circle\",\"id\":\"p1177\",\"attributes\":{\"x\":{\"type\":\"field\",\"field\":\"x\"},\"y\":{\"type\":\"field\",\"field\":\"y\"},\"size\":{\"type\":\"value\",\"value\":8},\"line_color\":{\"type\":\"value\",\"value\":\"red\"},\"fill_color\":{\"type\":\"value\",\"value\":\"red\"},\"hatch_color\":{\"type\":\"value\",\"value\":\"red\"}}},\"nonselection_glyph\":{\"type\":\"object\",\"name\":\"Circle\",\"id\":\"p1178\",\"attributes\":{\"x\":{\"type\":\"field\",\"field\":\"x\"},\"y\":{\"type\":\"field\",\"field\":\"y\"},\"size\":{\"type\":\"value\",\"value\":8},\"line_color\":{\"type\":\"value\",\"value\":\"red\"},\"line_alpha\":{\"type\":\"value\",\"value\":0.1},\"fill_color\":{\"type\":\"value\",\"value\":\"red\"},\"fill_alpha\":{\"type\":\"value\",\"value\":0.1},\"hatch_color\":{\"type\":\"value\",\"value\":\"red\"},\"hatch_alpha\":{\"type\":\"value\",\"value\":0.1}}},\"muted_glyph\":{\"type\":\"object\",\"name\":\"Circle\",\"id\":\"p1179\",\"attributes\":{\"x\":{\"type\":\"field\",\"field\":\"x\"},\"y\":{\"type\":\"field\",\"field\":\"y\"},\"size\":{\"type\":\"value\",\"value\":8},\"line_color\":{\"type\":\"value\",\"value\":\"red\"},\"line_alpha\":{\"type\":\"value\",\"value\":0.2},\"fill_color\":{\"type\":\"value\",\"value\":\"red\"},\"fill_alpha\":{\"type\":\"value\",\"value\":0.2},\"hatch_color\":{\"type\":\"value\",\"value\":\"red\"},\"hatch_alpha\":{\"type\":\"value\",\"value\":0.2}}}}}],\"toolbar\":{\"type\":\"object\",\"name\":\"Toolbar\",\"id\":\"p1143\",\"attributes\":{\"tools\":[{\"type\":\"object\",\"name\":\"PanTool\",\"id\":\"p1156\"},{\"type\":\"object\",\"name\":\"WheelZoomTool\",\"id\":\"p1157\",\"attributes\":{\"renderers\":\"auto\"}},{\"type\":\"object\",\"name\":\"BoxZoomTool\",\"id\":\"p1158\",\"attributes\":{\"overlay\":{\"type\":\"object\",\"name\":\"BoxAnnotation\",\"id\":\"p1159\",\"attributes\":{\"syncable\":false,\"level\":\"overlay\",\"visible\":false,\"left_units\":\"canvas\",\"right_units\":\"canvas\",\"top_units\":\"canvas\",\"bottom_units\":\"canvas\",\"line_color\":\"black\",\"line_alpha\":1.0,\"line_width\":2,\"line_dash\":[4,4],\"fill_color\":\"lightgrey\",\"fill_alpha\":0.5}}}},{\"type\":\"object\",\"name\":\"SaveTool\",\"id\":\"p1160\"},{\"type\":\"object\",\"name\":\"ResetTool\",\"id\":\"p1161\"},{\"type\":\"object\",\"name\":\"HelpTool\",\"id\":\"p1162\"}]}},\"left\":[{\"type\":\"object\",\"name\":\"LinearAxis\",\"id\":\"p1151\",\"attributes\":{\"ticker\":{\"type\":\"object\",\"name\":\"BasicTicker\",\"id\":\"p1152\",\"attributes\":{\"mantissas\":[1,2,5]}},\"formatter\":{\"type\":\"object\",\"name\":\"BasicTickFormatter\",\"id\":\"p1153\"},\"axis_label\":\"Position (ie yk)\",\"major_label_policy\":{\"type\":\"object\",\"name\":\"AllLabels\",\"id\":\"p1154\"}}}],\"below\":[{\"type\":\"object\",\"name\":\"LinearAxis\",\"id\":\"p1146\",\"attributes\":{\"ticker\":{\"type\":\"object\",\"name\":\"BasicTicker\",\"id\":\"p1147\",\"attributes\":{\"mantissas\":[1,2,5]}},\"formatter\":{\"type\":\"object\",\"name\":\"BasicTickFormatter\",\"id\":\"p1148\"},\"axis_label\":\"TimeStep\",\"major_label_policy\":{\"type\":\"object\",\"name\":\"AllLabels\",\"id\":\"p1149\"}}}],\"center\":[{\"type\":\"object\",\"name\":\"Grid\",\"id\":\"p1150\",\"attributes\":{\"axis\":{\"id\":\"p1146\"}}},{\"type\":\"object\",\"name\":\"Grid\",\"id\":\"p1155\",\"attributes\":{\"dimension\":1,\"axis\":{\"id\":\"p1151\"}}},{\"type\":\"object\",\"name\":\"Legend\",\"id\":\"p1172\",\"attributes\":{\"items\":[{\"type\":\"object\",\"name\":\"LegendItem\",\"id\":\"p1173\",\"attributes\":{\"label\":{\"type\":\"value\",\"value\":\"Positions Predicted\"},\"renderers\":[{\"id\":\"p1169\"}]}},{\"type\":\"object\",\"name\":\"LegendItem\",\"id\":\"p1183\",\"attributes\":{\"label\":{\"type\":\"value\",\"value\":\"Observed Positions\"},\"renderers\":[{\"id\":\"p1180\"}]}}]}}]}}]}};\n  const render_items = [{\"docid\":\"6edba2ed-f54b-44fd-9660-4e29fd3c1f33\",\"roots\":{\"p1134\":\"d8bcf54c-c142-4205-90e4-086fdac0bf9b\"},\"root_ids\":[\"p1134\"]}];\n  root.Bokeh.embed.embed_items_notebook(docs_json, render_items);\n  }\n  if (root.Bokeh !== undefined) {\n    embed_document(root);\n  } else {\n    let attempts = 0;\n    const timer = setInterval(function(root) {\n      if (root.Bokeh !== undefined) {\n        clearInterval(timer);\n        embed_document(root);\n      } else {\n        attempts++;\n        if (attempts > 100) {\n          clearInterval(timer);\n          console.log(\"Bokeh: ERROR: Unable to run BokehJS code because BokehJS library is missing\");\n        }\n      }\n    }, 10, root)\n  }\n})(window);",
      "application/vnd.bokehjs_exec.v0+json": ""
     },
     "metadata": {
      "application/vnd.bokehjs_exec.v0+json": {
       "id": "p1134"
      }
     },
     "output_type": "display_data"
    }
   ],
   "source": [
    "# Plot predictions against observations\n",
    "yObs = np.concatenate( Observations, axis=0 )\n",
    "yObs =  [int(item[0]) for item in yObs]\n",
    "\n",
    "yPred= np.concatenate( ObservationPrediction, axis=0 )\n",
    "yPred =  [int(item[0]) for item in yPred]\n",
    "\n",
    "x = np.linspace( 0 ,len(yPred),  len(yPred)) \n",
    "p = figure(title=\"Gaussian DLM\", x_axis_label=\"TimeStep\", y_axis_label=\"Position (ie yk)\")\n",
    "p.circle(x, yPred, legend_label=\"Positions Predicted\", color=\"green\", size=8)\n",
    "p.circle(x, yObs, legend_label=\"Observed Positions\", color=\"red\", size=8)\n",
    "show(p) \n"
   ]
  },
  {
   "cell_type": "code",
   "execution_count": 18,
   "metadata": {},
   "outputs": [],
   "source": [
    "#Plotting distribution of posterior and predicted mu along time\n",
    "import numpy as np\n",
    "import matplotlib.pyplot as plt \n",
    "from ipywidgets import interactive \n",
    "from scipy.stats import norm \n",
    "import math\n",
    "\n",
    "ThetasPredictedMean = np.concatenate( ThetasPredictedMean, axis=0 )\n",
    "ThetasPredictedMean =  [float(item[0]) for item in ThetasPredictedMean] \n",
    "\n",
    "ThetasPredictedVar = np.concatenate( ThetasPredictedVar, axis=0 )\n",
    "ThetasPredictedVar =  [float(item[0]) for item in ThetasPredictedVar] \n",
    "\n",
    "ThetasPosteriorMean = np.concatenate( ThetasPosteriorMean, axis=0 )\n",
    "ThetasPosteriorMean =  [float(item[0]) for item in ThetasPosteriorMean] \n",
    "\n",
    "ThetasPosteriorVar = np.concatenate( ThetasPosteriorVar, axis=0 )\n",
    "ThetasPosteriorVar =  [float(item[0]) for item in ThetasPosteriorVar] \n",
    "    \n"
   ]
  },
  {
   "cell_type": "code",
   "execution_count": 20,
   "metadata": {},
   "outputs": [
    {
     "data": {
      "application/vnd.jupyter.widget-view+json": {
       "model_id": "fb68a6f318bb4aa5ae614372ce9a169b",
       "version_major": 2,
       "version_minor": 0
      },
      "text/plain": [
       "interactive(children=(IntSlider(value=0, description='Timestep', max=30), Output()), _dom_classes=('widget-int…"
      ]
     },
     "execution_count": 20,
     "metadata": {},
     "output_type": "execute_result"
    }
   ],
   "source": [
    "def EstimateofTheta(Timestep = 0):\n",
    "    \n",
    "    # Graph from 0 to 100, include 10000 points.\n",
    "    x = np.linspace( -40 ,40,  100000) \n",
    "    \n",
    "    \n",
    "    plt.plot(x, norm.pdf(x, ThetasPredictedMean[Timestep], ThetasPredictedVar[Timestep]),label =\"Distribution of predicted mu\")\n",
    "    plt.plot(x, norm.pdf(x, ThetasPosteriorMean[Timestep], ThetasPosteriorVar[Timestep]),label =\"Distribution of posterior mu\")\n",
    "\n",
    "    plt.axvline(x = TrueThetas[Timestep], color = 'b', label = 'theta k')\n",
    "\n",
    "    plt.grid()\n",
    "    plt.legend()\n",
    "    plt.title(\"Estimate of theta k\")\n",
    "    plt.xlabel(\"x\")\n",
    "    plt.ylabel(\"f(x)\")\n",
    "\n",
    "\n",
    "    \n",
    "interactive_plot = interactive(EstimateofTheta, Timestep = (0,30,1) )\n",
    "interactive_plot"
   ]
  },
  {
   "cell_type": "markdown",
   "metadata": {},
   "source": [
    "# Properties of Signatures "
   ]
  },
  {
   "cell_type": "code",
   "execution_count": null,
   "metadata": {},
   "outputs": [],
   "source": [
    "\n",
    "import iisignature \n",
    "import numpy as np\n",
    "path = np.random.uniform(size=(50,3)) \n",
    "signature = iisignature.sig(path ,4)\n",
    "s = iisignature.prepare(3,4)\n",
    "logsignature = iisignature.logsig(path,s)"
   ]
  },
  {
   "cell_type": "code",
   "execution_count": null,
   "metadata": {},
   "outputs": [],
   "source": [
    "from PIL import ImageTk, Image, ImageDraw\n",
    "import PIL\n",
    "import numpy as np\n",
    "from tkinter import *\n",
    "import random\n",
    "import csv\n",
    "width = 200  # canvas width\n",
    "height = 200 # canvas height\n",
    "center = height//2\n",
    "white = (255, 255, 255) # canvas back\n",
    "\n",
    "def save():\n",
    "    # save image to hard drive\n",
    "    fileName= random.randint(1, 2000)\n",
    "    output_image.save(\"2.jpg\")\n",
    "    temp = \"/Users/ambarjin/Desktop/Y4 Data Sci/Dissertation/NumberData/Training/3/\" +str(fileName)+\".npy\"\n",
    "    x=np.array(Coordinnates)\n",
    "    np.save(temp, x)\n",
    "      \n",
    "    print(Coordinnates)\n",
    "    Coordinnates.clear()\n",
    "    \n",
    "\n",
    "def paint(event):\n",
    "    x1, y1 = (event.x - 1), (event.y - 1)\n",
    "    x2, y2 = (event.x + 1), (event.y + 1)\n",
    "    Coordinnates.append( [x1, y1])\n",
    "    canvas.create_oval(x1, y1, x2, y2, fill=\"black\",width=55)\n",
    "    draw.line([x1, y1, x2, y2],fill=\"black\",width=55)\n",
    "\n",
    "master = Tk()\n",
    "\n",
    "# create a tkinter canvas to draw on\n",
    "canvas = Canvas(master, width=width, height=height, bg='white')\n",
    "canvas.pack()\n",
    "Coordinnates =[]\n",
    "# create an empty PIL image and draw object to draw on\n",
    "output_image = PIL.Image.new(\"RGB\", (width, height), white)\n",
    "draw = ImageDraw.Draw(output_image)\n",
    "canvas.pack(expand=YES, fill=BOTH)\n",
    "canvas.bind(\"<B1-Motion>\", paint)\n",
    "\n",
    "# add a button to save the image\n",
    "button=Button(text=\"save\",command=save)\n",
    "button.pack()\n",
    "\n",
    "master.mainloop()"
   ]
  },
  {
   "cell_type": "code",
   "execution_count": 4,
   "metadata": {},
   "outputs": [
    {
     "data": {
      "text/plain": [
       "array([[100,  95],\n",
       "       [ 97,  95],\n",
       "       [ 92,  95],\n",
       "       [ 73,  95],\n",
       "       [ 54,  95],\n",
       "       [ 38,  95],\n",
       "       [ 24,  95],\n",
       "       [ 16,  95],\n",
       "       [ 10,  95],\n",
       "       [  8,  96]])"
      ]
     },
     "execution_count": 4,
     "metadata": {},
     "output_type": "execute_result"
    }
   ],
   "source": [
    "j=np.load(\"/Users/ambarjin/Desktop/Y4 Data Sci/Dissertation/NumberData/Training/8/\" +str(749)+\".npy\")\n",
    "j"
   ]
  },
  {
   "cell_type": "markdown",
   "metadata": {},
   "source": [
    "# Estimating Transition Matrix of Kalman Filter using Signatures (1D scenario with lag)"
   ]
  },
  {
   "cell_type": "code",
   "execution_count": 194,
   "metadata": {},
   "outputs": [],
   "source": [
    "def LeadLag(path,lagging =1):\n",
    "    if lagging == 0:\n",
    "        return path\n",
    "    path = np.repeat(path, lagging+1)\n",
    "    lead = np.copy(path)\n",
    "    lead = lead[lagging:]\n",
    "    lag = np.copy(path)\n",
    "    lag = path[:-lagging]\n",
    "\n",
    "    path = np.vstack((lead,lag)).T\n",
    "    return(path)"
   ]
  },
  {
   "cell_type": "code",
   "execution_count": 195,
   "metadata": {},
   "outputs": [],
   "source": [
    "import iisignature \n",
    "from sklearn.model_selection import train_test_split\n",
    "from sklearn.ensemble import RandomForestClassifier\n",
    "from sklearn.metrics import accuracy_score, classification_report\n",
    "from sklearn.linear_model import LogisticRegression\n",
    "import random\n",
    "\n",
    "def Train(SignatureLevel= 0,testSize = 0.2,Smoothed = False,Lag =1,n_estim =50):\n",
    "    labels =[]\n",
    "    Data = []\n",
    "    for i in [0.8,1.2,0.5]:\n",
    "        for t in range(0,100):\n",
    "\n",
    "            rand = random.randint(0,9)\n",
    "            TrueThetas, Observations, ObservationPrediction ,ThetasPredictedMean , ThetasPredictedVar,ThetasPosteriorMean, ThetasPosteriorVar=GeneralKalmanFilter(\n",
    "                #True Theta\n",
    "                np.full((1,1), rand),\n",
    "                #Transition Matrix\n",
    "                np.full((1,1), i),\n",
    "                #TransitionNoiseVariance\n",
    "                np.full((1,1), 3),\n",
    "                #Observation Matrix\n",
    "                np.full((1,1), 2),\n",
    "                #ObservationNoiseVariance\n",
    "                np.full((1,1), 3),\n",
    "                #priorTheta Mean\n",
    "                np.full((1,1), 3),\n",
    "                #priorTheta Variance\n",
    "                np.full((1,1), 2),\n",
    "                #number of observations\n",
    "                33              \n",
    "            )\n",
    "            if Smoothed:\n",
    "                Observations = ObservationPrediction\n",
    "            if(SignatureLevel>0):\n",
    "                \n",
    "                Observations = np.array(Observations)\n",
    "                a,b,c = Observations.shape\n",
    "                Observations=Observations.reshape(a,b*c)\n",
    "                Observations = LeadLag(Observations,lagging=Lag)\n",
    "                signature = iisignature.sig(Observations ,SignatureLevel)\n",
    "                Data.append(signature)\n",
    "            else:\n",
    "                Data.append(Observations)\n",
    "            \n",
    "            labels.append(int((i-1)/0.1))\n",
    "            \n",
    "        \n",
    "    Data = np.array(Data)\n",
    "    if len(Data.shape) == 3:\n",
    "        height,a,b= Data.shape\n",
    "        reshape = a*b\n",
    "        Data = Data.reshape(height,reshape)\n",
    "    if len(Data.shape) == 4:\n",
    "        height,a,b,c= Data.shape\n",
    "        reshape = a*b*c\n",
    "        Data = Data.reshape(height,reshape)\n",
    "\n",
    "    \n",
    "    \n",
    "   \n",
    "    accuracy =[]\n",
    "    for i in range(1,11):\n",
    "        X_train, X_test, y_train, y_test = train_test_split(Data, labels, test_size=testSize)\n",
    "        clf = RandomForestClassifier(n_estimators=n_estim, random_state=42)   # You can choose a different classifier\n",
    "        clf.fit(X_train, y_train)\n",
    "        y_pred = clf.predict(X_test)\n",
    "        accuracy.append( accuracy_score(y_test, y_pred))\n",
    "        \n",
    "    #report = classification_report(y_test, y_pred)\n",
    "\n",
    "    return np.mean(accuracy)\n",
    "\n",
    "\n",
    "\n"
   ]
  },
  {
   "cell_type": "markdown",
   "metadata": {},
   "source": [
    "## Estimating using observations"
   ]
  },
  {
   "cell_type": "code",
   "execution_count": 196,
   "metadata": {},
   "outputs": [],
   "source": [
    "label = []\n",
    "testSize =[]\n",
    "accuracy =[]\n",
    "\n",
    "for p in [0,1,2,3,4,5,6,7]:\n",
    "    for i in [0.1,0.2,0.3,0.4,0.5,0.6,0.7]:\n",
    "        label.append(p)\n",
    "        testSize.append(i)\n",
    "        accuracy.append(Train(SignatureLevel=p,testSize=i))\n",
    "        \n",
    "\n",
    "for i in range(len(accuracy)):\n",
    "    accuracy[i]=(accuracy[i] * 100)\n",
    "for i in range(len(testSize)):\n",
    "    testSize[i]=(testSize[i] * 100)"
   ]
  },
  {
   "cell_type": "code",
   "execution_count": 197,
   "metadata": {},
   "outputs": [
    {
     "data": {
      "image/png": "[encoded data removed]",
      "text/plain": [
       "<Figure size 432x288 with 1 Axes>"
      ]
     },
     "metadata": {
      "needs_background": "light"
     },
     "output_type": "display_data"
    }
   ],
   "source": [
    "for t in [0,1,2,3,4,5,6,7]:\n",
    "    p = [index for index, value in enumerate(label) if value == t]\n",
    "    if(t==0):\n",
    "        plt.plot([ testSize[i] for i in p],[ accuracy[i] for i in p], label = \"no Signature \") \n",
    "  \n",
    "    else:\n",
    "        plt.plot([ testSize[i] for i in p],[ accuracy[i] for i in p], label = 'Level'+str(t)) \n",
    "    \n",
    "\n",
    "plt.title(\"Random Forest Classifier (Observations)\")\n",
    "plt.ylabel(\"Accuracy (%)\")\n",
    "plt.xlabel(\"Test Size (%)\")\n",
    "plt.legend() \n",
    "plt.show()"
   ]
  },
  {
   "cell_type": "code",
   "execution_count": 198,
   "metadata": {},
   "outputs": [],
   "source": [
    "label = []\n",
    "lagging =[]\n",
    "accuracy =[]\n",
    "\n",
    "for p in [0,1,2,3,4,5,6,7]:\n",
    "    for i in [0,1,2,3,4,5]:\n",
    "        label.append(p)\n",
    "        lagging.append(i)\n",
    "        accuracy.append(Train(SignatureLevel=p,testSize=0.2,Lag=i))\n",
    "        \n",
    "for i in range(len(accuracy)):\n",
    "    accuracy[i]=(accuracy[i] * 100)"
   ]
  },
  {
   "cell_type": "code",
   "execution_count": 199,
   "metadata": {},
   "outputs": [
    {
     "data": {
      "image/png": "[encoded data removed]",
      "text/plain": [
       "<Figure size 432x288 with 1 Axes>"
      ]
     },
     "metadata": {
      "needs_background": "light"
     },
     "output_type": "display_data"
    }
   ],
   "source": [
    "\n",
    "\n",
    "\n",
    "    \n",
    "for t in [0,1,2,3,4,5,6,7]:\n",
    "    p = [index for index, value in enumerate(label) if value == t]\n",
    "    if(t==0):\n",
    "        plt.plot([ lagging[i] for i in p],[ accuracy[p[0]] ] * len(p), label = \"no Signature(No lag)\") \n",
    "  \n",
    "    else:\n",
    "        plt.plot([ lagging[i] for i in p],[ accuracy[i] for i in p], label = 'Level'+str(t)) \n",
    "    \n",
    "\n",
    "plt.title(\"Effect of Lag Random Forest Classifier (Observations)\")\n",
    "plt.ylabel(\"Accuracy (%)\")\n",
    "plt.xlabel(\"Lag\")\n",
    "plt.legend() \n",
    "plt.show()"
   ]
  },
  {
   "cell_type": "markdown",
   "metadata": {},
   "source": [
    "## Estimating using filtered observations"
   ]
  },
  {
   "cell_type": "code",
   "execution_count": 200,
   "metadata": {},
   "outputs": [],
   "source": [
    "label = []\n",
    "testSize =[]\n",
    "accuracy =[]\n",
    "\n",
    "for p in [0,1,2,3,4,5,6,7]:\n",
    "    for i in [0.1,0.2,0.3,0.4,0.5,0.6,0.7]:\n",
    "        label.append(p)\n",
    "        testSize.append(i)\n",
    "        accuracy.append(Train(SignatureLevel=p,testSize=i,Smoothed=True,Lag=1))\n",
    "        \n",
    "\n",
    "for i in range(len(accuracy)):\n",
    "    accuracy[i]=(accuracy[i] * 100)\n",
    "for i in range(len(testSize)):\n",
    "    testSize[i]=(testSize[i] * 100)\n",
    "    \n"
   ]
  },
  {
   "cell_type": "code",
   "execution_count": 201,
   "metadata": {},
   "outputs": [
    {
     "data": {
      "image/png": "[encoded data removed]",
      "text/plain": [
       "<Figure size 432x288 with 1 Axes>"
      ]
     },
     "metadata": {
      "needs_background": "light"
     },
     "output_type": "display_data"
    }
   ],
   "source": [
    "for t in [0,1,2,3,4,5,6,7]:\n",
    "    p = [index for index, value in enumerate(label) if value == t]\n",
    "    if(t==0):\n",
    "        plt.plot([ testSize[i] for i in p],[ accuracy[i] for i in p], label = \"no Signature\") \n",
    "\n",
    "    else:\n",
    "        plt.plot([ testSize[i] for i in p],[ accuracy[i] for i in p], label = 'Level'+str(t)) \n",
    "\n",
    "\n",
    "plt.title(\"Random Forest Classifier (Smoothed)\")\n",
    "plt.ylabel(\"Accuracy (%)\")\n",
    "plt.xlabel(\"Test Size (%)\")\n",
    "plt.legend() \n",
    "plt.show()"
   ]
  },
  {
   "cell_type": "code",
   "execution_count": 202,
   "metadata": {},
   "outputs": [],
   "source": [
    "label = []\n",
    "lagging =[]\n",
    "accuracy =[]\n",
    "\n",
    "for p in [0,3,4,5,6,7]:\n",
    "    for i in [0,1,2,3,4,5]:\n",
    "        label.append(p)\n",
    "        lagging.append(i)\n",
    "        accuracy.append(Train(SignatureLevel=p,testSize=0.2,Lag=i,Smoothed=True))\n",
    "        \n",
    "for i in range(len(accuracy)):\n",
    "    accuracy[i]=(accuracy[i] * 100)"
   ]
  },
  {
   "cell_type": "code",
   "execution_count": 203,
   "metadata": {},
   "outputs": [
    {
     "data": {
      "image/png": "[encoded data removed]",
      "text/plain": [
       "<Figure size 432x288 with 1 Axes>"
      ]
     },
     "metadata": {
      "needs_background": "light"
     },
     "output_type": "display_data"
    }
   ],
   "source": [
    "for t in [0,3,4,5,6,7]:\n",
    "    p = [index for index, value in enumerate(label) if value == t]\n",
    "    if(t==0):\n",
    "        plt.plot([ lagging[i] for i in p],[ accuracy[p[0]] ] * len(p), label = \"no Signature(No lag)\") \n",
    "  \n",
    "    else:\n",
    "        plt.plot([ lagging[i] for i in p],[ accuracy[i] for i in p], label = 'Level'+str(t)) \n",
    "    \n",
    "\n",
    "plt.title(\"Effect of Lag Random Forest Classifier (Smoothed)\")\n",
    "plt.ylabel(\"Accuracy (%)\")\n",
    "plt.xlabel(\"Lag\")\n",
    "plt.legend() \n",
    "plt.show()"
   ]
  },
  {
   "cell_type": "markdown",
   "metadata": {},
   "source": []
  },
  {
   "cell_type": "markdown",
   "metadata": {},
   "source": [
    "# 2D motion Model\n"
   ]
  },
  {
   "cell_type": "code",
   "execution_count": 161,
   "metadata": {},
   "outputs": [],
   "source": [
    "observation_variance = 1.2\n",
    "transition_variance = 0.4\n",
    "\n",
    "\n",
    "TrueThetas, Observations, ObservationPrediction ,ThetasPredictedMean , ThetasPredictedVar,ThetasPosteriorMean, ThetasPosteriorVar=GeneralKalmanFilter(\n",
    "    #True Theta\n",
    "    [1,1,2,3],\n",
    "    #Transition Matrix\n",
    "    np.array([[1, 0, 1, 0],[0, 1, 0, 1],[0, 0, 1, 0],[0, 0, 0, 1]]),\n",
    "    #TransitionNoiseVariance\n",
    "    transition_variance * np.eye(4),\n",
    "    #Observation Matrix\n",
    "    np.array([[1, 0, 0, 0],\n",
    "              [0, 1, 0, 0]]),\n",
    "    #ObservationNoiseVariance\n",
    "    observation_variance * np.eye(2),   \n",
    "    #priorTheta Mean\n",
    "    [1,1,3,4],\n",
    "    #priorTheta Variance\n",
    "    3* np.eye(4),\n",
    "    #number of observations\n",
    "    33              \n",
    ")\n"
   ]
  },
  {
   "cell_type": "code",
   "execution_count": 187,
   "metadata": {},
   "outputs": [
    {
     "data": {
      "text/plain": [
       "(33, 2)"
      ]
     },
     "execution_count": 187,
     "metadata": {},
     "output_type": "execute_result"
    }
   ],
   "source": [
    "yObs =  [ item.tolist()[0] for item in Observations]\n",
    "\n",
    "yObs = np.array(yObs)\n",
    "yObs.shape"
   ]
  },
  {
   "cell_type": "code",
   "execution_count": 188,
   "metadata": {},
   "outputs": [],
   "source": [
    "yPred =  [ item.tolist() for item in ObservationPrediction]\n",
    "\n",
    "\n",
    "yPred = np.array(yPred)"
   ]
  },
  {
   "cell_type": "code",
   "execution_count": 190,
   "metadata": {},
   "outputs": [
    {
     "data": {
      "text/plain": [
       "array([0.26975954, 4.76685498])"
      ]
     },
     "execution_count": 190,
     "metadata": {},
     "output_type": "execute_result"
    }
   ],
   "source": [
    "yObs[:,0]"
   ]
  },
  {
   "cell_type": "code",
   "execution_count": 193,
   "metadata": {},
   "outputs": [
    {
     "data": {
      "text/html": [
       "\n",
       "  <div id=\"ff339c29-0d32-4a5d-8360-0952e9ba81a8\" data-root-id=\"p1194\" style=\"display: contents;\"></div>\n"
      ]
     },
     "metadata": {},
     "output_type": "display_data"
    },
    {
     "data": {
      "application/javascript": "(function(root) {\n  function embed_document(root) {\n  const docs_json = {\"cc413648-4ec3-4271-9d76-1a06968f647e\":{\"version\":\"3.3.0\",\"title\":\"Bokeh Application\",\"roots\":[{\"type\":\"object\",\"name\":\"Figure\",\"id\":\"p1194\",\"attributes\":{\"x_range\":{\"type\":\"object\",\"name\":\"DataRange1d\",\"id\":\"p1195\"},\"y_range\":{\"type\":\"object\",\"name\":\"DataRange1d\",\"id\":\"p1196\"},\"x_scale\":{\"type\":\"object\",\"name\":\"LinearScale\",\"id\":\"p1204\"},\"y_scale\":{\"type\":\"object\",\"name\":\"LinearScale\",\"id\":\"p1205\"},\"title\":{\"type\":\"object\",\"name\":\"Title\",\"id\":\"p1197\",\"attributes\":{\"text\":\"Gaussian DLM\"}},\"renderers\":[{\"type\":\"object\",\"name\":\"GlyphRenderer\",\"id\":\"p1229\",\"attributes\":{\"data_source\":{\"type\":\"object\",\"name\":\"ColumnDataSource\",\"id\":\"p1223\",\"attributes\":{\"selected\":{\"type\":\"object\",\"name\":\"Selection\",\"id\":\"p1224\",\"attributes\":{\"indices\":[],\"line_indices\":[]}},\"selection_policy\":{\"type\":\"object\",\"name\":\"UnionRenderers\",\"id\":\"p1225\"},\"data\":{\"type\":\"map\",\"entries\":[[\"x\",{\"type\":\"ndarray\",\"array\":{\"type\":\"bytes\",\"data\":\"AAAAAAAAFECrJ9DnDG8hQOFA1XrWQy1An5YI1eqwL0CktS72yaoxQDzvXCZ8GDJAry2cRCxeM0D85duhq3A1QPQA7FjXZjVAanr41plrNUCJuZI4seI4QIfoRldnaD1AA1B1hh/iQEDezNStuUBCQA3CLMYKYkJA4t0xcR99QkBN/h2Wm+tCQJRZTCWz8UFAkryFs8sCQkCAmkrVXWBCQCeyBDftsUJAtdt+z9wOQUCexzXww6RAQBKeJwZd3j9AKH+0AMhlQEDGqQsP1yVAQMDEUTKe8T1AoxK9bavfPkBfjxQrKmk8QHaYW5c3tT5Arr3ihlRvO0DOdneOyAA+QMdtXevLvT5A\"},\"shape\":[33],\"dtype\":\"float64\",\"order\":\"little\"}],[\"y\",{\"type\":\"ndarray\",\"array\":{\"type\":\"bytes\",\"data\":\"AAAAAAAAEEA3AE7EbMMDQH0T/g6ibgZA2O2o06ZA9D9vGvhX943hv2strcZFiva/cGiJFAydDsCRa0eDG98UwHw09BWJoQfAioELmUrVDsBsYbdGQb8gwEZJhYU+kibAFNyrsk5fKMBmnCrMO7AjwEa5ia/9vh3ACqvvsbRSIcC/MBcFCdAmwAkRvx1cZSnAic+jA8vxLsDOqzFNjRMvwCAxIrgOcTHAGQRQkSV0MsAJUFGxhSo3wFHzr70pizzAxN80/SxxQsAO7iiY/SVGwGFgSkEaTEnAfmtxDdRYTMCb0NlbtQtRwAdMZnzeWFPAhWX9a2a3VMBuP5HHgqJVwDk3eY+qDVfA\"},\"shape\":[33],\"dtype\":\"float64\",\"order\":\"little\"}]]}}},\"view\":{\"type\":\"object\",\"name\":\"CDSView\",\"id\":\"p1230\",\"attributes\":{\"filter\":{\"type\":\"object\",\"name\":\"AllIndices\",\"id\":\"p1231\"}}},\"glyph\":{\"type\":\"object\",\"name\":\"Line\",\"id\":\"p1226\",\"attributes\":{\"x\":{\"type\":\"field\",\"field\":\"x\"},\"y\":{\"type\":\"field\",\"field\":\"y\"},\"line_color\":\"green\"}},\"nonselection_glyph\":{\"type\":\"object\",\"name\":\"Line\",\"id\":\"p1227\",\"attributes\":{\"x\":{\"type\":\"field\",\"field\":\"x\"},\"y\":{\"type\":\"field\",\"field\":\"y\"},\"line_color\":\"green\",\"line_alpha\":0.1}},\"muted_glyph\":{\"type\":\"object\",\"name\":\"Line\",\"id\":\"p1228\",\"attributes\":{\"x\":{\"type\":\"field\",\"field\":\"x\"},\"y\":{\"type\":\"field\",\"field\":\"y\"},\"line_color\":\"green\",\"line_alpha\":0.2}}}},{\"type\":\"object\",\"name\":\"GlyphRenderer\",\"id\":\"p1240\",\"attributes\":{\"data_source\":{\"type\":\"object\",\"name\":\"ColumnDataSource\",\"id\":\"p1234\",\"attributes\":{\"selected\":{\"type\":\"object\",\"name\":\"Selection\",\"id\":\"p1235\",\"attributes\":{\"indices\":[],\"line_indices\":[]}},\"selection_policy\":{\"type\":\"object\",\"name\":\"UnionRenderers\",\"id\":\"p1236\"},\"data\":{\"type\":\"map\",\"entries\":[[\"x\",{\"type\":\"ndarray\",\"array\":{\"type\":\"bytes\",\"data\":\"VkHAbkIRE0AijlKPTDslQKvEZVNp0CZAa6ElDC8qLECn2tb9lfctQKfZI1Vj+TBAmH5hGMlYM0Cx1Qf3aFAzQKmofYcA5zNAX4v/9fDEN0AnMPwnhqk7QDX9g2DmRj9A9tAoH/LBQEACJUds4utAQAZd+RBLYkFAMKw+TU4VQkDjezIvNzdBQFPDQw8+vUFAth4agd4oQkBDkvA8OnBCQIbJ+NnpyEBAMiUK1djhQEA1rh8/UzhAQBvsNjH7y0BAQPd+geBQQEC9XgLz5FI+QIn7+fUzyD9AFRWm7JrTPEAa1M+LFKw/QL8twHR6hjtAsmEifT3yPkDAcTMgZL4+QFjECVC3M0BA\"},\"shape\":[33],\"dtype\":\"float64\",\"order\":\"little\"}],[\"y\",{\"type\":\"ndarray\",\"array\":{\"type\":\"bytes\",\"data\":\"CKfFhb1D0T/3LfhPUD/zP4BDUtuB4o0/AiC9ZZzv8L+8AMo16sX0v41fJqTbHgzA52+YTkFeEcAZFu2RWQr/v47vwEOhvw3A7+H20u0QIMAunOEAnaYjwKyqJI9+rCTAirL7rJN/IMDGZkB855UbwLkk076S0iHA0pd0hJSFJsAwMrpMTLYnwLRHW1IIBS3Au2dv6DguLMAS8ldtMF0wwCJjo2OhJzHAdUFfPq7xNcCLVztX5mI6wL67DzSZ7kDAli4Ode/sQ8CVhQSCSq1GwExQUl/DlUnABtW+SZ1AT8D2ck7F0YlRwHmg4B+PxlLA1Qe4nd/YU8BOBEibp39VwOYpd83mMVfA\"},\"shape\":[33],\"dtype\":\"float64\",\"order\":\"little\"}]]}}},\"view\":{\"type\":\"object\",\"name\":\"CDSView\",\"id\":\"p1241\",\"attributes\":{\"filter\":{\"type\":\"object\",\"name\":\"AllIndices\",\"id\":\"p1242\"}}},\"glyph\":{\"type\":\"object\",\"name\":\"Line\",\"id\":\"p1237\",\"attributes\":{\"x\":{\"type\":\"field\",\"field\":\"x\"},\"y\":{\"type\":\"field\",\"field\":\"y\"},\"line_color\":\"red\"}},\"nonselection_glyph\":{\"type\":\"object\",\"name\":\"Line\",\"id\":\"p1238\",\"attributes\":{\"x\":{\"type\":\"field\",\"field\":\"x\"},\"y\":{\"type\":\"field\",\"field\":\"y\"},\"line_color\":\"red\",\"line_alpha\":0.1}},\"muted_glyph\":{\"type\":\"object\",\"name\":\"Line\",\"id\":\"p1239\",\"attributes\":{\"x\":{\"type\":\"field\",\"field\":\"x\"},\"y\":{\"type\":\"field\",\"field\":\"y\"},\"line_color\":\"red\",\"line_alpha\":0.2}}}}],\"toolbar\":{\"type\":\"object\",\"name\":\"Toolbar\",\"id\":\"p1203\",\"attributes\":{\"tools\":[{\"type\":\"object\",\"name\":\"PanTool\",\"id\":\"p1216\"},{\"type\":\"object\",\"name\":\"WheelZoomTool\",\"id\":\"p1217\",\"attributes\":{\"renderers\":\"auto\"}},{\"type\":\"object\",\"name\":\"BoxZoomTool\",\"id\":\"p1218\",\"attributes\":{\"overlay\":{\"type\":\"object\",\"name\":\"BoxAnnotation\",\"id\":\"p1219\",\"attributes\":{\"syncable\":false,\"level\":\"overlay\",\"visible\":false,\"left_units\":\"canvas\",\"right_units\":\"canvas\",\"top_units\":\"canvas\",\"bottom_units\":\"canvas\",\"line_color\":\"black\",\"line_alpha\":1.0,\"line_width\":2,\"line_dash\":[4,4],\"fill_color\":\"lightgrey\",\"fill_alpha\":0.5}}}},{\"type\":\"object\",\"name\":\"SaveTool\",\"id\":\"p1220\"},{\"type\":\"object\",\"name\":\"ResetTool\",\"id\":\"p1221\"},{\"type\":\"object\",\"name\":\"HelpTool\",\"id\":\"p1222\"}]}},\"left\":[{\"type\":\"object\",\"name\":\"LinearAxis\",\"id\":\"p1211\",\"attributes\":{\"ticker\":{\"type\":\"object\",\"name\":\"BasicTicker\",\"id\":\"p1212\",\"attributes\":{\"mantissas\":[1,2,5]}},\"formatter\":{\"type\":\"object\",\"name\":\"BasicTickFormatter\",\"id\":\"p1213\"},\"axis_label\":\"Position (ie yk)\",\"major_label_policy\":{\"type\":\"object\",\"name\":\"AllLabels\",\"id\":\"p1214\"}}}],\"below\":[{\"type\":\"object\",\"name\":\"LinearAxis\",\"id\":\"p1206\",\"attributes\":{\"ticker\":{\"type\":\"object\",\"name\":\"BasicTicker\",\"id\":\"p1207\",\"attributes\":{\"mantissas\":[1,2,5]}},\"formatter\":{\"type\":\"object\",\"name\":\"BasicTickFormatter\",\"id\":\"p1208\"},\"axis_label\":\"TimeStep\",\"major_label_policy\":{\"type\":\"object\",\"name\":\"AllLabels\",\"id\":\"p1209\"}}}],\"center\":[{\"type\":\"object\",\"name\":\"Grid\",\"id\":\"p1210\",\"attributes\":{\"axis\":{\"id\":\"p1206\"}}},{\"type\":\"object\",\"name\":\"Grid\",\"id\":\"p1215\",\"attributes\":{\"dimension\":1,\"axis\":{\"id\":\"p1211\"}}},{\"type\":\"object\",\"name\":\"Legend\",\"id\":\"p1232\",\"attributes\":{\"items\":[{\"type\":\"object\",\"name\":\"LegendItem\",\"id\":\"p1233\",\"attributes\":{\"label\":{\"type\":\"value\",\"value\":\"Positions Predicted\"},\"renderers\":[{\"id\":\"p1229\"}]}},{\"type\":\"object\",\"name\":\"LegendItem\",\"id\":\"p1243\",\"attributes\":{\"label\":{\"type\":\"value\",\"value\":\"Observed Positions\"},\"renderers\":[{\"id\":\"p1240\"}]}}]}}]}}]}};\n  const render_items = [{\"docid\":\"cc413648-4ec3-4271-9d76-1a06968f647e\",\"roots\":{\"p1194\":\"ff339c29-0d32-4a5d-8360-0952e9ba81a8\"},\"root_ids\":[\"p1194\"]}];\n  root.Bokeh.embed.embed_items_notebook(docs_json, render_items);\n  }\n  if (root.Bokeh !== undefined) {\n    embed_document(root);\n  } else {\n    let attempts = 0;\n    const timer = setInterval(function(root) {\n      if (root.Bokeh !== undefined) {\n        clearInterval(timer);\n        embed_document(root);\n      } else {\n        attempts++;\n        if (attempts > 100) {\n          clearInterval(timer);\n          console.log(\"Bokeh: ERROR: Unable to run BokehJS code because BokehJS library is missing\");\n        }\n      }\n    }, 10, root)\n  }\n})(window);",
      "application/vnd.bokehjs_exec.v0+json": ""
     },
     "metadata": {
      "application/vnd.bokehjs_exec.v0+json": {
       "id": "p1194"
      }
     },
     "output_type": "display_data"
    }
   ],
   "source": [
    "p = figure(title=\"Gaussian DLM\", x_axis_label=\"TimeStep\", y_axis_label=\"Position (ie yk)\")\n",
    "p.line(yPred[:,1],yPred[:,0], legend_label=\"Positions Predicted\", color=\"green\")\n",
    "p.line(yObs[:,1],yObs[:,0], legend_label=\"Observed Positions\", color=\"red\" )\n",
    "show(p) \n"
   ]
  },
  {
   "cell_type": "code",
   "execution_count": null,
   "metadata": {},
   "outputs": [],
   "source": []
  },
  {
   "cell_type": "code",
   "execution_count": 19,
   "metadata": {},
   "outputs": [
    {
     "data": {
      "text/plain": [
       "(4,)"
      ]
     },
     "execution_count": 19,
     "metadata": {},
     "output_type": "execute_result"
    }
   ],
   "source": []
  },
  {
   "cell_type": "code",
   "execution_count": 36,
   "metadata": {},
   "outputs": [
    {
     "name": "stdout",
     "output_type": "stream",
     "text": [
      "[[1 0 0 0]\n",
      " [0 1 0 0]]\n",
      "[[1 1 2 3]]\n"
     ]
    }
   ],
   "source": [
    "\n",
    "print(a)"
   ]
  },
  {
   "cell_type": "code",
   "execution_count": 37,
   "metadata": {},
   "outputs": [
    {
     "ename": "ValueError",
     "evalue": "matmul: Input operand 1 has a mismatch in its core dimension 0, with gufunc signature (n?,k),(k,m?)->(n?,m?) (size 1 is different from 4)",
     "output_type": "error",
     "traceback": [
      "\u001b[0;31m---------------------------------------------------------------------------\u001b[0m",
      "\u001b[0;31mValueError\u001b[0m                                Traceback (most recent call last)",
      "\u001b[1;32m/Users/ambarjin/Desktop/Y4 Data Sci/Dissertation/Tracking/Simulations.ipynb Cell 43\u001b[0m line \u001b[0;36m<cell line: 1>\u001b[0;34m()\u001b[0m\n\u001b[0;32m----> <a href='vscode-notebook-cell:/Users/ambarjin/Desktop/Y4%20Data%20Sci/Dissertation/Tracking/Simulations.ipynb#X60sZmlsZQ%3D%3D?line=0'>1</a>\u001b[0m np\u001b[39m.\u001b[39;49mmatmul(p,a)\n",
      "\u001b[0;31mValueError\u001b[0m: matmul: Input operand 1 has a mismatch in its core dimension 0, with gufunc signature (n?,k),(k,m?)->(n?,m?) (size 1 is different from 4)"
     ]
    }
   ],
   "source": []
  },
  {
   "cell_type": "code",
   "execution_count": null,
   "metadata": {},
   "outputs": [],
   "source": []
  }
 ],
 "metadata": {
  "kernelspec": {
   "display_name": "Python 3 (ipykernel)",
   "language": "python",
   "name": "python3"
  },
  "language_info": {
   "codemirror_mode": {
    "name": "ipython",
    "version": 3
   },
   "file_extension": ".py",
   "mimetype": "text/x-python",
   "name": "python",
   "nbconvert_exporter": "python",
   "pygments_lexer": "ipython3",
   "version": "3.10.1"
  },
  "vscode": {
   "interpreter": {
    "hash": "aee8b7b246df8f9039afb4144a1f6fd8d2ca17a180786b69acc140d282b71a49"
   }
  }
 },
 "nbformat": 4,
 "nbformat_minor": 2
}
