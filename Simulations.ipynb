{
 "cells": [
  {
   "cell_type": "markdown",
   "metadata": {},
   "source": [
    "#  Bayesian Inference: Estimating mean of a normal distributed random variable \n"
   ]
  },
  {
   "cell_type": "code",
   "execution_count": 6,
   "metadata": {},
   "outputs": [
    {
     "data": {
      "application/vnd.jupyter.widget-view+json": {
       "model_id": "286acc23fed94336b638c377172c2c75",
       "version_major": 2,
       "version_minor": 0
      },
      "text/plain": [
       "interactive(children=(FloatSlider(value=0.6699999999999999, description='mu', max=1.0, min=0.35, step=0.01), F…"
      ]
     },
     "execution_count": 6,
     "metadata": {},
     "output_type": "execute_result"
    }
   ],
   "source": [
    "import numpy as np\n",
    "import matplotlib.pyplot as plt \n",
    "from ipywidgets import interactive \n",
    "from scipy.stats import norm \n",
    "import math\n",
    "\n",
    "# Prevents the pop-up graphs in a separate window.\n",
    "#get_ipython().run_line_magic('matplotlib', 'inline')\n",
    "\n",
    "    \n",
    "def BayesianInference(mu, muEstimate, sd, sample=0):\n",
    "\n",
    "    # Graph from 0 to 100, include 10000 points.\n",
    "    x = np.linspace( -10 , 10,  10000) \n",
    "    \n",
    "    tempsd = sd\n",
    "    tempMu = muEstimate\n",
    "    \n",
    "    for i in range(0,sample):\n",
    "        y  = np.random.normal(mu,sd)\n",
    "        t0 = 1/(tempsd**2)\n",
    "        t = 1/(sd**2)\n",
    "        tempMu = ( (y*t +  t0*tempMu) / (t+t0) )\n",
    "        tempsd = math.sqrt( 1/(t+t0) )\n",
    "    \n",
    "    plt.plot(x, norm.pdf(x, tempMu, tempsd),label =\"Estimate of mu\")\n",
    "    plt.plot(x, norm.pdf(x, mu, sd),label =\"Original Distribution\")\n",
    "    \n",
    "\n",
    "    plt.grid()\n",
    "    plt.legend()\n",
    "    plt.title(\"Estimate mean of a normal distribution\")\n",
    "    plt.xlabel(\"x\")\n",
    "    plt.ylabel(\"f(x)\")\n",
    "\n",
    "interactive_plot = interactive(BayesianInference, mu=(0.35,1,0.01), muEstimate=(-5,6,0.3), sample = (0,30,1), sd = (1,4,0.2))\n",
    "interactive_plot"
   ]
  },
  {
   "cell_type": "markdown",
   "metadata": {},
   "source": [
    "# Bayesian Inference: Estimating probability of success of a binomial distributed random variable \n"
   ]
  },
  {
   "cell_type": "code",
   "execution_count": 7,
   "metadata": {},
   "outputs": [
    {
     "data": {
      "application/vnd.jupyter.widget-view+json": {
       "model_id": "e6e37dbb73d846c8b7cfc133dd3501bf",
       "version_major": 2,
       "version_minor": 0
      },
      "text/plain": [
       "interactive(children=(IntSlider(value=5, description='n', max=10), FloatSlider(value=0.2, description='p', max…"
      ]
     },
     "execution_count": 7,
     "metadata": {},
     "output_type": "execute_result"
    }
   ],
   "source": [
    "import numpy as np\n",
    "import matplotlib.pyplot as plt \n",
    "from ipywidgets import interactive \n",
    "from scipy.stats import norm, beta\n",
    "import math\n",
    "\n",
    "# Prevents the pop-up graphs in a separate window.\n",
    "#get_ipython().run_line_magic('matplotlib', 'inline')\n",
    "\n",
    "    \n",
    "def BinomialInference(n=5, p=0.2, a=3, b=5, sample=0):\n",
    "\n",
    "    # Graph from 0 to 100, include 10000 points.\n",
    "    x = np.linspace( 0, 1,  1000) \n",
    "    \n",
    "    \n",
    "    \n",
    "    for i in range(0,sample):\n",
    "        y  = np.random.binomial(n,p)\n",
    "        a = a + y\n",
    "        b = b + n - y\n",
    "        \n",
    "    \n",
    "    plt.plot(x, beta.pdf(x, a, b),label =\"Estimate of p\")\n",
    "    plt.axvline(x = p, color = 'b', label = 'true p value')\n",
    "\n",
    "    plt.grid()\n",
    "    plt.legend()\n",
    "    plt.title(\"Estimate p of a binomial distribution\")\n",
    "    plt.xlabel(\"p\")\n",
    "    plt.ylabel(\"f(p)\")\n",
    "\n",
    "interactive_plot = interactive(BinomialInference, n=(0,10,1), p=(0,1,0.01), sample = (0,100,1), a = (0,10, 0.2), b = (0,10, 0.2))\n",
    "interactive_plot"
   ]
  },
  {
   "cell_type": "markdown",
   "metadata": {},
   "source": [
    "# Dynamic Linear Kalman Filter Testing "
   ]
  },
  {
   "cell_type": "markdown",
   "metadata": {},
   "source": [
    "Assume we have the constant Gaussian DLM. $\\theta_k$~N($\\theta$;$\\mu,\\sigma^2$), $u_k$=u~N(u;0,1), $v_k$=v~N(v;0,1)\n",
    "\n",
    "Parameter at time k: $\\theta_k$ = $1.1\\theta_{k-1}$ + $u_k$ <br>\n",
    "Observation at time k: $y_k$ = $2\\theta_{k}$ + $v_k$ <br>\n",
    "True Position at time k: $2\\theta_{k}$ <br>\n",
    "\n",
    "Thus\n",
    "\n",
    "- F = 1.1\n",
    "- H = 2\n",
    "\n"
   ]
  },
  {
   "cell_type": "code",
   "execution_count": 8,
   "metadata": {},
   "outputs": [],
   "source": [
    "x = np.linspace(0,33,33)\n",
    "\n",
    "\n",
    "TransitionMatrix = 1.1\n",
    "TransitionNoiseVariance= 4\n",
    "\n",
    "ObservationMatrix = 2\n",
    "ObservationNoiseVariance = 4\n",
    "\n",
    "#Prepare some data\n",
    "TrueTheta = 3\n",
    "TruePositions = []\n",
    "TrueThetas = []\n",
    "ThetaK = TrueTheta\n",
    "\n",
    "for i in range(0,len(x)):\n",
    "    ThetaK = TransitionMatrix*ThetaK + np.random.normal(0,TransitionNoiseVariance)\n",
    "    ObservationK = ObservationMatrix*ThetaK + np.random.normal(0,ObservationNoiseVariance)\n",
    "    TruePositions.append(ObservationK)\n",
    "    TrueThetas.append(ThetaK)\n",
    "\n",
    "\n",
    "    \n",
    "#--------------\n"
   ]
  },
  {
   "cell_type": "code",
   "execution_count": 9,
   "metadata": {},
   "outputs": [
    {
     "data": {
      "text/plain": [
       "<matplotlib.collections.PathCollection at 0x120a06f20>"
      ]
     },
     "execution_count": 9,
     "metadata": {},
     "output_type": "execute_result"
    },
    {
     "data": {
      "image/png": "[encoded data removed]",
      "text/plain": [
       "<Figure size 432x288 with 1 Axes>"
      ]
     },
     "metadata": {
      "needs_background": "light"
     },
     "output_type": "display_data"
    }
   ],
   "source": [
    "plt.scatter(x, TruePositions)"
   ]
  },
  {
   "cell_type": "code",
   "execution_count": 10,
   "metadata": {},
   "outputs": [],
   "source": [
    "\n",
    "PriorThetaMean = 4\n",
    "PriorThetaVariance = 3\n",
    "\n",
    "\n",
    "\n",
    "ThetaMean = PriorThetaMean\n",
    "ThetaVar = PriorThetaVariance\n",
    "PositionPrediction = []\n",
    "\n",
    "\n",
    "\n",
    "ThetasPredictedMean = []\n",
    "ThetasPredictedVar = []\n",
    "ThetasPosteriorMean = []\n",
    "ThetasPosteriorVar = []\n",
    "\n",
    "\n",
    "for i in range(0,len(x)):\n",
    "    PredictionThetaMean = TransitionMatrix*ThetaMean\n",
    "    PredictionThetaVariance = (TransitionMatrix**2)*ThetaVar + TransitionNoiseVariance\n",
    "    \n",
    "    ThetasPredictedMean.append(PredictionThetaMean)\n",
    "    ThetasPredictedVar.append(PredictionThetaVariance)\n",
    "    PositionPrediction.append(ObservationMatrix*PredictionThetaMean)\n",
    "\n",
    "    \n",
    "    CovarianceOfInnovation = (ObservationMatrix**2)*PredictionThetaVariance + ObservationNoiseVariance\n",
    "    OptimalKalmanGain = ( PredictionThetaVariance * ObservationMatrix ) / CovarianceOfInnovation\n",
    "    Innovation = TruePositions[i] - ( ObservationMatrix*PredictionThetaMean )\n",
    "    \n",
    "    ThetaMean = PredictionThetaMean + (OptimalKalmanGain*Innovation)\n",
    "    ThetaVar = (1-(OptimalKalmanGain*ObservationMatrix)) * PredictionThetaVariance\n",
    "    \n",
    "    ThetasPosteriorMean.append(ThetaMean)\n",
    "    ThetasPosteriorVar.append(ThetaVar)\n",
    "    "
   ]
  },
  {
   "cell_type": "code",
   "execution_count": 11,
   "metadata": {},
   "outputs": [
    {
     "data": {
      "text/html": [
       "<style>\n",
       "        .bk-notebook-logo {\n",
       "            display: block;\n",
       "            width: 20px;\n",
       "            height: 20px;\n",
       "            background-image: url(data:image/png;base64,iVBORw0KGgoAAAANSUhEUgAAABQAAAAUCAYAAACNiR0NAAAABHNCSVQICAgIfAhkiAAAAAlwSFlzAAALEgAACxIB0t1+/AAAABx0RVh0U29mdHdhcmUAQWRvYmUgRmlyZXdvcmtzIENTNui8sowAAAOkSURBVDiNjZRtaJVlGMd/1/08zzln5zjP1LWcU9N0NkN8m2CYjpgQYQXqSs0I84OLIC0hkEKoPtiH3gmKoiJDU7QpLgoLjLIQCpEsNJ1vqUOdO7ppbuec5+V+rj4ctwzd8IIbbi6u+8f1539dt3A78eXC7QizUF7gyV1fD1Yqg4JWz84yffhm0qkFqBogB9rM8tZdtwVsPUhWhGcFJngGeWrPzHm5oaMmkfEg1usvLFyc8jLRqDOMru7AyC8saQr7GG7f5fvDeH7Ej8CM66nIF+8yngt6HWaKh7k49Soy9nXurCi1o3qUbS3zWfrYeQDTB/Qj6kX6Ybhw4B+bOYoLKCC9H3Nu/leUTZ1JdRWkkn2ldcCamzrcf47KKXdAJllSlxAOkRgyHsGC/zRday5Qld9DyoM4/q/rUoy/CXh3jzOu3bHUVZeU+DEn8FInkPBFlu3+nW3Nw0mk6vCDiWg8CeJaxEwuHS3+z5RgY+YBR6V1Z1nxSOfoaPa4LASWxxdNp+VWTk7+4vzaou8v8PN+xo+KY2xsw6une2frhw05CTYOmQvsEhjhWjn0bmXPjpE1+kplmmkP3suftwTubK9Vq22qKmrBhpY4jvd5afdRA3wGjFAgcnTK2s4hY0/GPNIb0nErGMCRxWOOX64Z8RAC4oCXdklmEvcL8o0BfkNK4lUg9HTl+oPlQxdNo3Mg4Nv175e/1LDGzZen30MEjRUtmXSfiTVu1kK8W4txyV6BMKlbgk3lMwYCiusNy9fVfvvwMxv8Ynl6vxoByANLTWplvuj/nF9m2+PDtt1eiHPBr1oIfhCChQMBw6Aw0UulqTKZdfVvfG7VcfIqLG9bcldL/+pdWTLxLUy8Qq38heUIjh4XlzZxzQm19lLFlr8vdQ97rjZVOLf8nclzckbcD4wxXMidpX30sFd37Fv/GtwwhzhxGVAprjbg0gCAEeIgwCZyTV2Z1REEW8O4py0wsjeloKoMr6iCY6dP92H6Vw/oTyICIthibxjm/DfN9lVz8IqtqKYLUXfoKVMVQVVJOElGjrnnUt9T9wbgp8AyYKaGlqingHZU/uG2NTZSVqwHQTWkx9hxjkpWDaCg6Ckj5qebgBVbT3V3NNXMSiWSDdGV3hrtzla7J+duwPOToIg42ChPQOQjspnSlp1V+Gjdged7+8UN5CRAV7a5EdFNwCjEaBR27b3W890TE7g24NAP/mMDXRWrGoFPQI9ls/MWO2dWFAar/xcOIImbbpA3zgAAAABJRU5ErkJggg==);\n",
       "        }\n",
       "    </style>\n",
       "    <div>\n",
       "        <a href=\"https://bokeh.org\" target=\"_blank\" class=\"bk-notebook-logo\"></a>\n",
       "        <span id=\"c232cb30-4734-4594-99d4-8f36e75658c9\">Loading BokehJS ...</span>\n",
       "    </div>\n"
      ]
     },
     "metadata": {},
     "output_type": "display_data"
    },
    {
     "data": {
      "application/javascript": "(function(root) {\n  function now() {\n    return new Date();\n  }\n\n  const force = true;\n\n  if (typeof root._bokeh_onload_callbacks === \"undefined\" || force === true) {\n    root._bokeh_onload_callbacks = [];\n    root._bokeh_is_loading = undefined;\n  }\n\nconst JS_MIME_TYPE = 'application/javascript';\n  const HTML_MIME_TYPE = 'text/html';\n  const EXEC_MIME_TYPE = 'application/vnd.bokehjs_exec.v0+json';\n  const CLASS_NAME = 'output_bokeh rendered_html';\n\n  /**\n   * Render data to the DOM node\n   */\n  function render(props, node) {\n    const script = document.createElement(\"script\");\n    node.appendChild(script);\n  }\n\n  /**\n   * Handle when an output is cleared or removed\n   */\n  function handleClearOutput(event, handle) {\n    function drop(id) {\n      const view = Bokeh.index.get_by_id(id)\n      if (view != null) {\n        view.model.document.clear()\n        Bokeh.index.delete(view)\n      }\n    }\n\n    const cell = handle.cell;\n\n    const id = cell.output_area._bokeh_element_id;\n    const server_id = cell.output_area._bokeh_server_id;\n\n    // Clean up Bokeh references\n    if (id != null) {\n      drop(id)\n    }\n\n    if (server_id !== undefined) {\n      // Clean up Bokeh references\n      const cmd_clean = \"from bokeh.io.state import curstate; print(curstate().uuid_to_server['\" + server_id + \"'].get_sessions()[0].document.roots[0]._id)\";\n      cell.notebook.kernel.execute(cmd_clean, {\n        iopub: {\n          output: function(msg) {\n            const id = msg.content.text.trim()\n            drop(id)\n          }\n        }\n      });\n      // Destroy server and session\n      const cmd_destroy = \"import bokeh.io.notebook as ion; ion.destroy_server('\" + server_id + \"')\";\n      cell.notebook.kernel.execute(cmd_destroy);\n    }\n  }\n\n  /**\n   * Handle when a new output is added\n   */\n  function handleAddOutput(event, handle) {\n    const output_area = handle.output_area;\n    const output = handle.output;\n\n    // limit handleAddOutput to display_data with EXEC_MIME_TYPE content only\n    if ((output.output_type != \"display_data\") || (!Object.prototype.hasOwnProperty.call(output.data, EXEC_MIME_TYPE))) {\n      return\n    }\n\n    const toinsert = output_area.element.find(\".\" + CLASS_NAME.split(' ')[0]);\n\n    if (output.metadata[EXEC_MIME_TYPE][\"id\"] !== undefined) {\n      toinsert[toinsert.length - 1].firstChild.textContent = output.data[JS_MIME_TYPE];\n      // store reference to embed id on output_area\n      output_area._bokeh_element_id = output.metadata[EXEC_MIME_TYPE][\"id\"];\n    }\n    if (output.metadata[EXEC_MIME_TYPE][\"server_id\"] !== undefined) {\n      const bk_div = document.createElement(\"div\");\n      bk_div.innerHTML = output.data[HTML_MIME_TYPE];\n      const script_attrs = bk_div.children[0].attributes;\n      for (let i = 0; i < script_attrs.length; i++) {\n        toinsert[toinsert.length - 1].firstChild.setAttribute(script_attrs[i].name, script_attrs[i].value);\n        toinsert[toinsert.length - 1].firstChild.textContent = bk_div.children[0].textContent\n      }\n      // store reference to server id on output_area\n      output_area._bokeh_server_id = output.metadata[EXEC_MIME_TYPE][\"server_id\"];\n    }\n  }\n\n  function register_renderer(events, OutputArea) {\n\n    function append_mime(data, metadata, element) {\n      // create a DOM node to render to\n      const toinsert = this.create_output_subarea(\n        metadata,\n        CLASS_NAME,\n        EXEC_MIME_TYPE\n      );\n      this.keyboard_manager.register_events(toinsert);\n      // Render to node\n      const props = {data: data, metadata: metadata[EXEC_MIME_TYPE]};\n      render(props, toinsert[toinsert.length - 1]);\n      element.append(toinsert);\n      return toinsert\n    }\n\n    /* Handle when an output is cleared or removed */\n    events.on('clear_output.CodeCell', handleClearOutput);\n    events.on('delete.Cell', handleClearOutput);\n\n    /* Handle when a new output is added */\n    events.on('output_added.OutputArea', handleAddOutput);\n\n    /**\n     * Register the mime type and append_mime function with output_area\n     */\n    OutputArea.prototype.register_mime_type(EXEC_MIME_TYPE, append_mime, {\n      /* Is output safe? */\n      safe: true,\n      /* Index of renderer in `output_area.display_order` */\n      index: 0\n    });\n  }\n\n  // register the mime type if in Jupyter Notebook environment and previously unregistered\n  if (root.Jupyter !== undefined) {\n    const events = require('base/js/events');\n    const OutputArea = require('notebook/js/outputarea').OutputArea;\n\n    if (OutputArea.prototype.mime_types().indexOf(EXEC_MIME_TYPE) == -1) {\n      register_renderer(events, OutputArea);\n    }\n  }\n  if (typeof (root._bokeh_timeout) === \"undefined\" || force === true) {\n    root._bokeh_timeout = Date.now() + 5000;\n    root._bokeh_failed_load = false;\n  }\n\n  const NB_LOAD_WARNING = {'data': {'text/html':\n     \"<div style='background-color: #fdd'>\\n\"+\n     \"<p>\\n\"+\n     \"BokehJS does not appear to have successfully loaded. If loading BokehJS from CDN, this \\n\"+\n     \"may be due to a slow or bad network connection. Possible fixes:\\n\"+\n     \"</p>\\n\"+\n     \"<ul>\\n\"+\n     \"<li>re-rerun `output_notebook()` to attempt to load from CDN again, or</li>\\n\"+\n     \"<li>use INLINE resources instead, as so:</li>\\n\"+\n     \"</ul>\\n\"+\n     \"<code>\\n\"+\n     \"from bokeh.resources import INLINE\\n\"+\n     \"output_notebook(resources=INLINE)\\n\"+\n     \"</code>\\n\"+\n     \"</div>\"}};\n\n  function display_loaded() {\n    const el = document.getElementById(\"c232cb30-4734-4594-99d4-8f36e75658c9\");\n    if (el != null) {\n      el.textContent = \"BokehJS is loading...\";\n    }\n    if (root.Bokeh !== undefined) {\n      if (el != null) {\n        el.textContent = \"BokehJS \" + root.Bokeh.version + \" successfully loaded.\";\n      }\n    } else if (Date.now() < root._bokeh_timeout) {\n      setTimeout(display_loaded, 100)\n    }\n  }\n\n  function run_callbacks() {\n    try {\n      root._bokeh_onload_callbacks.forEach(function(callback) {\n        if (callback != null)\n          callback();\n      });\n    } finally {\n      delete root._bokeh_onload_callbacks\n    }\n    console.debug(\"Bokeh: all callbacks have finished\");\n  }\n\n  function load_libs(css_urls, js_urls, callback) {\n    if (css_urls == null) css_urls = [];\n    if (js_urls == null) js_urls = [];\n\n    root._bokeh_onload_callbacks.push(callback);\n    if (root._bokeh_is_loading > 0) {\n      console.debug(\"Bokeh: BokehJS is being loaded, scheduling callback at\", now());\n      return null;\n    }\n    if (js_urls == null || js_urls.length === 0) {\n      run_callbacks();\n      return null;\n    }\n    console.debug(\"Bokeh: BokehJS not loaded, scheduling load and callback at\", now());\n    root._bokeh_is_loading = css_urls.length + js_urls.length;\n\n    function on_load() {\n      root._bokeh_is_loading--;\n      if (root._bokeh_is_loading === 0) {\n        console.debug(\"Bokeh: all BokehJS libraries/stylesheets loaded\");\n        run_callbacks()\n      }\n    }\n\n    function on_error(url) {\n      console.error(\"failed to load \" + url);\n    }\n\n    for (let i = 0; i < css_urls.length; i++) {\n      const url = css_urls[i];\n      const element = document.createElement(\"link\");\n      element.onload = on_load;\n      element.onerror = on_error.bind(null, url);\n      element.rel = \"stylesheet\";\n      element.type = \"text/css\";\n      element.href = url;\n      console.debug(\"Bokeh: injecting link tag for BokehJS stylesheet: \", url);\n      document.body.appendChild(element);\n    }\n\n    for (let i = 0; i < js_urls.length; i++) {\n      const url = js_urls[i];\n      const element = document.createElement('script');\n      element.onload = on_load;\n      element.onerror = on_error.bind(null, url);\n      element.async = false;\n      element.src = url;\n      console.debug(\"Bokeh: injecting script tag for BokehJS library: \", url);\n      document.head.appendChild(element);\n    }\n  };\n\n  function inject_raw_css(css) {\n    const element = document.createElement(\"style\");\n    element.appendChild(document.createTextNode(css));\n    document.body.appendChild(element);\n  }\n\n  const js_urls = [\"https://cdn.bokeh.org/bokeh/release/bokeh-3.3.0.min.js\", \"https://cdn.bokeh.org/bokeh/release/bokeh-gl-3.3.0.min.js\", \"https://cdn.bokeh.org/bokeh/release/bokeh-widgets-3.3.0.min.js\", \"https://cdn.bokeh.org/bokeh/release/bokeh-tables-3.3.0.min.js\", \"https://cdn.bokeh.org/bokeh/release/bokeh-mathjax-3.3.0.min.js\"];\n  const css_urls = [];\n\n  const inline_js = [    function(Bokeh) {\n      Bokeh.set_log_level(\"info\");\n    },\nfunction(Bokeh) {\n    }\n  ];\n\n  function run_inline_js() {\n    if (root.Bokeh !== undefined || force === true) {\n          for (let i = 0; i < inline_js.length; i++) {\n      inline_js[i].call(root, root.Bokeh);\n    }\nif (force === true) {\n        display_loaded();\n      }} else if (Date.now() < root._bokeh_timeout) {\n      setTimeout(run_inline_js, 100);\n    } else if (!root._bokeh_failed_load) {\n      console.log(\"Bokeh: BokehJS failed to load within specified timeout.\");\n      root._bokeh_failed_load = true;\n    } else if (force !== true) {\n      const cell = $(document.getElementById(\"c232cb30-4734-4594-99d4-8f36e75658c9\")).parents('.cell').data().cell;\n      cell.output_area.append_execute_result(NB_LOAD_WARNING)\n    }\n  }\n\n  if (root._bokeh_is_loading === 0) {\n    console.debug(\"Bokeh: BokehJS loaded, going straight to plotting\");\n    run_inline_js();\n  } else {\n    load_libs(css_urls, js_urls, function() {\n      console.debug(\"Bokeh: BokehJS plotting callback run at\", now());\n      run_inline_js();\n    });\n  }\n}(window));",
      "application/vnd.bokehjs_load.v0+json": ""
     },
     "metadata": {},
     "output_type": "display_data"
    },
    {
     "data": {
      "text/html": [
       "\n",
       "  <div id=\"eca2efa2-49b6-46c0-8d4e-48419f5e3093\" data-root-id=\"p1001\" style=\"display: contents;\"></div>\n"
      ]
     },
     "metadata": {},
     "output_type": "display_data"
    },
    {
     "data": {
      "application/javascript": "(function(root) {\n  function embed_document(root) {\n  const docs_json = {\"240a08f5-2a49-48be-98bf-ec57956c0a3c\":{\"version\":\"3.3.0\",\"title\":\"Bokeh Application\",\"roots\":[{\"type\":\"object\",\"name\":\"Figure\",\"id\":\"p1001\",\"attributes\":{\"x_range\":{\"type\":\"object\",\"name\":\"DataRange1d\",\"id\":\"p1002\"},\"y_range\":{\"type\":\"object\",\"name\":\"DataRange1d\",\"id\":\"p1003\"},\"x_scale\":{\"type\":\"object\",\"name\":\"LinearScale\",\"id\":\"p1011\"},\"y_scale\":{\"type\":\"object\",\"name\":\"LinearScale\",\"id\":\"p1012\"},\"title\":{\"type\":\"object\",\"name\":\"Title\",\"id\":\"p1004\",\"attributes\":{\"text\":\"Constant Gaussian DLM\"}},\"renderers\":[{\"type\":\"object\",\"name\":\"GlyphRenderer\",\"id\":\"p1036\",\"attributes\":{\"data_source\":{\"type\":\"object\",\"name\":\"ColumnDataSource\",\"id\":\"p1030\",\"attributes\":{\"selected\":{\"type\":\"object\",\"name\":\"Selection\",\"id\":\"p1031\",\"attributes\":{\"indices\":[],\"line_indices\":[]}},\"selection_policy\":{\"type\":\"object\",\"name\":\"UnionRenderers\",\"id\":\"p1032\"},\"data\":{\"type\":\"map\",\"entries\":[[\"x\",{\"type\":\"ndarray\",\"array\":{\"type\":\"bytes\",\"data\":\"AAAAAAAAAAAAAAAAAIDwPwAAAAAAgABAAAAAAADACEAAAAAAAIAQQAAAAAAAoBRAAAAAAADAGEAAAAAAAOAcQAAAAAAAgCBAAAAAAACQIkAAAAAAAKAkQAAAAAAAsCZAAAAAAADAKEAAAAAAANAqQAAAAAAA4CxAAAAAAADwLkAAAAAAAIAwQAAAAAAAiDFAAAAAAACQMkAAAAAAAJgzQAAAAAAAoDRAAAAAAACoNUAAAAAAALA2QAAAAAAAuDdAAAAAAADAOEAAAAAAAMg5QAAAAAAA0DpAAAAAAADYO0AAAAAAAOA8QAAAAAAA6D1AAAAAAADwPkAAAAAAAPg/QAAAAAAAgEBA\"},\"shape\":[33],\"dtype\":\"float64\",\"order\":\"little\"}],[\"y\",[8.8,0.2676386631456062,2.6868641851441812,17.47889331823984,9.620564275109636,10.505859865142744,3.587697051719457,-1.5821246483347102,8.10011498703283,15.413559763884482,15.099945165200118,10.881066685876634,6.7853103801163535,20.63211093548014,30.456444008824093,25.252413532302707,16.794568952692607,11.638327446030045,8.52724196088015,14.374721915901818,28.499701988229994,16.83005957773026,19.80943440906284,5.1758080862976215,3.2523675403161807,-2.1675282691234425,-6.7770308624452325,-7.858651157366733,-12.333086712454403,-19.529518367165913,-19.357705391589594,-23.126934621207493,-24.416312219446944]]]}}},\"view\":{\"type\":\"object\",\"name\":\"CDSView\",\"id\":\"p1037\",\"attributes\":{\"filter\":{\"type\":\"object\",\"name\":\"AllIndices\",\"id\":\"p1038\"}}},\"glyph\":{\"type\":\"object\",\"name\":\"Circle\",\"id\":\"p1033\",\"attributes\":{\"x\":{\"type\":\"field\",\"field\":\"x\"},\"y\":{\"type\":\"field\",\"field\":\"y\"},\"size\":{\"type\":\"value\",\"value\":8},\"line_color\":{\"type\":\"value\",\"value\":\"green\"},\"fill_color\":{\"type\":\"value\",\"value\":\"green\"},\"hatch_color\":{\"type\":\"value\",\"value\":\"green\"}}},\"nonselection_glyph\":{\"type\":\"object\",\"name\":\"Circle\",\"id\":\"p1034\",\"attributes\":{\"x\":{\"type\":\"field\",\"field\":\"x\"},\"y\":{\"type\":\"field\",\"field\":\"y\"},\"size\":{\"type\":\"value\",\"value\":8},\"line_color\":{\"type\":\"value\",\"value\":\"green\"},\"line_alpha\":{\"type\":\"value\",\"value\":0.1},\"fill_color\":{\"type\":\"value\",\"value\":\"green\"},\"fill_alpha\":{\"type\":\"value\",\"value\":0.1},\"hatch_color\":{\"type\":\"value\",\"value\":\"green\"},\"hatch_alpha\":{\"type\":\"value\",\"value\":0.1}}},\"muted_glyph\":{\"type\":\"object\",\"name\":\"Circle\",\"id\":\"p1035\",\"attributes\":{\"x\":{\"type\":\"field\",\"field\":\"x\"},\"y\":{\"type\":\"field\",\"field\":\"y\"},\"size\":{\"type\":\"value\",\"value\":8},\"line_color\":{\"type\":\"value\",\"value\":\"green\"},\"line_alpha\":{\"type\":\"value\",\"value\":0.2},\"fill_color\":{\"type\":\"value\",\"value\":\"green\"},\"fill_alpha\":{\"type\":\"value\",\"value\":0.2},\"hatch_color\":{\"type\":\"value\",\"value\":\"green\"},\"hatch_alpha\":{\"type\":\"value\",\"value\":0.2}}}}},{\"type\":\"object\",\"name\":\"GlyphRenderer\",\"id\":\"p1047\",\"attributes\":{\"data_source\":{\"type\":\"object\",\"name\":\"ColumnDataSource\",\"id\":\"p1041\",\"attributes\":{\"selected\":{\"type\":\"object\",\"name\":\"Selection\",\"id\":\"p1042\",\"attributes\":{\"indices\":[],\"line_indices\":[]}},\"selection_policy\":{\"type\":\"object\",\"name\":\"UnionRenderers\",\"id\":\"p1043\"},\"data\":{\"type\":\"map\",\"entries\":[[\"x\",{\"type\":\"ndarray\",\"array\":{\"type\":\"bytes\",\"data\":\"AAAAAAAAAAAAAAAAAIDwPwAAAAAAgABAAAAAAADACEAAAAAAAIAQQAAAAAAAoBRAAAAAAADAGEAAAAAAAOAcQAAAAAAAgCBAAAAAAACQIkAAAAAAAKAkQAAAAAAAsCZAAAAAAADAKEAAAAAAANAqQAAAAAAA4CxAAAAAAADwLkAAAAAAAIAwQAAAAAAAiDFAAAAAAACQMkAAAAAAAJgzQAAAAAAAoDRAAAAAAACoNUAAAAAAALA2QAAAAAAAuDdAAAAAAADAOEAAAAAAAMg5QAAAAAAA0DpAAAAAAADYO0AAAAAAAOA8QAAAAAAA6D1AAAAAAADwPkAAAAAAAPg/QAAAAAAAgEBA\"},\"shape\":[33],\"dtype\":\"float64\",\"order\":\"little\"}],[\"y\",[-0.8781458759744334,2.871608660910643,18.524897123610902,7.002412915760676,9.53684921325555,1.8151737102790717,-2.441763043636155,9.149833804447832,15.192733804850992,13.390536132433079,8.852058752381787,5.227566064229176,21.14657345183865,29.096360116946446,21.459380953997037,13.274303104580436,9.339583094472239,6.976118396717723,13.974502995333042,28.211668232935153,12.66466944221412,18.24387438510858,1.6896498097916752,2.5136397739716116,-3.013251493164782,-6.958243930017495,-7.217541385514494,-11.881391606921987,-18.836445242726167,-17.212258199103,-21.357268246080043,-22.010910354898186,-32.36274781201874]]]}}},\"view\":{\"type\":\"object\",\"name\":\"CDSView\",\"id\":\"p1048\",\"attributes\":{\"filter\":{\"type\":\"object\",\"name\":\"AllIndices\",\"id\":\"p1049\"}}},\"glyph\":{\"type\":\"object\",\"name\":\"Circle\",\"id\":\"p1044\",\"attributes\":{\"x\":{\"type\":\"field\",\"field\":\"x\"},\"y\":{\"type\":\"field\",\"field\":\"y\"},\"size\":{\"type\":\"value\",\"value\":8},\"line_color\":{\"type\":\"value\",\"value\":\"red\"},\"fill_color\":{\"type\":\"value\",\"value\":\"red\"},\"hatch_color\":{\"type\":\"value\",\"value\":\"red\"}}},\"nonselection_glyph\":{\"type\":\"object\",\"name\":\"Circle\",\"id\":\"p1045\",\"attributes\":{\"x\":{\"type\":\"field\",\"field\":\"x\"},\"y\":{\"type\":\"field\",\"field\":\"y\"},\"size\":{\"type\":\"value\",\"value\":8},\"line_color\":{\"type\":\"value\",\"value\":\"red\"},\"line_alpha\":{\"type\":\"value\",\"value\":0.1},\"fill_color\":{\"type\":\"value\",\"value\":\"red\"},\"fill_alpha\":{\"type\":\"value\",\"value\":0.1},\"hatch_color\":{\"type\":\"value\",\"value\":\"red\"},\"hatch_alpha\":{\"type\":\"value\",\"value\":0.1}}},\"muted_glyph\":{\"type\":\"object\",\"name\":\"Circle\",\"id\":\"p1046\",\"attributes\":{\"x\":{\"type\":\"field\",\"field\":\"x\"},\"y\":{\"type\":\"field\",\"field\":\"y\"},\"size\":{\"type\":\"value\",\"value\":8},\"line_color\":{\"type\":\"value\",\"value\":\"red\"},\"line_alpha\":{\"type\":\"value\",\"value\":0.2},\"fill_color\":{\"type\":\"value\",\"value\":\"red\"},\"fill_alpha\":{\"type\":\"value\",\"value\":0.2},\"hatch_color\":{\"type\":\"value\",\"value\":\"red\"},\"hatch_alpha\":{\"type\":\"value\",\"value\":0.2}}}}}],\"toolbar\":{\"type\":\"object\",\"name\":\"Toolbar\",\"id\":\"p1010\",\"attributes\":{\"tools\":[{\"type\":\"object\",\"name\":\"PanTool\",\"id\":\"p1023\"},{\"type\":\"object\",\"name\":\"WheelZoomTool\",\"id\":\"p1024\",\"attributes\":{\"renderers\":\"auto\"}},{\"type\":\"object\",\"name\":\"BoxZoomTool\",\"id\":\"p1025\",\"attributes\":{\"overlay\":{\"type\":\"object\",\"name\":\"BoxAnnotation\",\"id\":\"p1026\",\"attributes\":{\"syncable\":false,\"level\":\"overlay\",\"visible\":false,\"left_units\":\"canvas\",\"right_units\":\"canvas\",\"top_units\":\"canvas\",\"bottom_units\":\"canvas\",\"line_color\":\"black\",\"line_alpha\":1.0,\"line_width\":2,\"line_dash\":[4,4],\"fill_color\":\"lightgrey\",\"fill_alpha\":0.5}}}},{\"type\":\"object\",\"name\":\"SaveTool\",\"id\":\"p1027\"},{\"type\":\"object\",\"name\":\"ResetTool\",\"id\":\"p1028\"},{\"type\":\"object\",\"name\":\"HelpTool\",\"id\":\"p1029\"}]}},\"left\":[{\"type\":\"object\",\"name\":\"LinearAxis\",\"id\":\"p1018\",\"attributes\":{\"ticker\":{\"type\":\"object\",\"name\":\"BasicTicker\",\"id\":\"p1019\",\"attributes\":{\"mantissas\":[1,2,5]}},\"formatter\":{\"type\":\"object\",\"name\":\"BasicTickFormatter\",\"id\":\"p1020\"},\"axis_label\":\"Position\",\"major_label_policy\":{\"type\":\"object\",\"name\":\"AllLabels\",\"id\":\"p1021\"}}}],\"below\":[{\"type\":\"object\",\"name\":\"LinearAxis\",\"id\":\"p1013\",\"attributes\":{\"ticker\":{\"type\":\"object\",\"name\":\"BasicTicker\",\"id\":\"p1014\",\"attributes\":{\"mantissas\":[1,2,5]}},\"formatter\":{\"type\":\"object\",\"name\":\"BasicTickFormatter\",\"id\":\"p1015\"},\"axis_label\":\"TimeStep\",\"major_label_policy\":{\"type\":\"object\",\"name\":\"AllLabels\",\"id\":\"p1016\"}}}],\"center\":[{\"type\":\"object\",\"name\":\"Grid\",\"id\":\"p1017\",\"attributes\":{\"axis\":{\"id\":\"p1013\"}}},{\"type\":\"object\",\"name\":\"Grid\",\"id\":\"p1022\",\"attributes\":{\"dimension\":1,\"axis\":{\"id\":\"p1018\"}}},{\"type\":\"object\",\"name\":\"Legend\",\"id\":\"p1039\",\"attributes\":{\"items\":[{\"type\":\"object\",\"name\":\"LegendItem\",\"id\":\"p1040\",\"attributes\":{\"label\":{\"type\":\"value\",\"value\":\"Positions Predicted\"},\"renderers\":[{\"id\":\"p1036\"}]}},{\"type\":\"object\",\"name\":\"LegendItem\",\"id\":\"p1050\",\"attributes\":{\"label\":{\"type\":\"value\",\"value\":\"Observed Positions\"},\"renderers\":[{\"id\":\"p1047\"}]}}]}}]}}]}};\n  const render_items = [{\"docid\":\"240a08f5-2a49-48be-98bf-ec57956c0a3c\",\"roots\":{\"p1001\":\"eca2efa2-49b6-46c0-8d4e-48419f5e3093\"},\"root_ids\":[\"p1001\"]}];\n  root.Bokeh.embed.embed_items_notebook(docs_json, render_items);\n  }\n  if (root.Bokeh !== undefined) {\n    embed_document(root);\n  } else {\n    let attempts = 0;\n    const timer = setInterval(function(root) {\n      if (root.Bokeh !== undefined) {\n        clearInterval(timer);\n        embed_document(root);\n      } else {\n        attempts++;\n        if (attempts > 100) {\n          clearInterval(timer);\n          console.log(\"Bokeh: ERROR: Unable to run BokehJS code because BokehJS library is missing\");\n        }\n      }\n    }, 10, root)\n  }\n})(window);",
      "application/vnd.bokehjs_exec.v0+json": ""
     },
     "metadata": {
      "application/vnd.bokehjs_exec.v0+json": {
       "id": "p1001"
      }
     },
     "output_type": "display_data"
    }
   ],
   "source": [
    "from bokeh.io import output_notebook\n",
    "from bokeh.plotting import figure, show\n",
    "\n",
    "output_notebook()\n",
    "p = figure(title=\"Constant Gaussian DLM\", x_axis_label=\"TimeStep\", y_axis_label=\"Position\")\n",
    "\n",
    "p.circle(x, PositionPrediction, legend_label=\"Positions Predicted\", color=\"green\", size=8)\n",
    "p.circle(x, TruePositions, legend_label=\"Observed Positions\", color=\"red\", size=8)\n",
    "\n",
    "\n",
    "show(p)\n"
   ]
  },
  {
   "cell_type": "code",
   "execution_count": 12,
   "metadata": {},
   "outputs": [
    {
     "data": {
      "application/vnd.jupyter.widget-view+json": {
       "model_id": "added06f135549eaa3ab7f2c00a5a8e3",
       "version_major": 2,
       "version_minor": 0
      },
      "text/plain": [
       "interactive(children=(IntSlider(value=0, description='Timestep', max=30), Output()), _dom_classes=('widget-int…"
      ]
     },
     "execution_count": 12,
     "metadata": {},
     "output_type": "execute_result"
    }
   ],
   "source": [
    "def EstimateofTheta(Timestep = 0):\n",
    "    \n",
    "    # Graph from 0 to 100, include 10000 points.\n",
    "    x = np.linspace( -10 ,40,  100000) \n",
    "    \n",
    "    \n",
    "    plt.plot(x, norm.pdf(x, ThetasPredictedMean[Timestep], ThetasPredictedVar[Timestep]),label =\"Distribution of predicted mu\")\n",
    "    plt.plot(x, norm.pdf(x, ThetasPosteriorMean[Timestep], ThetasPosteriorVar[Timestep]),label =\"Distribution of posterior mu\")\n",
    "\n",
    "    plt.axvline(x = TrueThetas[Timestep], color = 'b', label = 'theta k')\n",
    "\n",
    "    plt.grid()\n",
    "    plt.legend()\n",
    "    plt.title(\"Estimate of theta k\")\n",
    "    plt.xlabel(\"x\")\n",
    "    plt.ylabel(\"f(x)\")\n",
    "\n",
    "\n",
    "    \n",
    "interactive_plot = interactive(EstimateofTheta, Timestep = (0,30,1) )\n",
    "interactive_plot"
   ]
  },
  {
   "cell_type": "markdown",
   "metadata": {},
   "source": [
    "# General Kalman Filter "
   ]
  },
  {
   "cell_type": "code",
   "execution_count": 2,
   "metadata": {},
   "outputs": [],
   "source": [
    "def PredictedAndPosterior( Observations, priorThetaMean, priorThetaVariance,transitionMatrix, transitionNoiseVariance, observationMatrix, observationNoiseVariance):\n",
    "    ObservationPrediction = []\n",
    "    ThetasPredictedMean = []\n",
    "    ThetasPredictedVar = []\n",
    "    ThetasPosteriorMean = []\n",
    "    ThetasPosteriorVar = []\n",
    "    \n",
    "    ThetaMean= priorThetaMean\n",
    "    ThetaVar = priorThetaVariance\n",
    "    \n",
    "    for i in range(0,len(Observations)):\n",
    "\n",
    "        PredictionThetaMean = transitionMatrix@ThetaMean\n",
    " \n",
    "        PredictionThetaVariance = transitionMatrix @ (ThetaVar @ transitionMatrix.T) + transitionNoiseVariance\n",
    "        \n",
    "        ThetasPredictedMean.append(PredictionThetaMean)\n",
    "        ThetasPredictedVar.append(PredictionThetaVariance)\n",
    "        ObservationPrediction.append( observationMatrix @ PredictionThetaMean )\n",
    "     \n",
    "        CovarianceOfInnovation =  observationMatrix @ ( PredictionThetaVariance @ observationMatrix.T)+ observationNoiseVariance\n",
    "        OptimalKalmanGain = PredictionThetaVariance @ ( observationMatrix.T @ np.linalg.inv(CovarianceOfInnovation) )\n",
    "        \n",
    "        Innovation = Observations[i] - np.matmul( observationMatrix,PredictionThetaMean )\n",
    "       \n",
    "        ThetaMean = PredictionThetaMean + np.matmul(OptimalKalmanGain,Innovation)\n",
    "        \n",
    "        ThetaVar = np.matmul((np.identity(transitionMatrix.shape[0])-np.matmul( OptimalKalmanGain,observationMatrix)) , PredictionThetaVariance)\n",
    "        \n",
    "        ThetasPosteriorMean.append(ThetaMean)\n",
    "        ThetasPosteriorVar.append(ThetaVar)\n",
    "    \n",
    "    return ObservationPrediction ,ThetasPredictedMean , ThetasPredictedVar,ThetasPosteriorMean, ThetasPosteriorVar \n",
    "    "
   ]
  },
  {
   "cell_type": "code",
   "execution_count": 3,
   "metadata": {},
   "outputs": [],
   "source": [
    "def GenerateSample(trueTheta,transitionMatrix, transitionNoiseVariance, observationMatrix, observationNoiseVariance, number):\n",
    "    \n",
    "   \n",
    "    Observations = []\n",
    "    TrueThetas = []\n",
    "    ThetaK = trueTheta\n",
    "    MeanO = [0] * observationNoiseVariance.shape[0]\n",
    "    MeanT= [0] * transitionNoiseVariance.shape[0]\n",
    "    \n",
    "    for i in range(0,number):\n",
    "       \n",
    "        ThetaK = (transitionMatrix@ ThetaK) + np.transpose( np.random.default_rng().multivariate_normal(MeanT,transitionNoiseVariance,1) )\n",
    "        \n",
    "        ObservationK = (observationMatrix@ ThetaK) + np.transpose( np.random.default_rng().multivariate_normal(MeanO,observationNoiseVariance,1) )\n",
    " \n",
    "        Observations.append(ObservationK)\n",
    "        TrueThetas.append(ThetaK)\n",
    "    \n",
    "    return TrueThetas, Observations"
   ]
  },
  {
   "cell_type": "code",
   "execution_count": 4,
   "metadata": {},
   "outputs": [
    {
     "data": {
      "text/html": [
       "<style>\n",
       "        .bk-notebook-logo {\n",
       "            display: block;\n",
       "            width: 20px;\n",
       "            height: 20px;\n",
       "            background-image: url(data:image/png;base64,iVBORw0KGgoAAAANSUhEUgAAABQAAAAUCAYAAACNiR0NAAAABHNCSVQICAgIfAhkiAAAAAlwSFlzAAALEgAACxIB0t1+/AAAABx0RVh0U29mdHdhcmUAQWRvYmUgRmlyZXdvcmtzIENTNui8sowAAAOkSURBVDiNjZRtaJVlGMd/1/08zzln5zjP1LWcU9N0NkN8m2CYjpgQYQXqSs0I84OLIC0hkEKoPtiH3gmKoiJDU7QpLgoLjLIQCpEsNJ1vqUOdO7ppbuec5+V+rj4ctwzd8IIbbi6u+8f1539dt3A78eXC7QizUF7gyV1fD1Yqg4JWz84yffhm0qkFqBogB9rM8tZdtwVsPUhWhGcFJngGeWrPzHm5oaMmkfEg1usvLFyc8jLRqDOMru7AyC8saQr7GG7f5fvDeH7Ej8CM66nIF+8yngt6HWaKh7k49Soy9nXurCi1o3qUbS3zWfrYeQDTB/Qj6kX6Ybhw4B+bOYoLKCC9H3Nu/leUTZ1JdRWkkn2ldcCamzrcf47KKXdAJllSlxAOkRgyHsGC/zRday5Qld9DyoM4/q/rUoy/CXh3jzOu3bHUVZeU+DEn8FInkPBFlu3+nW3Nw0mk6vCDiWg8CeJaxEwuHS3+z5RgY+YBR6V1Z1nxSOfoaPa4LASWxxdNp+VWTk7+4vzaou8v8PN+xo+KY2xsw6une2frhw05CTYOmQvsEhjhWjn0bmXPjpE1+kplmmkP3suftwTubK9Vq22qKmrBhpY4jvd5afdRA3wGjFAgcnTK2s4hY0/GPNIb0nErGMCRxWOOX64Z8RAC4oCXdklmEvcL8o0BfkNK4lUg9HTl+oPlQxdNo3Mg4Nv175e/1LDGzZen30MEjRUtmXSfiTVu1kK8W4txyV6BMKlbgk3lMwYCiusNy9fVfvvwMxv8Ynl6vxoByANLTWplvuj/nF9m2+PDtt1eiHPBr1oIfhCChQMBw6Aw0UulqTKZdfVvfG7VcfIqLG9bcldL/+pdWTLxLUy8Qq38heUIjh4XlzZxzQm19lLFlr8vdQ97rjZVOLf8nclzckbcD4wxXMidpX30sFd37Fv/GtwwhzhxGVAprjbg0gCAEeIgwCZyTV2Z1REEW8O4py0wsjeloKoMr6iCY6dP92H6Vw/oTyICIthibxjm/DfN9lVz8IqtqKYLUXfoKVMVQVVJOElGjrnnUt9T9wbgp8AyYKaGlqingHZU/uG2NTZSVqwHQTWkx9hxjkpWDaCg6Ckj5qebgBVbT3V3NNXMSiWSDdGV3hrtzla7J+duwPOToIg42ChPQOQjspnSlp1V+Gjdged7+8UN5CRAV7a5EdFNwCjEaBR27b3W890TE7g24NAP/mMDXRWrGoFPQI9ls/MWO2dWFAar/xcOIImbbpA3zgAAAABJRU5ErkJggg==);\n",
       "        }\n",
       "    </style>\n",
       "    <div>\n",
       "        <a href=\"https://bokeh.org\" target=\"_blank\" class=\"bk-notebook-logo\"></a>\n",
       "        <span id=\"d4f11038-d0e2-4366-a23c-75b07a131cad\">Loading BokehJS ...</span>\n",
       "    </div>\n"
      ]
     },
     "metadata": {},
     "output_type": "display_data"
    },
    {
     "data": {
      "application/javascript": "(function(root) {\n  function now() {\n    return new Date();\n  }\n\n  const force = true;\n\n  if (typeof root._bokeh_onload_callbacks === \"undefined\" || force === true) {\n    root._bokeh_onload_callbacks = [];\n    root._bokeh_is_loading = undefined;\n  }\n\nconst JS_MIME_TYPE = 'application/javascript';\n  const HTML_MIME_TYPE = 'text/html';\n  const EXEC_MIME_TYPE = 'application/vnd.bokehjs_exec.v0+json';\n  const CLASS_NAME = 'output_bokeh rendered_html';\n\n  /**\n   * Render data to the DOM node\n   */\n  function render(props, node) {\n    const script = document.createElement(\"script\");\n    node.appendChild(script);\n  }\n\n  /**\n   * Handle when an output is cleared or removed\n   */\n  function handleClearOutput(event, handle) {\n    function drop(id) {\n      const view = Bokeh.index.get_by_id(id)\n      if (view != null) {\n        view.model.document.clear()\n        Bokeh.index.delete(view)\n      }\n    }\n\n    const cell = handle.cell;\n\n    const id = cell.output_area._bokeh_element_id;\n    const server_id = cell.output_area._bokeh_server_id;\n\n    // Clean up Bokeh references\n    if (id != null) {\n      drop(id)\n    }\n\n    if (server_id !== undefined) {\n      // Clean up Bokeh references\n      const cmd_clean = \"from bokeh.io.state import curstate; print(curstate().uuid_to_server['\" + server_id + \"'].get_sessions()[0].document.roots[0]._id)\";\n      cell.notebook.kernel.execute(cmd_clean, {\n        iopub: {\n          output: function(msg) {\n            const id = msg.content.text.trim()\n            drop(id)\n          }\n        }\n      });\n      // Destroy server and session\n      const cmd_destroy = \"import bokeh.io.notebook as ion; ion.destroy_server('\" + server_id + \"')\";\n      cell.notebook.kernel.execute(cmd_destroy);\n    }\n  }\n\n  /**\n   * Handle when a new output is added\n   */\n  function handleAddOutput(event, handle) {\n    const output_area = handle.output_area;\n    const output = handle.output;\n\n    // limit handleAddOutput to display_data with EXEC_MIME_TYPE content only\n    if ((output.output_type != \"display_data\") || (!Object.prototype.hasOwnProperty.call(output.data, EXEC_MIME_TYPE))) {\n      return\n    }\n\n    const toinsert = output_area.element.find(\".\" + CLASS_NAME.split(' ')[0]);\n\n    if (output.metadata[EXEC_MIME_TYPE][\"id\"] !== undefined) {\n      toinsert[toinsert.length - 1].firstChild.textContent = output.data[JS_MIME_TYPE];\n      // store reference to embed id on output_area\n      output_area._bokeh_element_id = output.metadata[EXEC_MIME_TYPE][\"id\"];\n    }\n    if (output.metadata[EXEC_MIME_TYPE][\"server_id\"] !== undefined) {\n      const bk_div = document.createElement(\"div\");\n      bk_div.innerHTML = output.data[HTML_MIME_TYPE];\n      const script_attrs = bk_div.children[0].attributes;\n      for (let i = 0; i < script_attrs.length; i++) {\n        toinsert[toinsert.length - 1].firstChild.setAttribute(script_attrs[i].name, script_attrs[i].value);\n        toinsert[toinsert.length - 1].firstChild.textContent = bk_div.children[0].textContent\n      }\n      // store reference to server id on output_area\n      output_area._bokeh_server_id = output.metadata[EXEC_MIME_TYPE][\"server_id\"];\n    }\n  }\n\n  function register_renderer(events, OutputArea) {\n\n    function append_mime(data, metadata, element) {\n      // create a DOM node to render to\n      const toinsert = this.create_output_subarea(\n        metadata,\n        CLASS_NAME,\n        EXEC_MIME_TYPE\n      );\n      this.keyboard_manager.register_events(toinsert);\n      // Render to node\n      const props = {data: data, metadata: metadata[EXEC_MIME_TYPE]};\n      render(props, toinsert[toinsert.length - 1]);\n      element.append(toinsert);\n      return toinsert\n    }\n\n    /* Handle when an output is cleared or removed */\n    events.on('clear_output.CodeCell', handleClearOutput);\n    events.on('delete.Cell', handleClearOutput);\n\n    /* Handle when a new output is added */\n    events.on('output_added.OutputArea', handleAddOutput);\n\n    /**\n     * Register the mime type and append_mime function with output_area\n     */\n    OutputArea.prototype.register_mime_type(EXEC_MIME_TYPE, append_mime, {\n      /* Is output safe? */\n      safe: true,\n      /* Index of renderer in `output_area.display_order` */\n      index: 0\n    });\n  }\n\n  // register the mime type if in Jupyter Notebook environment and previously unregistered\n  if (root.Jupyter !== undefined) {\n    const events = require('base/js/events');\n    const OutputArea = require('notebook/js/outputarea').OutputArea;\n\n    if (OutputArea.prototype.mime_types().indexOf(EXEC_MIME_TYPE) == -1) {\n      register_renderer(events, OutputArea);\n    }\n  }\n  if (typeof (root._bokeh_timeout) === \"undefined\" || force === true) {\n    root._bokeh_timeout = Date.now() + 5000;\n    root._bokeh_failed_load = false;\n  }\n\n  const NB_LOAD_WARNING = {'data': {'text/html':\n     \"<div style='background-color: #fdd'>\\n\"+\n     \"<p>\\n\"+\n     \"BokehJS does not appear to have successfully loaded. If loading BokehJS from CDN, this \\n\"+\n     \"may be due to a slow or bad network connection. Possible fixes:\\n\"+\n     \"</p>\\n\"+\n     \"<ul>\\n\"+\n     \"<li>re-rerun `output_notebook()` to attempt to load from CDN again, or</li>\\n\"+\n     \"<li>use INLINE resources instead, as so:</li>\\n\"+\n     \"</ul>\\n\"+\n     \"<code>\\n\"+\n     \"from bokeh.resources import INLINE\\n\"+\n     \"output_notebook(resources=INLINE)\\n\"+\n     \"</code>\\n\"+\n     \"</div>\"}};\n\n  function display_loaded() {\n    const el = document.getElementById(\"d4f11038-d0e2-4366-a23c-75b07a131cad\");\n    if (el != null) {\n      el.textContent = \"BokehJS is loading...\";\n    }\n    if (root.Bokeh !== undefined) {\n      if (el != null) {\n        el.textContent = \"BokehJS \" + root.Bokeh.version + \" successfully loaded.\";\n      }\n    } else if (Date.now() < root._bokeh_timeout) {\n      setTimeout(display_loaded, 100)\n    }\n  }\n\n  function run_callbacks() {\n    try {\n      root._bokeh_onload_callbacks.forEach(function(callback) {\n        if (callback != null)\n          callback();\n      });\n    } finally {\n      delete root._bokeh_onload_callbacks\n    }\n    console.debug(\"Bokeh: all callbacks have finished\");\n  }\n\n  function load_libs(css_urls, js_urls, callback) {\n    if (css_urls == null) css_urls = [];\n    if (js_urls == null) js_urls = [];\n\n    root._bokeh_onload_callbacks.push(callback);\n    if (root._bokeh_is_loading > 0) {\n      console.debug(\"Bokeh: BokehJS is being loaded, scheduling callback at\", now());\n      return null;\n    }\n    if (js_urls == null || js_urls.length === 0) {\n      run_callbacks();\n      return null;\n    }\n    console.debug(\"Bokeh: BokehJS not loaded, scheduling load and callback at\", now());\n    root._bokeh_is_loading = css_urls.length + js_urls.length;\n\n    function on_load() {\n      root._bokeh_is_loading--;\n      if (root._bokeh_is_loading === 0) {\n        console.debug(\"Bokeh: all BokehJS libraries/stylesheets loaded\");\n        run_callbacks()\n      }\n    }\n\n    function on_error(url) {\n      console.error(\"failed to load \" + url);\n    }\n\n    for (let i = 0; i < css_urls.length; i++) {\n      const url = css_urls[i];\n      const element = document.createElement(\"link\");\n      element.onload = on_load;\n      element.onerror = on_error.bind(null, url);\n      element.rel = \"stylesheet\";\n      element.type = \"text/css\";\n      element.href = url;\n      console.debug(\"Bokeh: injecting link tag for BokehJS stylesheet: \", url);\n      document.body.appendChild(element);\n    }\n\n    for (let i = 0; i < js_urls.length; i++) {\n      const url = js_urls[i];\n      const element = document.createElement('script');\n      element.onload = on_load;\n      element.onerror = on_error.bind(null, url);\n      element.async = false;\n      element.src = url;\n      console.debug(\"Bokeh: injecting script tag for BokehJS library: \", url);\n      document.head.appendChild(element);\n    }\n  };\n\n  function inject_raw_css(css) {\n    const element = document.createElement(\"style\");\n    element.appendChild(document.createTextNode(css));\n    document.body.appendChild(element);\n  }\n\n  const js_urls = [\"https://cdn.bokeh.org/bokeh/release/bokeh-3.3.0.min.js\", \"https://cdn.bokeh.org/bokeh/release/bokeh-gl-3.3.0.min.js\", \"https://cdn.bokeh.org/bokeh/release/bokeh-widgets-3.3.0.min.js\", \"https://cdn.bokeh.org/bokeh/release/bokeh-tables-3.3.0.min.js\", \"https://cdn.bokeh.org/bokeh/release/bokeh-mathjax-3.3.0.min.js\"];\n  const css_urls = [];\n\n  const inline_js = [    function(Bokeh) {\n      Bokeh.set_log_level(\"info\");\n    },\nfunction(Bokeh) {\n    }\n  ];\n\n  function run_inline_js() {\n    if (root.Bokeh !== undefined || force === true) {\n          for (let i = 0; i < inline_js.length; i++) {\n      inline_js[i].call(root, root.Bokeh);\n    }\nif (force === true) {\n        display_loaded();\n      }} else if (Date.now() < root._bokeh_timeout) {\n      setTimeout(run_inline_js, 100);\n    } else if (!root._bokeh_failed_load) {\n      console.log(\"Bokeh: BokehJS failed to load within specified timeout.\");\n      root._bokeh_failed_load = true;\n    } else if (force !== true) {\n      const cell = $(document.getElementById(\"d4f11038-d0e2-4366-a23c-75b07a131cad\")).parents('.cell').data().cell;\n      cell.output_area.append_execute_result(NB_LOAD_WARNING)\n    }\n  }\n\n  if (root._bokeh_is_loading === 0) {\n    console.debug(\"Bokeh: BokehJS loaded, going straight to plotting\");\n    run_inline_js();\n  } else {\n    load_libs(css_urls, js_urls, function() {\n      console.debug(\"Bokeh: BokehJS plotting callback run at\", now());\n      run_inline_js();\n    });\n  }\n}(window));",
      "application/vnd.bokehjs_load.v0+json": ""
     },
     "metadata": {},
     "output_type": "display_data"
    }
   ],
   "source": [
    "from bokeh.io import output_notebook\n",
    "from bokeh.plotting import figure, show\n",
    "from ipywidgets import interactive \n",
    "\n",
    "output_notebook()\n",
    "\n",
    "def GeneralKalmanFilter( trueTheta, transitionMatrix, transitionNoiseVariance, observationMatrix, observationNoiseVariance, priorThetaMean, priorThetaVariance,number):\n",
    "\n",
    "    #simulat some data\n",
    "    TrueThetas, Observations = GenerateSample(trueTheta,transitionMatrix, transitionNoiseVariance, observationMatrix, observationNoiseVariance, number)\n",
    "    \n",
    "    #Calculate predicted theta for each time step as well as the posterior\n",
    "    ObservationPrediction ,ThetasPredictedMean ,ThetasPredictedVar,ThetasPosteriorMean, ThetasPosteriorVar = PredictedAndPosterior( Observations, priorThetaMean, priorThetaVariance,transitionMatrix, transitionNoiseVariance, observationMatrix, observationNoiseVariance)\n",
    "    return TrueThetas, Observations, ObservationPrediction ,ThetasPredictedMean , ThetasPredictedVar,ThetasPosteriorMean, ThetasPosteriorVar\n",
    "    \n",
    "    \n",
    "    "
   ]
  },
  {
   "cell_type": "code",
   "execution_count": null,
   "metadata": {},
   "outputs": [],
   "source": []
  },
  {
   "cell_type": "markdown",
   "metadata": {},
   "source": [
    "# Visualising Kalamn Filter in 1D "
   ]
  },
  {
   "cell_type": "code",
   "execution_count": 168,
   "metadata": {},
   "outputs": [],
   "source": [
    "\n",
    "TrueThetas, Observations, ObservationPrediction ,ThetasPredictedMean , ThetasPredictedVar,ThetasPosteriorMean, ThetasPosteriorVar=GeneralKalmanFilter(\n",
    "    #True Theta\n",
    "    np.full((1,1), 2),\n",
    "    #Transition Matrix\n",
    "    np.full((1,1), 1.1),\n",
    "    #TransitionNoiseVariance\n",
    "    np.full((1,1), 1),\n",
    "    #Observation Matrix\n",
    "    np.full((1,1), 2),\n",
    "    #ObservationNoiseVariance\n",
    "    np.full((1,1), 1),\n",
    "    #priorTheta Mean\n",
    "    np.full((1,1), 3),\n",
    "    #priorTheta Variance\n",
    "    np.full((1,1), 2),\n",
    "    #number of observations\n",
    "    33              \n",
    ")\n"
   ]
  },
  {
   "cell_type": "code",
   "execution_count": 169,
   "metadata": {},
   "outputs": [
    {
     "data": {
      "text/html": [
       "\n",
       "  <div id=\"a1e33a6a-02f2-4c27-8684-95d18ebfccf2\" data-root-id=\"p1277\" style=\"display: contents;\"></div>\n"
      ]
     },
     "metadata": {},
     "output_type": "display_data"
    },
    {
     "data": {
      "application/javascript": "(function(root) {\n  function embed_document(root) {\n  const docs_json = {\"bc427689-7dc2-49c5-95da-cd88796ad355\":{\"version\":\"3.3.0\",\"title\":\"Bokeh Application\",\"roots\":[{\"type\":\"object\",\"name\":\"Figure\",\"id\":\"p1277\",\"attributes\":{\"x_range\":{\"type\":\"object\",\"name\":\"DataRange1d\",\"id\":\"p1278\"},\"y_range\":{\"type\":\"object\",\"name\":\"DataRange1d\",\"id\":\"p1279\"},\"x_scale\":{\"type\":\"object\",\"name\":\"LinearScale\",\"id\":\"p1287\"},\"y_scale\":{\"type\":\"object\",\"name\":\"LinearScale\",\"id\":\"p1288\"},\"title\":{\"type\":\"object\",\"name\":\"Title\",\"id\":\"p1280\",\"attributes\":{\"text\":\"Gaussian DLM\"}},\"renderers\":[{\"type\":\"object\",\"name\":\"GlyphRenderer\",\"id\":\"p1312\",\"attributes\":{\"data_source\":{\"type\":\"object\",\"name\":\"ColumnDataSource\",\"id\":\"p1306\",\"attributes\":{\"selected\":{\"type\":\"object\",\"name\":\"Selection\",\"id\":\"p1307\",\"attributes\":{\"indices\":[],\"line_indices\":[]}},\"selection_policy\":{\"type\":\"object\",\"name\":\"UnionRenderers\",\"id\":\"p1308\"},\"data\":{\"type\":\"map\",\"entries\":[[\"x\",{\"type\":\"ndarray\",\"array\":{\"type\":\"bytes\",\"data\":\"AAAAAAAAAAAAAAAAAIDwPwAAAAAAgABAAAAAAADACEAAAAAAAIAQQAAAAAAAoBRAAAAAAADAGEAAAAAAAOAcQAAAAAAAgCBAAAAAAACQIkAAAAAAAKAkQAAAAAAAsCZAAAAAAADAKEAAAAAAANAqQAAAAAAA4CxAAAAAAADwLkAAAAAAAIAwQAAAAAAAiDFAAAAAAACQMkAAAAAAAJgzQAAAAAAAoDRAAAAAAACoNUAAAAAAALA2QAAAAAAAuDdAAAAAAADAOEAAAAAAAMg5QAAAAAAA0DpAAAAAAADYO0AAAAAAAOA8QAAAAAAA6D1AAAAAAADwPkAAAAAAAPg/QAAAAAAAgEBA\"},\"shape\":[33],\"dtype\":\"float64\",\"order\":\"little\"}],[\"y\",{\"type\":\"ndarray\",\"array\":{\"type\":\"bytes\",\"data\":\"Z2ZmZmZmGkDtp81O6NnEvwA0KqidHMS/VOUJdFTDBMD7DUcr0vwSwIjvSVCgKhbAW++YC8oQFcC6eqv9yJIawC7iF9EQeRPAZ469LUedEcCgjS3T044ZwGy06vMZlBfA0ySTFUfGI8BhdsaU0BwiwJPgam0LKiLACKWB3/piIsCfS2nRdcgiwI+KGDjEHCfATtp4ANhvLMBl3Y5jVu8vwB+rhftkOzHA3vyO4oGDMsDdWMPd/u0ywCJsSi1N2zPA7pt9J/qSN8C+5y7YXZE6wEp3wEXBij7AABdxss4MQMAhJlnN9JJAwBoT1+R8jkDA2HjGyogbQ8BIP+MN8/NDwCQ1RxiocUTA\"},\"shape\":[33],\"dtype\":\"float64\",\"order\":\"little\"}]]}}},\"view\":{\"type\":\"object\",\"name\":\"CDSView\",\"id\":\"p1313\",\"attributes\":{\"filter\":{\"type\":\"object\",\"name\":\"AllIndices\",\"id\":\"p1314\"}}},\"glyph\":{\"type\":\"object\",\"name\":\"Circle\",\"id\":\"p1309\",\"attributes\":{\"x\":{\"type\":\"field\",\"field\":\"x\"},\"y\":{\"type\":\"field\",\"field\":\"y\"},\"size\":{\"type\":\"value\",\"value\":8},\"line_color\":{\"type\":\"value\",\"value\":\"green\"},\"fill_color\":{\"type\":\"value\",\"value\":\"green\"},\"hatch_color\":{\"type\":\"value\",\"value\":\"green\"}}},\"nonselection_glyph\":{\"type\":\"object\",\"name\":\"Circle\",\"id\":\"p1310\",\"attributes\":{\"x\":{\"type\":\"field\",\"field\":\"x\"},\"y\":{\"type\":\"field\",\"field\":\"y\"},\"size\":{\"type\":\"value\",\"value\":8},\"line_color\":{\"type\":\"value\",\"value\":\"green\"},\"line_alpha\":{\"type\":\"value\",\"value\":0.1},\"fill_color\":{\"type\":\"value\",\"value\":\"green\"},\"fill_alpha\":{\"type\":\"value\",\"value\":0.1},\"hatch_color\":{\"type\":\"value\",\"value\":\"green\"},\"hatch_alpha\":{\"type\":\"value\",\"value\":0.1}}},\"muted_glyph\":{\"type\":\"object\",\"name\":\"Circle\",\"id\":\"p1311\",\"attributes\":{\"x\":{\"type\":\"field\",\"field\":\"x\"},\"y\":{\"type\":\"field\",\"field\":\"y\"},\"size\":{\"type\":\"value\",\"value\":8},\"line_color\":{\"type\":\"value\",\"value\":\"green\"},\"line_alpha\":{\"type\":\"value\",\"value\":0.2},\"fill_color\":{\"type\":\"value\",\"value\":\"green\"},\"fill_alpha\":{\"type\":\"value\",\"value\":0.2},\"hatch_color\":{\"type\":\"value\",\"value\":\"green\"},\"hatch_alpha\":{\"type\":\"value\",\"value\":0.2}}}}},{\"type\":\"object\",\"name\":\"GlyphRenderer\",\"id\":\"p1323\",\"attributes\":{\"data_source\":{\"type\":\"object\",\"name\":\"ColumnDataSource\",\"id\":\"p1317\",\"attributes\":{\"selected\":{\"type\":\"object\",\"name\":\"Selection\",\"id\":\"p1318\",\"attributes\":{\"indices\":[],\"line_indices\":[]}},\"selection_policy\":{\"type\":\"object\",\"name\":\"UnionRenderers\",\"id\":\"p1319\"},\"data\":{\"type\":\"map\",\"entries\":[[\"x\",{\"type\":\"ndarray\",\"array\":{\"type\":\"bytes\",\"data\":\"AAAAAAAAAAAAAAAAAIDwPwAAAAAAgABAAAAAAADACEAAAAAAAIAQQAAAAAAAoBRAAAAAAADAGEAAAAAAAOAcQAAAAAAAgCBAAAAAAACQIkAAAAAAAKAkQAAAAAAAsCZAAAAAAADAKEAAAAAAANAqQAAAAAAA4CxAAAAAAADwLkAAAAAAAIAwQAAAAAAAiDFAAAAAAACQMkAAAAAAAJgzQAAAAAAAoDRAAAAAAACoNUAAAAAAALA2QAAAAAAAuDdAAAAAAADAOEAAAAAAAMg5QAAAAAAA0DpAAAAAAADYO0AAAAAAAOA8QAAAAAAA6D1AAAAAAADwPkAAAAAAAPg/QAAAAAAAgEBA\"},\"shape\":[33],\"dtype\":\"float64\",\"order\":\"little\"}],[\"y\",{\"type\":\"ndarray\",\"array\":{\"type\":\"bytes\",\"data\":\"45nOcR+G5L8Ug+h/XMjBv6p9tsDtYwbACHVir5CiEsBQjrMIPGIUwKMaGSdijBLAVDbKxWPGGMDmpVDs9NwPwNC2nSsCpQ7A5IvjaEdbGMCpmDXDopwUwPunBEZUNiPADU5C5VucH8DOHcnTjTEgwB/US4wBbSDAbkZMA1DQIMAILpkRxHQlwCcVEZANZirAWmReXYcmLcC1Djqt2DUvwDLxyc4gwDDAuX9kEcHyMMAWeftOTOAxwHVZdPjPvjXAxb5xT6BEOMBLwfQHLAE8wCC7yiMK6TzAiXQxZwK+PcBkk14gsn49wPWGKjFziEHA/MTLQxbyQcC6tKVn+U9CwNGT7Ij480HA\"},\"shape\":[33],\"dtype\":\"float64\",\"order\":\"little\"}]]}}},\"view\":{\"type\":\"object\",\"name\":\"CDSView\",\"id\":\"p1324\",\"attributes\":{\"filter\":{\"type\":\"object\",\"name\":\"AllIndices\",\"id\":\"p1325\"}}},\"glyph\":{\"type\":\"object\",\"name\":\"Circle\",\"id\":\"p1320\",\"attributes\":{\"x\":{\"type\":\"field\",\"field\":\"x\"},\"y\":{\"type\":\"field\",\"field\":\"y\"},\"size\":{\"type\":\"value\",\"value\":8},\"line_color\":{\"type\":\"value\",\"value\":\"red\"},\"fill_color\":{\"type\":\"value\",\"value\":\"red\"},\"hatch_color\":{\"type\":\"value\",\"value\":\"red\"}}},\"nonselection_glyph\":{\"type\":\"object\",\"name\":\"Circle\",\"id\":\"p1321\",\"attributes\":{\"x\":{\"type\":\"field\",\"field\":\"x\"},\"y\":{\"type\":\"field\",\"field\":\"y\"},\"size\":{\"type\":\"value\",\"value\":8},\"line_color\":{\"type\":\"value\",\"value\":\"red\"},\"line_alpha\":{\"type\":\"value\",\"value\":0.1},\"fill_color\":{\"type\":\"value\",\"value\":\"red\"},\"fill_alpha\":{\"type\":\"value\",\"value\":0.1},\"hatch_color\":{\"type\":\"value\",\"value\":\"red\"},\"hatch_alpha\":{\"type\":\"value\",\"value\":0.1}}},\"muted_glyph\":{\"type\":\"object\",\"name\":\"Circle\",\"id\":\"p1322\",\"attributes\":{\"x\":{\"type\":\"field\",\"field\":\"x\"},\"y\":{\"type\":\"field\",\"field\":\"y\"},\"size\":{\"type\":\"value\",\"value\":8},\"line_color\":{\"type\":\"value\",\"value\":\"red\"},\"line_alpha\":{\"type\":\"value\",\"value\":0.2},\"fill_color\":{\"type\":\"value\",\"value\":\"red\"},\"fill_alpha\":{\"type\":\"value\",\"value\":0.2},\"hatch_color\":{\"type\":\"value\",\"value\":\"red\"},\"hatch_alpha\":{\"type\":\"value\",\"value\":0.2}}}}}],\"toolbar\":{\"type\":\"object\",\"name\":\"Toolbar\",\"id\":\"p1286\",\"attributes\":{\"tools\":[{\"type\":\"object\",\"name\":\"PanTool\",\"id\":\"p1299\"},{\"type\":\"object\",\"name\":\"WheelZoomTool\",\"id\":\"p1300\",\"attributes\":{\"renderers\":\"auto\"}},{\"type\":\"object\",\"name\":\"BoxZoomTool\",\"id\":\"p1301\",\"attributes\":{\"overlay\":{\"type\":\"object\",\"name\":\"BoxAnnotation\",\"id\":\"p1302\",\"attributes\":{\"syncable\":false,\"level\":\"overlay\",\"visible\":false,\"left_units\":\"canvas\",\"right_units\":\"canvas\",\"top_units\":\"canvas\",\"bottom_units\":\"canvas\",\"line_color\":\"black\",\"line_alpha\":1.0,\"line_width\":2,\"line_dash\":[4,4],\"fill_color\":\"lightgrey\",\"fill_alpha\":0.5}}}},{\"type\":\"object\",\"name\":\"SaveTool\",\"id\":\"p1303\"},{\"type\":\"object\",\"name\":\"ResetTool\",\"id\":\"p1304\"},{\"type\":\"object\",\"name\":\"HelpTool\",\"id\":\"p1305\"}]}},\"left\":[{\"type\":\"object\",\"name\":\"LinearAxis\",\"id\":\"p1294\",\"attributes\":{\"ticker\":{\"type\":\"object\",\"name\":\"BasicTicker\",\"id\":\"p1295\",\"attributes\":{\"mantissas\":[1,2,5]}},\"formatter\":{\"type\":\"object\",\"name\":\"BasicTickFormatter\",\"id\":\"p1296\"},\"axis_label\":\"Position (ie yk)\",\"major_label_policy\":{\"type\":\"object\",\"name\":\"AllLabels\",\"id\":\"p1297\"}}}],\"below\":[{\"type\":\"object\",\"name\":\"LinearAxis\",\"id\":\"p1289\",\"attributes\":{\"ticker\":{\"type\":\"object\",\"name\":\"BasicTicker\",\"id\":\"p1290\",\"attributes\":{\"mantissas\":[1,2,5]}},\"formatter\":{\"type\":\"object\",\"name\":\"BasicTickFormatter\",\"id\":\"p1291\"},\"axis_label\":\"TimeStep\",\"major_label_policy\":{\"type\":\"object\",\"name\":\"AllLabels\",\"id\":\"p1292\"}}}],\"center\":[{\"type\":\"object\",\"name\":\"Grid\",\"id\":\"p1293\",\"attributes\":{\"axis\":{\"id\":\"p1289\"}}},{\"type\":\"object\",\"name\":\"Grid\",\"id\":\"p1298\",\"attributes\":{\"dimension\":1,\"axis\":{\"id\":\"p1294\"}}},{\"type\":\"object\",\"name\":\"Legend\",\"id\":\"p1315\",\"attributes\":{\"items\":[{\"type\":\"object\",\"name\":\"LegendItem\",\"id\":\"p1316\",\"attributes\":{\"label\":{\"type\":\"value\",\"value\":\"Positions Predicted\"},\"renderers\":[{\"id\":\"p1312\"}]}},{\"type\":\"object\",\"name\":\"LegendItem\",\"id\":\"p1326\",\"attributes\":{\"label\":{\"type\":\"value\",\"value\":\"Observed Positions\"},\"renderers\":[{\"id\":\"p1323\"}]}}]}}]}}]}};\n  const render_items = [{\"docid\":\"bc427689-7dc2-49c5-95da-cd88796ad355\",\"roots\":{\"p1277\":\"a1e33a6a-02f2-4c27-8684-95d18ebfccf2\"},\"root_ids\":[\"p1277\"]}];\n  root.Bokeh.embed.embed_items_notebook(docs_json, render_items);\n  }\n  if (root.Bokeh !== undefined) {\n    embed_document(root);\n  } else {\n    let attempts = 0;\n    const timer = setInterval(function(root) {\n      if (root.Bokeh !== undefined) {\n        clearInterval(timer);\n        embed_document(root);\n      } else {\n        attempts++;\n        if (attempts > 100) {\n          clearInterval(timer);\n          console.log(\"Bokeh: ERROR: Unable to run BokehJS code because BokehJS library is missing\");\n        }\n      }\n    }, 10, root)\n  }\n})(window);",
      "application/vnd.bokehjs_exec.v0+json": ""
     },
     "metadata": {
      "application/vnd.bokehjs_exec.v0+json": {
       "id": "p1277"
      }
     },
     "output_type": "display_data"
    }
   ],
   "source": [
    "# Plot predictions against observations\n",
    "yObs = np.array(Observations)\n",
    "a,b,c = yObs.shape\n",
    "yObs= yObs.reshape((a,b*c))\n",
    "\n",
    "yPred = np.array(ObservationPrediction)\n",
    "a,b,c = yPred.shape\n",
    "yPred= yPred.reshape((a,b*c))\n",
    "\n",
    "x = np.linspace( 0 ,len(yPred),  len(yPred)) \n",
    "p = figure(title=\"Gaussian DLM\", x_axis_label=\"TimeStep\", y_axis_label=\"Position (ie yk)\")\n",
    "p.circle(x, yPred[:,0], legend_label=\"Positions Predicted\", color=\"green\", size=8)\n",
    "p.circle(x, yObs[:,0], legend_label=\"Observed Positions\", color=\"red\", size=8)\n",
    "show(p) \n"
   ]
  },
  {
   "cell_type": "code",
   "execution_count": 170,
   "metadata": {},
   "outputs": [],
   "source": [
    "#Plotting distribution of posterior and predicted mu along time\n",
    "import numpy as np\n",
    "import matplotlib.pyplot as plt \n",
    "from ipywidgets import interactive \n",
    "from scipy.stats import norm \n",
    "import math\n",
    "\n",
    "ThetasPredictedMean = np.concatenate( ThetasPredictedMean, axis=0 )\n",
    "ThetasPredictedMean =  [float(item[0]) for item in ThetasPredictedMean] \n",
    "\n",
    "ThetasPredictedVar = np.concatenate( ThetasPredictedVar, axis=0 )\n",
    "ThetasPredictedVar =  [float(item[0]) for item in ThetasPredictedVar] \n",
    "\n",
    "ThetasPosteriorMean = np.concatenate( ThetasPosteriorMean, axis=0 )\n",
    "ThetasPosteriorMean =  [float(item[0]) for item in ThetasPosteriorMean] \n",
    "\n",
    "ThetasPosteriorVar = np.concatenate( ThetasPosteriorVar, axis=0 )\n",
    "ThetasPosteriorVar =  [float(item[0]) for item in ThetasPosteriorVar] \n",
    "    \n"
   ]
  },
  {
   "cell_type": "code",
   "execution_count": 171,
   "metadata": {},
   "outputs": [
    {
     "data": {
      "application/vnd.jupyter.widget-view+json": {
       "model_id": "877399160de74b329553b037c0d269fa",
       "version_major": 2,
       "version_minor": 0
      },
      "text/plain": [
       "interactive(children=(IntSlider(value=0, description='Timestep', max=30), Output()), _dom_classes=('widget-int…"
      ]
     },
     "execution_count": 171,
     "metadata": {},
     "output_type": "execute_result"
    }
   ],
   "source": [
    "def EstimateofTheta(Timestep = 0):\n",
    "    \n",
    "    # Graph from 0 to 100, include 10000 points.\n",
    "    x = np.linspace( -40 ,40,  100000) \n",
    "    \n",
    "    \n",
    "    plt.plot(x, norm.pdf(x, ThetasPredictedMean[Timestep], ThetasPredictedVar[Timestep]),label =\"Distribution of predicted mu\")\n",
    "    plt.plot(x, norm.pdf(x, ThetasPosteriorMean[Timestep], ThetasPosteriorVar[Timestep]),label =\"Distribution of posterior mu\")\n",
    "\n",
    "    plt.axvline(x = TrueThetas[Timestep], color = 'b', label = 'theta k')\n",
    "\n",
    "    plt.grid()\n",
    "    plt.legend()\n",
    "    plt.title(\"Estimate of theta k\")\n",
    "    plt.xlabel(\"x\")\n",
    "    plt.ylabel(\"f(x)\")\n",
    "\n",
    "\n",
    "    \n",
    "interactive_plot = interactive(EstimateofTheta, Timestep = (0,30,1) )\n",
    "interactive_plot"
   ]
  },
  {
   "cell_type": "markdown",
   "metadata": {},
   "source": [
    "# Properties of Signatures "
   ]
  },
  {
   "cell_type": "code",
   "execution_count": 20,
   "metadata": {},
   "outputs": [],
   "source": [
    "\n",
    "import iisignature \n",
    "import numpy as np\n",
    "path = np.random.uniform(size=(50,3)) \n",
    "signature = iisignature.sig(path ,4)\n",
    "s = iisignature.prepare(3,4)\n",
    "logsignature = iisignature.logsig(path,s)"
   ]
  },
  {
   "cell_type": "code",
   "execution_count": 21,
   "metadata": {},
   "outputs": [],
   "source": [
    "from PIL import ImageTk, Image, ImageDraw\n",
    "import PIL\n",
    "import numpy as np\n",
    "from tkinter import *\n",
    "import random\n",
    "import csv\n",
    "width = 200  # canvas width\n",
    "height = 200 # canvas height\n",
    "center = height//2\n",
    "white = (255, 255, 255) # canvas back\n",
    "\n",
    "def save():\n",
    "    # save image to hard drive\n",
    "    fileName= random.randint(1, 2000)\n",
    "    output_image.save(\"2.jpg\")\n",
    "    temp = \"/Users/ambarjin/Desktop/Y4 Data Sci/Dissertation/NumberData/Training/3/\" +str(fileName)+\".npy\"\n",
    "    x=np.array(Coordinnates)\n",
    "    np.save(temp, x)\n",
    "      \n",
    "    print(Coordinnates)\n",
    "    Coordinnates.clear()\n",
    "    \n",
    "\n",
    "def paint(event):\n",
    "    x1, y1 = (event.x - 1), (event.y - 1)\n",
    "    x2, y2 = (event.x + 1), (event.y + 1)\n",
    "    Coordinnates.append( [x1, y1])\n",
    "    canvas.create_oval(x1, y1, x2, y2, fill=\"black\",width=55)\n",
    "    draw.line([x1, y1, x2, y2],fill=\"black\",width=55)\n",
    "\n",
    "master = Tk()\n",
    "\n",
    "# create a tkinter canvas to draw on\n",
    "canvas = Canvas(master, width=width, height=height, bg='white')\n",
    "canvas.pack()\n",
    "Coordinnates =[]\n",
    "# create an empty PIL image and draw object to draw on\n",
    "output_image = PIL.Image.new(\"RGB\", (width, height), white)\n",
    "draw = ImageDraw.Draw(output_image)\n",
    "canvas.pack(expand=YES, fill=BOTH)\n",
    "canvas.bind(\"<B1-Motion>\", paint)\n",
    "\n",
    "# add a button to save the image\n",
    "button=Button(text=\"save\",command=save)\n",
    "button.pack()\n",
    "\n",
    "master.mainloop()"
   ]
  },
  {
   "cell_type": "markdown",
   "metadata": {},
   "source": [
    "# Estimating Transition Matrix of Kalman Filter using Signatures (1D scenario with lag)"
   ]
  },
  {
   "cell_type": "code",
   "execution_count": 9,
   "metadata": {},
   "outputs": [],
   "source": [
    "def LeadLag(path,lagging =1):\n",
    "    if lagging == 0:\n",
    "        return path\n",
    "    \n",
    "    path = np.repeat(path, lagging+1,axis=0)\n",
    "    lead = np.copy(path)\n",
    "    lead = lead[lagging:]\n",
    "    lag = np.copy(path)\n",
    "    lag = path[:-lagging]\n",
    "\n",
    "    \n",
    "    path = np.concatenate((lead,lag),axis=1)\n",
    "    return(path)"
   ]
  },
  {
   "cell_type": "code",
   "execution_count": 252,
   "metadata": {},
   "outputs": [],
   "source": [
    "import iisignature \n",
    "from sklearn.model_selection import train_test_split\n",
    "from sklearn.ensemble import RandomForestClassifier\n",
    "from sklearn.metrics import accuracy_score, classification_report\n",
    "from sklearn.linear_model import LogisticRegression\n",
    "import random\n",
    "\n",
    "def Train(SignatureLevel= 0,testSize = 0.2,Smoothed = False,Lag =1,n_estim =50):\n",
    "    labels =[]\n",
    "    Data = []\n",
    "    for i in [0.8,1.2,0.5]:\n",
    "        for t in range(0,100):\n",
    "\n",
    "            rand = random.randint(0,9)\n",
    "            TrueThetas, Observations, ObservationPrediction ,ThetasPredictedMean , ThetasPredictedVar,ThetasPosteriorMean, ThetasPosteriorVar=GeneralKalmanFilter(\n",
    "                #True Theta\n",
    "                np.full((1,1), rand),\n",
    "                #Transition Matrix\n",
    "                np.full((1,1), i),\n",
    "                #TransitionNoiseVariance\n",
    "                np.full((1,1), 3),\n",
    "                #Observation Matrix\n",
    "                np.full((1,1), 2),\n",
    "                #ObservationNoiseVariance\n",
    "                np.full((1,1), 3),\n",
    "                #priorTheta Mean\n",
    "                np.full((1,1), 3),\n",
    "                #priorTheta Variance\n",
    "                np.full((1,1), 2),\n",
    "                #number of observations\n",
    "                33              \n",
    "            )\n",
    "            if Smoothed:\n",
    "                Observations = ObservationPrediction\n",
    "            if(SignatureLevel>0):\n",
    "                \n",
    "                Observations = np.array(Observations)\n",
    "                a,b,c = Observations.shape\n",
    "                Observations=Observations.reshape(a,b*c)\n",
    "                Observations = LeadLag(Observations,lagging=Lag)\n",
    "                signature = iisignature.sig(Observations ,SignatureLevel)\n",
    "                Data.append(signature)\n",
    "            else:\n",
    "                Data.append(Observations)\n",
    "            \n",
    "            labels.append(int((i-1)/0.1))\n",
    "            \n",
    "        \n",
    "    Data = np.array(Data)\n",
    "    if len(Data.shape) == 3:\n",
    "        height,a,b= Data.shape\n",
    "        reshape = a*b\n",
    "        Data = Data.reshape(height,reshape)\n",
    "    if len(Data.shape) == 4:\n",
    "        height,a,b,c= Data.shape\n",
    "        reshape = a*b*c\n",
    "        Data = Data.reshape(height,reshape)\n",
    "\n",
    "    \n",
    "    print(Data[0])\n",
    "   \n",
    "    accuracy =[]\n",
    "    for i in range(1,11):\n",
    "        X_train, X_test, y_train, y_test = train_test_split(Data, labels, test_size=testSize)\n",
    "        clf = RandomForestClassifier(n_estimators=n_estim, random_state=42)   # You can choose a different classifier\n",
    "        clf.fit(X_train, y_train)\n",
    "        y_pred = clf.predict(X_test)\n",
    "        accuracy.append( accuracy_score(y_test, y_pred))\n",
    "        \n",
    "    #report = classification_report(y_test, y_pred)\n",
    "\n",
    "    return np.mean(accuracy)\n",
    "\n",
    "\n",
    "\n"
   ]
  },
  {
   "cell_type": "markdown",
   "metadata": {},
   "source": [
    "## Estimating using observations"
   ]
  },
  {
   "cell_type": "code",
   "execution_count": null,
   "metadata": {},
   "outputs": [],
   "source": [
    "label = []\n",
    "testSize =[]\n",
    "accuracy =[]\n",
    "\n",
    "for p in [0,1,2,3,4,5,6,7]:\n",
    "    for i in [0.1,0.2,0.3,0.4,0.5,0.6,0.7]:\n",
    "        label.append(p)\n",
    "        testSize.append(i)\n",
    "        accuracy.append(Train(SignatureLevel=p,testSize=i))\n",
    "        \n",
    "\n",
    "for i in range(len(accuracy)):\n",
    "    accuracy[i]=(accuracy[i] * 100)\n",
    "for i in range(len(testSize)):\n",
    "    testSize[i]=(testSize[i] * 100)"
   ]
  },
  {
   "cell_type": "code",
   "execution_count": 175,
   "metadata": {},
   "outputs": [
    {
     "data": {
      "image/png": "[encoded data removed]",
      "text/plain": [
       "<Figure size 432x288 with 1 Axes>"
      ]
     },
     "metadata": {
      "needs_background": "light"
     },
     "output_type": "display_data"
    }
   ],
   "source": [
    "for t in [0,1,2,3,4,5,6,7]:\n",
    "    p = [index for index, value in enumerate(label) if value == t]\n",
    "    if(t==0):\n",
    "        plt.plot([ testSize[i] for i in p],[ accuracy[i] for i in p], label = \"no Signature \") \n",
    "  \n",
    "    else:\n",
    "        plt.plot([ testSize[i] for i in p],[ accuracy[i] for i in p], label = 'Level'+str(t)) \n",
    "    \n",
    "\n",
    "plt.title(\"Random Forest Classifier (Observations)\")\n",
    "plt.ylabel(\"Accuracy (%)\")\n",
    "plt.xlabel(\"Test Size (%)\")\n",
    "plt.legend() \n",
    "plt.show()"
   ]
  },
  {
   "cell_type": "code",
   "execution_count": null,
   "metadata": {},
   "outputs": [],
   "source": [
    "label = []\n",
    "lagging =[]\n",
    "accuracy =[]\n",
    "\n",
    "for p in [0,1,2,3,4,5,6,7]:\n",
    "    for i in [0,1,2,3,4,5]:\n",
    "        label.append(p)\n",
    "        lagging.append(i)\n",
    "        accuracy.append(Train(SignatureLevel=p,testSize=0.2,Lag=i))\n",
    "        \n",
    "for i in range(len(accuracy)):\n",
    "    accuracy[i]=(accuracy[i] * 100)"
   ]
  },
  {
   "cell_type": "code",
   "execution_count": null,
   "metadata": {},
   "outputs": [
    {
     "data": {
      "image/png": "[encoded data removed]",
      "text/plain": [
       "<Figure size 432x288 with 1 Axes>"
      ]
     },
     "metadata": {
      "needs_background": "light"
     },
     "output_type": "display_data"
    }
   ],
   "source": [
    "\n",
    "\n",
    "\n",
    "    \n",
    "for t in [0,1,2,3,4,5,6,7]:\n",
    "    p = [index for index, value in enumerate(label) if value == t]\n",
    "    if(t==0):\n",
    "        plt.plot([ lagging[i] for i in p],[ accuracy[p[0]] ] * len(p), label = \"no Signature(No lag)\") \n",
    "  \n",
    "    else:\n",
    "        plt.plot([ lagging[i] for i in p],[ accuracy[i] for i in p], label = 'Level'+str(t)) \n",
    "    \n",
    "\n",
    "plt.title(\"Effect of Lag Random Forest Classifier (Observations)\")\n",
    "plt.ylabel(\"Accuracy (%)\")\n",
    "plt.xlabel(\"Lag\")\n",
    "plt.legend() \n",
    "plt.show()"
   ]
  },
  {
   "cell_type": "markdown",
   "metadata": {},
   "source": [
    "## Estimating using filtered observations"
   ]
  },
  {
   "cell_type": "code",
   "execution_count": null,
   "metadata": {},
   "outputs": [],
   "source": [
    "label = []\n",
    "testSize =[]\n",
    "accuracy =[]\n",
    "\n",
    "for p in [0,1,2,3,4,5,6,7]:\n",
    "    for i in [0.1,0.2,0.3,0.4,0.5,0.6,0.7]:\n",
    "        label.append(p)\n",
    "        testSize.append(i)\n",
    "        accuracy.append(Train(SignatureLevel=p,testSize=i,Smoothed=True,Lag=1))\n",
    "        \n",
    "\n",
    "for i in range(len(accuracy)):\n",
    "    accuracy[i]=(accuracy[i] * 100)\n",
    "for i in range(len(testSize)):\n",
    "    testSize[i]=(testSize[i] * 100)\n",
    "    \n"
   ]
  },
  {
   "cell_type": "code",
   "execution_count": null,
   "metadata": {},
   "outputs": [
    {
     "data": {
      "image/png": "[encoded data removed]",
      "text/plain": [
       "<Figure size 432x288 with 1 Axes>"
      ]
     },
     "metadata": {
      "needs_background": "light"
     },
     "output_type": "display_data"
    }
   ],
   "source": [
    "for t in [0,1,2,3,4,5,6,7]:\n",
    "    p = [index for index, value in enumerate(label) if value == t]\n",
    "    if(t==0):\n",
    "        plt.plot([ testSize[i] for i in p],[ accuracy[i] for i in p], label = \"no Signature\") \n",
    "\n",
    "    else:\n",
    "        plt.plot([ testSize[i] for i in p],[ accuracy[i] for i in p], label = 'Level'+str(t)) \n",
    "\n",
    "\n",
    "plt.title(\"Random Forest Classifier (Smoothed)\")\n",
    "plt.ylabel(\"Accuracy (%)\")\n",
    "plt.xlabel(\"Test Size (%)\")\n",
    "plt.legend() \n",
    "plt.show()"
   ]
  },
  {
   "cell_type": "code",
   "execution_count": 184,
   "metadata": {},
   "outputs": [],
   "source": [
    "label = []\n",
    "lagging =[]\n",
    "accuracy =[]\n",
    "\n",
    "for p in [0,3,4,5,6,7]:\n",
    "    for i in [0,1,2,3,4,5]:\n",
    "        label.append(p)\n",
    "        lagging.append(i)\n",
    "        accuracy.append(Train(SignatureLevel=p,testSize=0.2,Lag=i,Smoothed=True))\n",
    "        \n",
    "for i in range(len(accuracy)):\n",
    "    accuracy[i]=(accuracy[i] * 100)"
   ]
  },
  {
   "cell_type": "code",
   "execution_count": 185,
   "metadata": {},
   "outputs": [
    {
     "data": {
      "image/png": "[encoded data removed]",
      "text/plain": [
       "<Figure size 432x288 with 1 Axes>"
      ]
     },
     "metadata": {
      "needs_background": "light"
     },
     "output_type": "display_data"
    }
   ],
   "source": [
    "for t in [0,3,4,5,6,7]:\n",
    "    p = [index for index, value in enumerate(label) if value == t]\n",
    "    if(t==0):\n",
    "        plt.plot([ lagging[i] for i in p],[ accuracy[p[0]] ] * len(p), label = \"no Signature(No lag)\") \n",
    "  \n",
    "    else:\n",
    "        plt.plot([ lagging[i] for i in p],[ accuracy[i] for i in p], label = 'Level'+str(t)) \n",
    "    \n",
    "\n",
    "plt.title(\"Effect of Lag Random Forest Classifier (Smoothed)\")\n",
    "plt.ylabel(\"Accuracy (%)\")\n",
    "plt.xlabel(\"Lag\")\n",
    "plt.legend() \n",
    "plt.show()"
   ]
  },
  {
   "cell_type": "markdown",
   "metadata": {},
   "source": []
  },
  {
   "cell_type": "markdown",
   "metadata": {},
   "source": [
    "# 2D motion Model\n"
   ]
  },
  {
   "cell_type": "code",
   "execution_count": 218,
   "metadata": {},
   "outputs": [],
   "source": [
    "observation_variance = 1.2\n",
    "transition_variance = 0.4\n",
    "\n",
    "\n",
    "TrueThetas, Observations, ObservationPrediction ,ThetasPredictedMean , ThetasPredictedVar,ThetasPosteriorMean, ThetasPosteriorVar=GeneralKalmanFilter(\n",
    "    #True Theta\n",
    "    np.array([[1,1,2,3]]).T,\n",
    "    #Transition Matrix\n",
    "    np.array([[1, 0, 1, 0],[0, 1, 0, 1],[0, 0, 1, 0],[0, 0, 0, 1]]),\n",
    "    #TransitionNoiseVariance\n",
    "    transition_variance * np.eye(4),\n",
    "    #Observation Matrix\n",
    "    np.array([[1, 0, 0, 0],\n",
    "              [0, 1, 0, 0]]),\n",
    "    #ObservationNoiseVariance\n",
    "    observation_variance * np.eye(2),   \n",
    "    #priorTheta Mean\n",
    "    np.array([[1,1,3,4]]).T,\n",
    "    #priorTheta Variance\n",
    "    3* np.eye(4),\n",
    "    #number of observations\n",
    "    33              \n",
    ")\n"
   ]
  },
  {
   "cell_type": "code",
   "execution_count": 219,
   "metadata": {},
   "outputs": [],
   "source": [
    "yObs = np.array(Observations)\n",
    "a,b,c = yObs.shape\n",
    "yObs= yObs.reshape((a,b*c))\n",
    "\n",
    "yPred = np.array(ObservationPrediction)\n",
    "a,b,c = yPred.shape\n",
    "yPred= yPred.reshape((a,b*c))"
   ]
  },
  {
   "cell_type": "code",
   "execution_count": 220,
   "metadata": {},
   "outputs": [
    {
     "data": {
      "text/html": [
       "\n",
       "  <div id=\"e8146640-747d-483b-9c70-9c9a470f45bd\" data-root-id=\"p1385\" style=\"display: contents;\"></div>\n"
      ]
     },
     "metadata": {},
     "output_type": "display_data"
    },
    {
     "data": {
      "application/javascript": "(function(root) {\n  function embed_document(root) {\n  const docs_json = {\"a102dc21-303b-40e2-9dea-4cd3751c7e27\":{\"version\":\"3.3.0\",\"title\":\"Bokeh Application\",\"roots\":[{\"type\":\"object\",\"name\":\"Figure\",\"id\":\"p1385\",\"attributes\":{\"x_range\":{\"type\":\"object\",\"name\":\"DataRange1d\",\"id\":\"p1386\"},\"y_range\":{\"type\":\"object\",\"name\":\"DataRange1d\",\"id\":\"p1387\"},\"x_scale\":{\"type\":\"object\",\"name\":\"LinearScale\",\"id\":\"p1395\"},\"y_scale\":{\"type\":\"object\",\"name\":\"LinearScale\",\"id\":\"p1396\"},\"title\":{\"type\":\"object\",\"name\":\"Title\",\"id\":\"p1388\",\"attributes\":{\"text\":\"Gaussian DLM\"}},\"renderers\":[{\"type\":\"object\",\"name\":\"GlyphRenderer\",\"id\":\"p1420\",\"attributes\":{\"data_source\":{\"type\":\"object\",\"name\":\"ColumnDataSource\",\"id\":\"p1414\",\"attributes\":{\"selected\":{\"type\":\"object\",\"name\":\"Selection\",\"id\":\"p1415\",\"attributes\":{\"indices\":[],\"line_indices\":[]}},\"selection_policy\":{\"type\":\"object\",\"name\":\"UnionRenderers\",\"id\":\"p1416\"},\"data\":{\"type\":\"map\",\"entries\":[[\"x\",{\"type\":\"ndarray\",\"array\":{\"type\":\"bytes\",\"data\":\"AAAAAAAAFEDvkMK8UKIfQIJosSo+eCBAvzDUt/ZFKkDCeR9YfMcpQASWp/rSvzFAxgXs9Xr2NEC8xtVW+yM3QKm7+aTqdjlAOIkjAxsXO0BUhjitbWc7QOjWUHFQoT1AfwGtnlmdPkCwhbXEtitAQO3xmLG7RkFAKciqhJPcQEBMCrGjo8pBQLqNVPsSNEJAyJUNRuCoQUBzzYz/SeRAQEswY7oEtj9AXUW2fU4kOkBMkJxMbRA3QOCVGUVqLjNAv3RIthDQMEDN49LrKcEqQNrEWpKE8SZAjwkwcFYoJECRyoT3fMoaQDopu5izABVA0f7gqfBvEkCoCrFBnCMQQER/bwf5w+S/\"},\"shape\":[33],\"dtype\":\"float64\",\"order\":\"little\"}],[\"y\",{\"type\":\"ndarray\",\"array\":{\"type\":\"bytes\",\"data\":\"AAAAAAAAEECvlX5UFYohQMAE+/EiOCRAXJUc/2M7JkBCNA1pmxEaQJTQSVVkgyBA9B/XAJUlI0CNgBri8y4jQPbQg25T6CJAj2ek5Bz0KEBI47EoqakqQAqAIgaEpipA+sTSLGqwL0DUrQweDNIxQDzQo687WzRAmkr/E6M+NkARz+EcYsk4QD4nwJnhNjxA9uQZytucP0A7vn1eTCdAQFi5Ji4fO0FAT7b3OQ4yQkC5PjUbLEhFQMOKn0noKEdA+mUM21ePSUDpGV7HIkxLQK/9wNEqeU5AOXwJ5/JVUEAE6Jd3Y/9QQAmCC3le8FFAh2GyFWD+UkAy2sfwA0ZUQHWxyyQJf1RA\"},\"shape\":[33],\"dtype\":\"float64\",\"order\":\"little\"}]]}}},\"view\":{\"type\":\"object\",\"name\":\"CDSView\",\"id\":\"p1421\",\"attributes\":{\"filter\":{\"type\":\"object\",\"name\":\"AllIndices\",\"id\":\"p1422\"}}},\"glyph\":{\"type\":\"object\",\"name\":\"Line\",\"id\":\"p1417\",\"attributes\":{\"x\":{\"type\":\"field\",\"field\":\"x\"},\"y\":{\"type\":\"field\",\"field\":\"y\"},\"line_color\":\"green\"}},\"nonselection_glyph\":{\"type\":\"object\",\"name\":\"Line\",\"id\":\"p1418\",\"attributes\":{\"x\":{\"type\":\"field\",\"field\":\"x\"},\"y\":{\"type\":\"field\",\"field\":\"y\"},\"line_color\":\"green\",\"line_alpha\":0.1}},\"muted_glyph\":{\"type\":\"object\",\"name\":\"Line\",\"id\":\"p1419\",\"attributes\":{\"x\":{\"type\":\"field\",\"field\":\"x\"},\"y\":{\"type\":\"field\",\"field\":\"y\"},\"line_color\":\"green\",\"line_alpha\":0.2}}}},{\"type\":\"object\",\"name\":\"GlyphRenderer\",\"id\":\"p1431\",\"attributes\":{\"data_source\":{\"type\":\"object\",\"name\":\"ColumnDataSource\",\"id\":\"p1425\",\"attributes\":{\"selected\":{\"type\":\"object\",\"name\":\"Selection\",\"id\":\"p1426\",\"attributes\":{\"indices\":[],\"line_indices\":[]}},\"selection_policy\":{\"type\":\"object\",\"name\":\"UnionRenderers\",\"id\":\"p1427\"},\"data\":{\"type\":\"map\",\"entries\":[[\"x\",{\"type\":\"ndarray\",\"array\":{\"type\":\"bytes\",\"data\":\"/btxEFd4EEC0CsaBfQ8VQNrIMYxUzyRAZtXOyy20I0BsYZeydgYvQE014zg++TFAc/2aFHgaNEAKU7LG9q82QORlTMkkdzhAintB6UocOUA0yHznxec7QIH3ur+1wjxA5BX1ZTm9PkD9LRc1jHNAQMIjPizz9T9Ac2eIf+JHQUCeZBYkDpNBQG8u3wKhHUFAwfnrMGKvQED0VCdrm+c/QE+69LCF+jpATZd2OgtNOUDMhj+47bA1QF6Qi1qftjNAjZYWP8MiMEB9Ls6JutAsQBL23s/3YClAplMweNryIUA6zBR/jk8fQGTHB3iYTBtAkBiI1JIRF0DZPAf/bOPpPzJ2bm9GcNi/\"},\"shape\":[33],\"dtype\":\"float64\",\"order\":\"little\"}],[\"y\",{\"type\":\"ndarray\",\"array\":{\"type\":\"bytes\",\"data\":\"bWQe8Ce5FUDqfoKQIAEcQK3CttV2LyFA+JD4vhcPE0D2xxLQllIgQN8MET6S/CFAk4/iVSCgIUCKt6GWK9IhQNa9g2EvKShA7oKxw7dYKEBtSOEOto0oQFk7vbS3Iy5AnV9KO7aFMEBy2kDzANcyQC0HEKHCbTRAXOCbmJTvNkBAsvdlgiI6QPmLkZT/Hj1A658vSyiXPUAxNgA8/ipAQKThXqVbIUFAdW/WMMs0RECJYMOj/31FQLoAaMxb0UdAXgfxgORdSUB7s+Jr5ZJMQI8yg4J7Zk5AO1z+eW/DT0Cpg9fK4fRQQDcVJhmKBVJAcYZTH5RFU0AQfo/dEW5TQJJavcNhGFVA\"},\"shape\":[33],\"dtype\":\"float64\",\"order\":\"little\"}]]}}},\"view\":{\"type\":\"object\",\"name\":\"CDSView\",\"id\":\"p1432\",\"attributes\":{\"filter\":{\"type\":\"object\",\"name\":\"AllIndices\",\"id\":\"p1433\"}}},\"glyph\":{\"type\":\"object\",\"name\":\"Line\",\"id\":\"p1428\",\"attributes\":{\"x\":{\"type\":\"field\",\"field\":\"x\"},\"y\":{\"type\":\"field\",\"field\":\"y\"},\"line_color\":\"red\"}},\"nonselection_glyph\":{\"type\":\"object\",\"name\":\"Line\",\"id\":\"p1429\",\"attributes\":{\"x\":{\"type\":\"field\",\"field\":\"x\"},\"y\":{\"type\":\"field\",\"field\":\"y\"},\"line_color\":\"red\",\"line_alpha\":0.1}},\"muted_glyph\":{\"type\":\"object\",\"name\":\"Line\",\"id\":\"p1430\",\"attributes\":{\"x\":{\"type\":\"field\",\"field\":\"x\"},\"y\":{\"type\":\"field\",\"field\":\"y\"},\"line_color\":\"red\",\"line_alpha\":0.2}}}}],\"toolbar\":{\"type\":\"object\",\"name\":\"Toolbar\",\"id\":\"p1394\",\"attributes\":{\"tools\":[{\"type\":\"object\",\"name\":\"PanTool\",\"id\":\"p1407\"},{\"type\":\"object\",\"name\":\"WheelZoomTool\",\"id\":\"p1408\",\"attributes\":{\"renderers\":\"auto\"}},{\"type\":\"object\",\"name\":\"BoxZoomTool\",\"id\":\"p1409\",\"attributes\":{\"overlay\":{\"type\":\"object\",\"name\":\"BoxAnnotation\",\"id\":\"p1410\",\"attributes\":{\"syncable\":false,\"level\":\"overlay\",\"visible\":false,\"left_units\":\"canvas\",\"right_units\":\"canvas\",\"top_units\":\"canvas\",\"bottom_units\":\"canvas\",\"line_color\":\"black\",\"line_alpha\":1.0,\"line_width\":2,\"line_dash\":[4,4],\"fill_color\":\"lightgrey\",\"fill_alpha\":0.5}}}},{\"type\":\"object\",\"name\":\"SaveTool\",\"id\":\"p1411\"},{\"type\":\"object\",\"name\":\"ResetTool\",\"id\":\"p1412\"},{\"type\":\"object\",\"name\":\"HelpTool\",\"id\":\"p1413\"}]}},\"left\":[{\"type\":\"object\",\"name\":\"LinearAxis\",\"id\":\"p1402\",\"attributes\":{\"ticker\":{\"type\":\"object\",\"name\":\"BasicTicker\",\"id\":\"p1403\",\"attributes\":{\"mantissas\":[1,2,5]}},\"formatter\":{\"type\":\"object\",\"name\":\"BasicTickFormatter\",\"id\":\"p1404\"},\"axis_label\":\"y\",\"major_label_policy\":{\"type\":\"object\",\"name\":\"AllLabels\",\"id\":\"p1405\"}}}],\"below\":[{\"type\":\"object\",\"name\":\"LinearAxis\",\"id\":\"p1397\",\"attributes\":{\"ticker\":{\"type\":\"object\",\"name\":\"BasicTicker\",\"id\":\"p1398\",\"attributes\":{\"mantissas\":[1,2,5]}},\"formatter\":{\"type\":\"object\",\"name\":\"BasicTickFormatter\",\"id\":\"p1399\"},\"axis_label\":\"x\",\"major_label_policy\":{\"type\":\"object\",\"name\":\"AllLabels\",\"id\":\"p1400\"}}}],\"center\":[{\"type\":\"object\",\"name\":\"Grid\",\"id\":\"p1401\",\"attributes\":{\"axis\":{\"id\":\"p1397\"}}},{\"type\":\"object\",\"name\":\"Grid\",\"id\":\"p1406\",\"attributes\":{\"dimension\":1,\"axis\":{\"id\":\"p1402\"}}},{\"type\":\"object\",\"name\":\"Legend\",\"id\":\"p1423\",\"attributes\":{\"items\":[{\"type\":\"object\",\"name\":\"LegendItem\",\"id\":\"p1424\",\"attributes\":{\"label\":{\"type\":\"value\",\"value\":\"Positions Predicted\"},\"renderers\":[{\"id\":\"p1420\"}]}},{\"type\":\"object\",\"name\":\"LegendItem\",\"id\":\"p1434\",\"attributes\":{\"label\":{\"type\":\"value\",\"value\":\"Observed Positions\"},\"renderers\":[{\"id\":\"p1431\"}]}}]}}]}}]}};\n  const render_items = [{\"docid\":\"a102dc21-303b-40e2-9dea-4cd3751c7e27\",\"roots\":{\"p1385\":\"e8146640-747d-483b-9c70-9c9a470f45bd\"},\"root_ids\":[\"p1385\"]}];\n  root.Bokeh.embed.embed_items_notebook(docs_json, render_items);\n  }\n  if (root.Bokeh !== undefined) {\n    embed_document(root);\n  } else {\n    let attempts = 0;\n    const timer = setInterval(function(root) {\n      if (root.Bokeh !== undefined) {\n        clearInterval(timer);\n        embed_document(root);\n      } else {\n        attempts++;\n        if (attempts > 100) {\n          clearInterval(timer);\n          console.log(\"Bokeh: ERROR: Unable to run BokehJS code because BokehJS library is missing\");\n        }\n      }\n    }, 10, root)\n  }\n})(window);",
      "application/vnd.bokehjs_exec.v0+json": ""
     },
     "metadata": {
      "application/vnd.bokehjs_exec.v0+json": {
       "id": "p1385"
      }
     },
     "output_type": "display_data"
    }
   ],
   "source": [
    "p = figure(title=\"Gaussian DLM\", x_axis_label=\"x\", y_axis_label=\"y\")\n",
    "p.line(yPred[:,1],yPred[:,0], legend_label=\"Positions Predicted\", color=\"green\")\n",
    "p.line(yObs[:,1],yObs[:,0], legend_label=\"Observed Positions\", color=\"red\" )\n",
    "show(p) \n"
   ]
  },
  {
   "cell_type": "markdown",
   "metadata": {},
   "source": [
    "# 3D contant velocity model\n"
   ]
  },
  {
   "cell_type": "code",
   "execution_count": 70,
   "metadata": {},
   "outputs": [],
   "source": [
    "xMoveVar=1\n",
    "yMoveVar=1\n",
    "zMoveVar=0\n",
    "T=1\n",
    "observationNoise=1\n",
    "param=1\n",
    "TrueThetas, Observations, ObservationPrediction ,ThetasPredictedMean , ThetasPredictedVar,ThetasPosteriorMean, ThetasPosteriorVar=GeneralKalmanFilter(\n",
    "                #True Theta\n",
    "                #[x,xVel,y,yVel,z]\n",
    "                np.array( [[1,1,3,3,0]]).T,\n",
    "                #Transition Matrix\n",
    "                np.array([\n",
    "                            [ 1, param*T, 0, 0, 0],\n",
    "                            [ 0, 1, 0, 0, 0],\n",
    "                            [ 0, 0, 1, param*T, 0],\n",
    "                            [ 0, 0, 0, 1, 0],\n",
    "                            [ 0, 0, 0, 0, 1]\n",
    "                        ]),\n",
    "                #TransitionNoiseVariance\n",
    "                np.array([\n",
    "                            [ xMoveVar*( (T**4)/4 ), xMoveVar*( (T**3)/2 ), 0, 0,0],\n",
    "                            [ xMoveVar*( (T**3)/2), xMoveVar*( T**2 ), 0, 0, 0],\n",
    "                            [ 0, 0, yMoveVar*( (T**4)/4 ), yMoveVar*( (T**3)/2 ), 0],\n",
    "                            [ 0, 0,yMoveVar*( (T**3)/2 ), yMoveVar*( T**2 ), 0],\n",
    "                            [ 0, 0, 0, 0, zMoveVar]\n",
    "                        ]),\n",
    "                #Observation Matrix\n",
    "                np.array([\n",
    "                            [ 1, 0, 0, 0, 0],\n",
    "                            [ 0, 0, 1, 0, 0],\n",
    "                            [ 0, 0, 0, 0, 1]\n",
    "                        ]),\n",
    "                #ObservationNoiseVariance\n",
    "                #observationNoise * np.eye(3),\n",
    "                np.array([\n",
    "                            [ 1, 0, 0],\n",
    "                            [ 0, 1, 0],\n",
    "                            [ 0, 0, 0.01]\n",
    "                        ]),   \n",
    "                #priorTheta Mean\n",
    "                np.array([ [1,3,3,5,0]]).T,\n",
    "                #priorTheta Variance\n",
    "                2* np.eye(5),\n",
    "                #number of observations\n",
    "                33              \n",
    "            ) "
   ]
  },
  {
   "cell_type": "code",
   "execution_count": 77,
   "metadata": {},
   "outputs": [
    {
     "data": {
      "image/png": "[encoded data removed]",
      "text/plain": [
       "<Figure size 432x288 with 1 Axes>"
      ]
     },
     "metadata": {
      "needs_background": "light"
     },
     "output_type": "display_data"
    }
   ],
   "source": [
    "Observations = np.array(Observations)\n",
    "Observations = Observations.reshape(Observations.shape[0],-1)\n",
    "\n",
    "ObservationPrediction = np.array(ObservationPrediction)\n",
    "ObservationPrediction = ObservationPrediction.reshape(ObservationPrediction.shape[0],-1)\n",
    "from mpl_toolkits import mplot3d\n",
    "import numpy as np\n",
    "import matplotlib.pyplot as plt\n",
    "\n",
    "\n",
    "fig = plt.figure()\n",
    " \n",
    "# syntax for 3-D projection\n",
    "ax = plt.axes(projection ='3d')\n",
    " \n",
    "# defining all 3 axis\n",
    "\n",
    " \n",
    "# plotting\n",
    "ax.plot(Observations[:,1],Observations[:,0],Observations[:,2], 'green')\n",
    "ax.plot(ObservationPrediction[:,1],ObservationPrediction[:,0],ObservationPrediction[:,2], 'red')\n",
    "ax.axes.set_zlim3d(bottom=0, top=10) \n",
    "\n",
    "ax.set_title('Constant velocity model')\n",
    "plt.show()"
   ]
  },
  {
   "cell_type": "markdown",
   "metadata": {},
   "source": [
    "# Predict rate of Velocity change"
   ]
  },
  {
   "cell_type": "markdown",
   "metadata": {},
   "source": [
    "## Random Forest Classifier"
   ]
  },
  {
   "cell_type": "code",
   "execution_count": 63,
   "metadata": {},
   "outputs": [],
   "source": [
    "from sklearn.ensemble import RandomForestClassifier\n",
    "import iisignature \n",
    "import numpy as np\n",
    "import math\n",
    "import iisignature \n",
    "from sklearn.model_selection import train_test_split\n",
    "from sklearn.ensemble import RandomForestClassifier\n",
    "from sklearn.metrics import accuracy_score, classification_report\n",
    "from sklearn.linear_model import LogisticRegression\n",
    "import random\n",
    "def Train3D(xMoveVar=1, yMoveVar=1, zMoveVar=0.01, T=1, lag= 0, SignatureLevel=0, observationNoise=1,SignatureLog= False,pathType='Observations',testSize=0.2):\n",
    "    labels =[]\n",
    "    Data = []\n",
    "    for param in [1,0.9, 1.1]:\n",
    "        for k in range(0,100):\n",
    "            x = random.randint(0,22)\n",
    "            y= random.randint(0,22)\n",
    "            \n",
    "            TrueThetas, Observations, ObservationPrediction ,ThetasPredictedMean , ThetasPredictedVar,ThetasPosteriorMean, ThetasPosteriorVar=GeneralKalmanFilter(\n",
    "                #True Theta\n",
    "                #[x,xVel,y,yVel,z]\n",
    "                np.array( [[x,1,y,3,0]]).T,\n",
    "                #Transition Matrix\n",
    "                np.array([\n",
    "                            [ 1, param*T, 0, 0, 0],\n",
    "                            [ 0, 1, 0, 0, 0],\n",
    "                            [ 0, 0, 1, param*T, 0],\n",
    "                            [ 0, 0, 0, 1, 0],\n",
    "                            [ 0, 0, 0, 0, 1]\n",
    "                        ]),\n",
    "                #TransitionNoiseVariance\n",
    "                np.array([\n",
    "                            [ xMoveVar*( (T**4)/4 ), xMoveVar*( (T**3)/2 ), 0, 0,0],\n",
    "                            [ xMoveVar*( (T**3)/2), xMoveVar*( T**2 ), 0, 0, 0],\n",
    "                            [ 0, 0, yMoveVar*( (T**4)/4 ), yMoveVar*( (T**3)/2 ), 0],\n",
    "                            [ 0, 0,yMoveVar*( (T**3)/2 ), yMoveVar*( T**2 ), 0],\n",
    "                            [ 0, 0, 0, 0, zMoveVar]\n",
    "                        ]),\n",
    "                #Observation Matrix\n",
    "                np.array([\n",
    "                            [ 1, 0, 0, 0, 0],\n",
    "                            [ 0, 0, 1, 0, 0],\n",
    "                            [ 0, 0, 0, 0, 1]\n",
    "                        ]),\n",
    "                #ObservationNoiseVariance\n",
    "                observationNoise * np.eye(3),   \n",
    "                #priorTheta Mean\n",
    "                np.array([ [x,3,y,5,0]]).T,\n",
    "                #priorTheta Variance\n",
    "                2* np.eye(5),\n",
    "                #number of observations\n",
    "                33              \n",
    "            )                  \n",
    "            if( pathType == 'Observations'):\n",
    "                path = Observations\n",
    "                d=3\n",
    "            elif( pathType == 'ObservationPrediction'):\n",
    "                path = ObservationPrediction\n",
    "                d=3\n",
    "            elif( pathType == 'ThetasPosteriorMean'):\n",
    "                path = ThetasPosteriorMean\n",
    "                d=5\n",
    "            \n",
    "            path = np.array(path)\n",
    "            a,b,c = path.shape\n",
    "            path = path.reshape(a,b*c)\n",
    "            if(SignatureLevel>0):\n",
    "               \n",
    "                path = LeadLag(path,lagging=lag)\n",
    "               \n",
    "                if( SignatureLog ):\n",
    "                    if(lag>0):\n",
    "                        d= d*2\n",
    "                    s = iisignature.prepare(d,SignatureLevel)\n",
    "                    signature = iisignature.logsig(path,s)\n",
    "                else:\n",
    "                    signature = iisignature.sig(path ,SignatureLevel)\n",
    "                \n",
    "                Data.append(signature)\n",
    "\n",
    "            else:\n",
    "               \n",
    "                path = LeadLag(path,lagging=lag)\n",
    "               \n",
    "                Data.append(path)\n",
    "            \n",
    "         \n",
    "            labels.append(int(round((param-0.9)/0.1)))\n",
    "    \n",
    "   \n",
    "    Data= np.array(Data)\n",
    "    \n",
    "    Data = Data.reshape(Data.shape[0],-1)\n",
    "    accuracy =[]\n",
    "    for i in range(1,21):\n",
    "        X_train, X_test, y_train, y_test = train_test_split(Data, labels, test_size=testSize)\n",
    "        clf = RandomForestClassifier(n_estimators=30, random_state=42)   # You can choose a different classifier\n",
    "        clf.fit(X_train, y_train)\n",
    "        y_pred = clf.predict(X_test)\n",
    "        accuracy.append( accuracy_score(y_test, y_pred))\n",
    "        \n",
    "    #report = classification_report(y_test, y_pred)\n",
    "    return np.mean(accuracy)\n",
    "\n",
    "            "
   ]
  },
  {
   "cell_type": "code",
   "execution_count": 64,
   "metadata": {},
   "outputs": [
    {
     "name": "stdout",
     "output_type": "stream",
     "text": [
      "Lag 0 + Observation\n",
      "0.34249999999999997\n",
      "Lag 1 + Observation\n",
      "0.3766666666666666\n",
      "Lag 0 + ObservationPrediction\n",
      "0.35\n",
      "Lag 1 + ObservationPrediction\n",
      "0.36333333333333334\n"
     ]
    }
   ],
   "source": [
    "#def Train3D(param=1,xMoveVar=1, yMoveVar=1, zMoveVar=0.01, T=1, lag= 0, SignatureLevel=0, observationNoise=1,SignatureLog= False,pathType='Observations',testSize=0.2):\n",
    "print(\"Lag 0 + Observation\")\n",
    "print(Train3D(lag=0))\n",
    "\n",
    "print(\"Lag 1 + Observation\")\n",
    "print(Train3D(lag=1))\n",
    "\n",
    "print(\"Lag 0 + ObservationPrediction\")\n",
    "print(Train3D(lag=0,pathType='ObservationPrediction'))\n",
    "\n",
    "print(\"Lag 1 + ObservationPrediction\")\n",
    "print(Train3D(lag=1,pathType='ObservationPrediction'))"
   ]
  },
  {
   "cell_type": "code",
   "execution_count": 65,
   "metadata": {},
   "outputs": [
    {
     "name": "stdout",
     "output_type": "stream",
     "text": [
      "Lag 0 + LogSig(Observations, 3)\n",
      "0.3508333333333333\n",
      "Lag 1 + LogSig(Observations, 3)\n",
      "0.3625\n",
      "Lag 0 + LogSig(Smoothed Observations, 3)\n",
      "0.3575\n",
      "Lag 1 + LogSig(Smoothed Observations, 3)\n",
      "0.3608333333333333\n"
     ]
    }
   ],
   "source": [
    "print(\"Lag 0 + LogSig(Observations, 3)\")\n",
    "print(Train3D(SignatureLog=True,SignatureLevel=3,lag=0))\n",
    "print(\"Lag 1 + LogSig(Observations, 3)\")\n",
    "print(Train3D(SignatureLog=True,SignatureLevel=3,lag=1))\n",
    "print(\"Lag 0 + LogSig(Smoothed Observations, 3)\")\n",
    "print(Train3D(SignatureLog=True,SignatureLevel=3,lag=0,pathType='ObservationPrediction'))\n",
    "\n",
    "\n",
    "print(\"Lag 1 + LogSig(Smoothed Observations, 3)\")\n",
    "print(Train3D(SignatureLog=True,SignatureLevel=3,lag=1,pathType='ObservationPrediction'))"
   ]
  },
  {
   "cell_type": "code",
   "execution_count": 66,
   "metadata": {},
   "outputs": [
    {
     "name": "stdout",
     "output_type": "stream",
     "text": [
      "Lag 0 + Sig(Observations, 5)\n",
      "0.345\n",
      "Lag 1 + Sig(Observations, 5)\n",
      "0.32499999999999996\n",
      "Lag 0 + Sig(Smoothed Observations, 5)\n",
      "0.3366666666666666\n",
      "Lag 1 + Sig(Smoothed Observations, 5)\n",
      "0.3458333333333333\n"
     ]
    }
   ],
   "source": [
    "print(\"Lag 0 + Sig(Observations, 5)\")\n",
    "print(Train3D(SignatureLog=False,SignatureLevel=5,lag=0))\n",
    "print(\"Lag 1 + Sig(Observations, 5)\")\n",
    "print(Train3D(SignatureLog=False,SignatureLevel=5,lag=1))\n",
    "print(\"Lag 0 + Sig(Smoothed Observations, 5)\")\n",
    "print(Train3D(SignatureLog=False,SignatureLevel=5,lag=0,pathType='ObservationPrediction'))\n",
    "\n",
    "\n",
    "print(\"Lag 1 + Sig(Smoothed Observations, 5)\")\n",
    "print(Train3D(SignatureLog=False,SignatureLevel=5,lag=1,pathType='ObservationPrediction'))"
   ]
  },
  {
   "cell_type": "markdown",
   "metadata": {},
   "source": [
    "## With Neural Network"
   ]
  },
  {
   "cell_type": "code",
   "execution_count": 47,
   "metadata": {},
   "outputs": [],
   "source": [
    "import numpy as np\n",
    "import tensorflow as tf\n",
    "from tensorflow.keras.models import Sequential\n",
    "from tensorflow.keras.layers import LSTM, Dense\n",
    "from sklearn.model_selection import train_test_split\n",
    "import random\n",
    "from tensorflow.keras.layers import Flatten, Dense\n",
    "\n",
    "\n",
    "import iisignature \n",
    "import numpy as np\n",
    "import math\n",
    "\n",
    "def Train3DNN(xMoveVar=1, yMoveVar=1, zMoveVar=0.01, T=1, lag= 0, SignatureLevel=0, observationNoise=1,SignatureLog= False,pathType='Observations',testSize=0.2):\n",
    "    labels =[]\n",
    "    Data = []\n",
    "    for param in [1,0.9, 1.1]:\n",
    "        for k in range(0,100):\n",
    "            x = random.randint(0,22)\n",
    "            y= random.randint(0,22)\n",
    "            \n",
    "            TrueThetas, Observations, ObservationPrediction ,ThetasPredictedMean , ThetasPredictedVar,ThetasPosteriorMean, ThetasPosteriorVar=GeneralKalmanFilter(\n",
    "                #True Theta\n",
    "                #[x,xVel,y,yVel,z]\n",
    "                np.array( [[x,1,y,3,0]]).T,\n",
    "                #Transition Matrix\n",
    "                np.array([\n",
    "                            [ 1, param*T, 0, 0, 0],\n",
    "                            [ 0, 1, 0, 0, 0],\n",
    "                            [ 0, 0, 1, param*T, 0],\n",
    "                            [ 0, 0, 0, 1, 0],\n",
    "                            [ 0, 0, 0, 0, 1]\n",
    "                        ]),\n",
    "                #TransitionNoiseVariance\n",
    "                np.array([\n",
    "                            [ xMoveVar*( (T**4)/4 ), xMoveVar*( (T**3)/2 ), 0, 0,0],\n",
    "                            [ xMoveVar*( (T**3)/2), xMoveVar*( T**2 ), 0, 0, 0],\n",
    "                            [ 0, 0, yMoveVar*( (T**4)/4 ), yMoveVar*( (T**3)/2 ), 0],\n",
    "                            [ 0, 0,yMoveVar*( (T**3)/2 ), yMoveVar*( T**2 ), 0],\n",
    "                            [ 0, 0, 0, 0, zMoveVar]\n",
    "                        ]),\n",
    "                #Observation Matrix\n",
    "                np.array([\n",
    "                            [ 1, 0, 0, 0, 0],\n",
    "                            [ 0, 0, 1, 0, 0],\n",
    "                            [ 0, 0, 0, 0, 1]\n",
    "                        ]),\n",
    "                #ObservationNoiseVariance\n",
    "                observationNoise * np.eye(3),   \n",
    "                #priorTheta Mean\n",
    "                np.array([ [x,3,y,5,0]]).T,\n",
    "                #priorTheta Variance\n",
    "                2* np.eye(5),\n",
    "                #number of observations\n",
    "                33              \n",
    "            )                  \n",
    "            if( pathType == 'Observations'):\n",
    "                path = Observations\n",
    "                d=3\n",
    "            elif( pathType == 'ObservationPrediction'):\n",
    "                path = ObservationPrediction\n",
    "                d=3\n",
    "            elif( pathType == 'ThetasPosteriorMean'):\n",
    "                path = ThetasPosteriorMean\n",
    "                d=5\n",
    "        \n",
    "            \n",
    "            path = np.array(path)\n",
    "            a,b,c = path.shape\n",
    "            path = path.reshape(a,b*c)\n",
    "            if(SignatureLevel>0):\n",
    "               \n",
    "                path = LeadLag(path,lagging=lag)\n",
    "               \n",
    "                if( SignatureLog ):\n",
    "                    if(lag>0):\n",
    "                        d= d*2\n",
    "                    s = iisignature.prepare(d,SignatureLevel)\n",
    "                    signature = iisignature.logsig(path,s)\n",
    "                else:\n",
    "                    signature = iisignature.sig(path ,SignatureLevel)\n",
    "                \n",
    "                Data.append(signature)\n",
    "\n",
    "            else:\n",
    "               \n",
    "                path = LeadLag(path,lagging=lag)\n",
    "               \n",
    "                Data.append(path)\n",
    "            \n",
    "         \n",
    "            labels.append(int(round((param-0.9)/0.1)))\n",
    "    \n",
    "   \n",
    "    data= np.array(Data)\n",
    "    if(len(data.shape)==2):\n",
    "        data = data.reshape(data.shape[0],data.shape[1],1)\n",
    "    labels = np.array(labels)\n",
    "    num_classes = len(np.unique(labels))\n",
    "    labels = tf.keras.utils.to_categorical(labels, num_classes=num_classes)\n",
    "    accuracies =[]\n",
    "    for i in range(1,11):\n",
    "        X_train, X_test, y_train, y_test = train_test_split(data, labels, test_size=0.2, random_state=42)\n",
    "        model = Sequential()\n",
    "        if(SignatureLevel>0):\n",
    "            model.add(Flatten(input_shape=(data.shape[1], 1)))\n",
    "            model.add(Dense(64, activation='relu'))\n",
    "        else:\n",
    "            model.add(LSTM(50, input_shape=(X_train.shape[1], X_train.shape[2])))\n",
    "        model.add(Dense(num_classes, activation='softmax'))  \n",
    "        model.compile(optimizer='adam', loss='binary_crossentropy', metrics=['accuracy'])\n",
    "\n",
    "        model.fit(X_train, y_train, epochs=10, batch_size=32, validation_data=(X_test, y_test),verbose=0)\n",
    "\n",
    "        loss, accuracy = model.evaluate(X_test, y_test,verbose=0)\n",
    "        accuracies.append(accuracy)\n",
    "    #report = classification_report(y_test, y_pred)\n",
    "    return np.mean(accuracies)\n"
   ]
  },
  {
   "cell_type": "code",
   "execution_count": 48,
   "metadata": {},
   "outputs": [
    {
     "name": "stdout",
     "output_type": "stream",
     "text": [
      "Lag 0 + Observation\n",
      "0.2833333402872086\n",
      "Lag 1 + Observation\n",
      "0.34166666865348816\n",
      "Lag 0 + ObservationPrediction\n",
      "0.28166667073965074\n",
      "Lag 1 + ObservationPrediction\n",
      "0.3133333384990692\n"
     ]
    }
   ],
   "source": [
    "print(\"Lag 0 + Observation\")\n",
    "print(Train3DNN(lag=0))\n",
    "\n",
    "print(\"Lag 1 + Observation\")\n",
    "print(Train3DNN(lag=1))\n",
    "\n",
    "print(\"Lag 0 + ObservationPrediction\")\n",
    "print(Train3DNN(lag=0,pathType='ObservationPrediction'))\n",
    "\n",
    "print(\"Lag 1 + ObservationPrediction\")\n",
    "print(Train3DNN(lag=1,pathType='ObservationPrediction'))"
   ]
  },
  {
   "cell_type": "code",
   "execution_count": 49,
   "metadata": {},
   "outputs": [
    {
     "name": "stdout",
     "output_type": "stream",
     "text": [
      "Lag 0 + Sig(Observations, 3)\n",
      "0.32333333492279054\n",
      "Lag 1 + Sig(Observations, 3)\n",
      "0.28000000268220904\n",
      "Lag 0 + Sig(Smoothed Observations, 3)\n",
      "0.3466666668653488\n",
      "Lag 1 + Sig(Smoothed Observations, 3)\n",
      "0.3583333283662796\n"
     ]
    }
   ],
   "source": [
    "print(\"Lag 0 + Sig(Observations, 3)\")\n",
    "print(Train3DNN(SignatureLog=False,SignatureLevel=3,lag=0))\n",
    "print(\"Lag 1 + Sig(Observations, 3)\")\n",
    "print(Train3DNN(SignatureLog=False,SignatureLevel=3,lag=1))\n",
    "print(\"Lag 0 + Sig(Smoothed Observations, 3)\")\n",
    "print(Train3DNN(SignatureLog=False,SignatureLevel=3,lag=0,pathType='ObservationPrediction'))\n",
    "\n",
    "\n",
    "print(\"Lag 1 + Sig(Smoothed Observations, 3)\")\n",
    "print(Train3DNN(SignatureLog=False,SignatureLevel=3,lag=1,pathType='ObservationPrediction'))"
   ]
  },
  {
   "cell_type": "code",
   "execution_count": 50,
   "metadata": {},
   "outputs": [
    {
     "name": "stdout",
     "output_type": "stream",
     "text": [
      "Lag 0 + LogSig(Observations, 3)\n",
      "0.34000000059604646\n",
      "Lag 1 + LogSig(Observations, 3)\n",
      "0.31500000357627866\n",
      "Lag 0 + LogSig(Smoothed Observations, 3)\n",
      "0.35000000447034835\n",
      "Lag 1 + LogSig(Smoothed Observations, 3)\n",
      "0.3566666662693024\n"
     ]
    }
   ],
   "source": [
    "print(\"Lag 0 + LogSig(Observations, 3)\")\n",
    "print(Train3DNN(SignatureLog=True,SignatureLevel=3,lag=0))\n",
    "print(\"Lag 1 + LogSig(Observations, 3)\")\n",
    "print(Train3DNN(SignatureLog=True,SignatureLevel=3,lag=1))\n",
    "print(\"Lag 0 + LogSig(Smoothed Observations, 3)\")\n",
    "print(Train3DNN(SignatureLog=True,SignatureLevel=3,lag=0,pathType='ObservationPrediction'))\n",
    "\n",
    "\n",
    "print(\"Lag 1 + LogSig(Smoothed Observations, 3)\")\n",
    "print(Train3DNN(SignatureLog=True,SignatureLevel=3,lag=1,pathType='ObservationPrediction'))"
   ]
  },
  {
   "cell_type": "code",
   "execution_count": 69,
   "metadata": {},
   "outputs": [
    {
     "name": "stdout",
     "output_type": "stream",
     "text": [
      "Lag 0 + LogSig(ThetasPosteriorMean, 3)\n",
      "0.3666666686534882\n",
      "Lag 1 + LogSig(ThetasPosteriorMean, 3)\n",
      "0.36833333373069765\n",
      "Lag 0 + Sig(ThetasPosteriorMean, 3)\n",
      "0.3250000044703484\n",
      "Lag 1 + Sig(ThetasPosteriorMean, 3)\n",
      "0.38666666448116305\n"
     ]
    }
   ],
   "source": [
    "\n",
    "print(\"Lag 0 + LogSig(ThetasPosteriorMean, 3)\")\n",
    "print(Train3DNN(SignatureLog=True,SignatureLevel=3,lag=0,pathType='ThetasPosteriorMean'))\n",
    "\n",
    "\n",
    "print(\"Lag 1 + LogSig(ThetasPosteriorMean, 3)\")\n",
    "print(Train3DNN(SignatureLog=True,SignatureLevel=3,lag=1,pathType='ThetasPosteriorMean'))\n",
    "\n",
    "\n",
    "print(\"Lag 0 + Sig(ThetasPosteriorMean, 3)\")\n",
    "print(Train3DNN(SignatureLevel=3,lag=0,pathType='ThetasPosteriorMean'))\n",
    "\n",
    "\n",
    "print(\"Lag 1 + Sig(ThetasPosteriorMean, 3)\")\n",
    "print(Train3DNN(SignatureLevel=3,lag=1,pathType='ThetasPosteriorMean'))"
   ]
  },
  {
   "cell_type": "markdown",
   "metadata": {},
   "source": [
    "# Constant Turn"
   ]
  },
  {
   "cell_type": "markdown",
   "metadata": {},
   "source": []
  },
  {
   "cell_type": "code",
   "execution_count": 55,
   "metadata": {},
   "outputs": [],
   "source": [
    "\n",
    "T=1\n",
    "w= 0.3\n",
    "TrueThetas, Observations, ObservationPrediction ,ThetasPredictedMean , ThetasPredictedVar,ThetasPosteriorMean, ThetasPosteriorVar=GeneralKalmanFilter(\n",
    "                #True Theta\n",
    "                #[x,xVel,y,yVel]\n",
    "                np.array( [[0,1,0,1]]).T,\n",
    "                #Transition Matrix\n",
    "                np.array([\n",
    "                            [ 1, math.sin(w*T)/w, 0, (math.cos(w*T)-1)/w],\n",
    "                            [ 0, math.cos(w*T), 0, -math.sin(w*T)],\n",
    "                            [ 0, (1-math.cos(w*T))/w, 1, math.sin(w*T)/w],\n",
    "                            [ 0, math.sin(w*T), 0, math.cos(w*T)]\n",
    "                        ]),\n",
    "                #TransitionNoiseVariance\n",
    "                np.array([\n",
    "                            [ \n",
    "                                (2*(w*T - math.sin(w*T)))/(w**3), \n",
    "                                (1 - math.cos(w*T))/(w**2), \n",
    "                                0, \n",
    "                                (w*T - math.sin(w*T))/(w**2)\n",
    "                            ],\n",
    "                            [ \n",
    "                                (1 - math.cos(w*T))/(w**2), \n",
    "                                T, \n",
    "                                (math.sin(w*T) - w*T)/(w**2), \n",
    "                                0\n",
    "                            ],\n",
    "                            [ \n",
    "                                0, \n",
    "                                ((math.sin(w*T) - w*T)/(w**2)),\n",
    "                                ((2*(w*T - math.sin(w*T)))/(w**3)),\n",
    "                                ( (1 - math.cos(w*T))/(w**2))\n",
    "                            ],\n",
    "                            [ \n",
    "                                (w*T - math.sin(w*T))/(w**2), \n",
    "                                0,\n",
    "                                ( (1 - math.cos(w*T))/(w**2)), \n",
    "                                T\n",
    "                            ],\n",
    "                        ]),\n",
    "                #Observation Matrix\n",
    "                np.array([\n",
    "                            [ 1, 0, 0, 0],\n",
    "                            [ 0, 0, 1, 0]\n",
    "                        ]),\n",
    "                #ObservationNoiseVariance\n",
    "                #observationNoise * np.eye(3),\n",
    "                np.array([\n",
    "                            [ 0.1, 0],\n",
    "                            [ 0, 0.1]\n",
    "                        ]),   \n",
    "                #priorTheta Mean\n",
    "                np.array([ [0,2,0,3]]).T,\n",
    "                #priorTheta Variance\n",
    "                2* np.eye(4),\n",
    "                #number of observations\n",
    "                33              \n",
    "            ) "
   ]
  },
  {
   "cell_type": "code",
   "execution_count": 58,
   "metadata": {},
   "outputs": [
    {
     "data": {
      "image/png": "[encoded data removed]",
      "text/plain": [
       "<Figure size 432x288 with 1 Axes>"
      ]
     },
     "metadata": {
      "needs_background": "light"
     },
     "output_type": "display_data"
    }
   ],
   "source": [
    "Observations = np.array(Observations)\n",
    "Observations = Observations.reshape(Observations.shape[0],-1)\n",
    "\n",
    "ObservationPrediction = np.array(ObservationPrediction)\n",
    "ObservationPrediction = ObservationPrediction.reshape(ObservationPrediction.shape[0],-1)\n",
    "from mpl_toolkits import mplot3d\n",
    "import numpy as np\n",
    "import matplotlib.pyplot as plt\n",
    "\n",
    "\n",
    "fig = plt.figure()\n",
    " \n",
    "# syntax for 3-D projection\n",
    "ax = plt.axes()\n",
    " \n",
    "# defining all 3 axis\n",
    "\n",
    " \n",
    "# plotting\n",
    "ax.plot(Observations[:,0],Observations[:,1], 'green')\n",
    "ax.plot(ObservationPrediction[:,0],ObservationPrediction[:,1], 'red')\n",
    "\n",
    "\n",
    "ax.set_title('Constant Turn Model with Turn rate 0.3')\n",
    "plt.show()"
   ]
  }
 ],
 "metadata": {
  "kernelspec": {
   "display_name": "Python 3 (ipykernel)",
   "language": "python",
   "name": "python3"
  },
  "language_info": {
   "codemirror_mode": {
    "name": "ipython",
    "version": 3
   },
   "file_extension": ".py",
   "mimetype": "text/x-python",
   "name": "python",
   "nbconvert_exporter": "python",
   "pygments_lexer": "ipython3",
   "version": "3.10.1"
  },
  "vscode": {
   "interpreter": {
    "hash": "aee8b7b246df8f9039afb4144a1f6fd8d2ca17a180786b69acc140d282b71a49"
   }
  }
 },
 "nbformat": 4,
 "nbformat_minor": 2
}
